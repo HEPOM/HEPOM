{
 "cells": [
  {
   "cell_type": "code",
   "execution_count": null,
   "metadata": {},
   "outputs": [],
   "source": [
    "from bondnet.utils import pickle_load\n",
    "from crystal_toolkit.helpers.pythreejs_renderer import view"
   ]
  },
  {
   "cell_type": "code",
   "execution_count": null,
   "metadata": {},
   "outputs": [],
   "source": [
    "def view_all(filename,N=None):\n",
    "    mols = pickle_load(filename)\n",
    "    if N is None:\n",
    "        m_all = mols\n",
    "    elif isinstance(N, tuple):\n",
    "        m_all = mols[N[0]:N[1]]\n",
    "    else:\n",
    "        m_all = mols[N:N+1]\n",
    "    for i,m in enumerate(m_all):\n",
    "        print(i, m.id)\n",
    "        view(m.mol_graph)"
   ]
  },
  {
   "cell_type": "code",
   "execution_count": null,
   "metadata": {},
   "outputs": [],
   "source": [
    "fname = \"~/Applications/db_access/mol_builder/molecules_union_builder.pkl\"\n",
    "view_all(fname, (0,50))"
   ]
  },
  {
   "cell_type": "code",
   "execution_count": null,
   "metadata": {},
   "outputs": [],
   "source": [
    "fname = \"~/Applications/db_access/mol_builder/failed_check_mol_valence.pkl\"\n",
    "#fname = \"~/Applications/db_access/mol_builder/failed_check_bond_species.pkl\"\n",
    "view_all(fname, N=681)"
   ]
  },
  {
   "cell_type": "code",
   "execution_count": null,
   "metadata": {},
   "outputs": [],
   "source": []
  }
 ],
 "metadata": {
  "kernelspec": {
   "display_name": "Python 3",
   "language": "python",
   "name": "python3"
  },
  "language_info": {
   "codemirror_mode": {
    "name": "ipython",
    "version": 3
   },
   "file_extension": ".py",
   "mimetype": "text/x-python",
   "name": "python",
   "nbconvert_exporter": "python",
   "pygments_lexer": "ipython3",
   "version": "3.7.4"
  }
 },
 "nbformat": 4,
 "nbformat_minor": 2
}
