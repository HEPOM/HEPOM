{
 "cells": [
  {
   "cell_type": "code",
   "execution_count": 3,
   "metadata": {},
   "outputs": [
    {
     "name": "stderr",
     "output_type": "stream",
     "text": [
      "/home/santiagovargas/anaconda3/envs/bondnet/lib/python3.7/site-packages/tqdm/auto.py:22: TqdmWarning: IProgress not found. Please update jupyter and ipywidgets. See https://ipywidgets.readthedocs.io/en/stable/user_install.html\n",
      "  from .autonotebook import tqdm as notebook_tqdm\n",
      "Using backend: pytorch\n"
     ]
    },
    {
     "name": "stdout",
     "output_type": "stream",
     "text": [
      "Empty DataFrame\n",
      "Columns: [_id, builder_meta, charge, spin_multiplicity, natoms, elements, nelements, composition, formula_alphabetical, chemsys, symmetry, reaction_id, reactant_id, product_id, transition_state_id, deprecated, reactant_structure, reactant_molecule_graph, reactant_molecule_graph_nometal, reactant_bonds, reactant_bonds_nometal, reactant_energy, reactant_zpe, reactant_enthalpy, reactant_entropy, reactant_free_energy, product_structure, product_molecule_graph, product_molecule_graph_nometal, product_bonds, product_bonds_nometal, product_energy, product_zpe, product_enthalpy, product_entropy, product_free_energy, transition_state_structure, transition_state_energy, transition_state_zpe, transition_state_enthalpy, transition_state_entropy, transition_state_free_energy, dE, dH, dS, dG, dE_barrier, dH_barrier, dS_barrier, dG_barrier, bonds_broken, bond_types_broken, bonds_broken_nometal, bond_types_broken_nometal, bonds_formed, bond_types_formed, bonds_formed_nometal, bond_types_formed_nometal, similar_reactions, _bt]\n",
      "Index: []\n",
      "\n",
      "[0 rows x 60 columns]\n"
     ]
    },
    {
     "data": {
      "text/plain": [
       "{'@module': 'pymatgen.analysis.graphs',\n",
       " '@class': 'MoleculeGraph',\n",
       " 'molecule': {'@module': 'pymatgen.core.structure',\n",
       "  '@class': 'Molecule',\n",
       "  'charge': 0,\n",
       "  'spin_multiplicity': 1,\n",
       "  'sites': [{'name': 'O',\n",
       "    'species': [{'element': 'O', 'occu': 1}],\n",
       "    'xyz': [-3.6939830000000002, -1.816491, 1.754168],\n",
       "    'properties': {}},\n",
       "   {'name': 'C',\n",
       "    'species': [{'element': 'C', 'occu': 1}],\n",
       "    'xyz': [-3.425275, -2.754684, 1.1204],\n",
       "    'properties': {}},\n",
       "   {'name': 'C',\n",
       "    'species': [{'element': 'C', 'occu': 1}],\n",
       "    'xyz': [2.747296, 2.115733, -2.342419],\n",
       "    'properties': {}},\n",
       "   {'name': 'C',\n",
       "    'species': [{'element': 'C', 'occu': 1}],\n",
       "    'xyz': [3.29943, 2.470152, -1.176623],\n",
       "    'properties': {}},\n",
       "   {'name': 'C',\n",
       "    'species': [{'element': 'C', 'occu': 1}],\n",
       "    'xyz': [-3.1194, -3.8097000000000003, 0.399676],\n",
       "    'properties': {}},\n",
       "   {'name': 'C',\n",
       "    'species': [{'element': 'C', 'occu': 1}],\n",
       "    'xyz': [2.667411, 2.234613, 0.09411499999999999],\n",
       "    'properties': {}},\n",
       "   {'name': 'N',\n",
       "    'species': [{'element': 'N', 'occu': 1}],\n",
       "    'xyz': [2.184159, 2.059339, 1.131551],\n",
       "    'properties': {}},\n",
       "   {'name': 'H',\n",
       "    'species': [{'element': 'H', 'occu': 1}],\n",
       "    'xyz': [3.272045, 2.312916, -3.278244],\n",
       "    'properties': {}},\n",
       "   {'name': 'H',\n",
       "    'species': [{'element': 'H', 'occu': 1}],\n",
       "    'xyz': [1.7745389999999999, 1.62677, -2.399463],\n",
       "    'properties': {}},\n",
       "   {'name': 'H',\n",
       "    'species': [{'element': 'H', 'occu': 1}],\n",
       "    'xyz': [4.274953, 2.959498, -1.133764],\n",
       "    'properties': {}},\n",
       "   {'name': 'H',\n",
       "    'species': [{'element': 'H', 'occu': 1}],\n",
       "    'xyz': [-3.690004, -4.008139, -0.506954],\n",
       "    'properties': {}},\n",
       "   {'name': 'H',\n",
       "    'species': [{'element': 'H', 'occu': 1}],\n",
       "    'xyz': [-2.326731, -4.475963, 0.735615],\n",
       "    'properties': {}}]},\n",
       " 'graphs': {'directed': True,\n",
       "  'multigraph': True,\n",
       "  'graph': [['edge_weight_name', 'weight'],\n",
       "   ['edge_weight_units', ''],\n",
       "   ['name', 'bonds']],\n",
       "  'nodes': [{'specie': 'O',\n",
       "    'coords': [-3.6939830000000002, -1.816491, 1.754168],\n",
       "    'properties': {},\n",
       "    'id': 0},\n",
       "   {'specie': 'C',\n",
       "    'coords': [-3.425275, -2.754684, 1.1204],\n",
       "    'properties': {},\n",
       "    'id': 1},\n",
       "   {'specie': 'C',\n",
       "    'coords': [2.747296, 2.115733, -2.342419],\n",
       "    'properties': {},\n",
       "    'id': 2},\n",
       "   {'specie': 'C',\n",
       "    'coords': [3.29943, 2.470152, -1.176623],\n",
       "    'properties': {},\n",
       "    'id': 3},\n",
       "   {'specie': 'C',\n",
       "    'coords': [-3.1194, -3.8097000000000003, 0.399676],\n",
       "    'properties': {},\n",
       "    'id': 4},\n",
       "   {'specie': 'C',\n",
       "    'coords': [2.667411, 2.234613, 0.09411499999999999],\n",
       "    'properties': {},\n",
       "    'id': 5},\n",
       "   {'specie': 'N',\n",
       "    'coords': [2.184159, 2.059339, 1.131551],\n",
       "    'properties': {},\n",
       "    'id': 6},\n",
       "   {'specie': 'H',\n",
       "    'coords': [3.272045, 2.312916, -3.278244],\n",
       "    'properties': {},\n",
       "    'id': 7},\n",
       "   {'specie': 'H',\n",
       "    'coords': [1.7745389999999999, 1.62677, -2.399463],\n",
       "    'properties': {},\n",
       "    'id': 8},\n",
       "   {'specie': 'H',\n",
       "    'coords': [4.274953, 2.959498, -1.133764],\n",
       "    'properties': {},\n",
       "    'id': 9},\n",
       "   {'specie': 'H',\n",
       "    'coords': [-3.690004, -4.008139, -0.506954],\n",
       "    'properties': {},\n",
       "    'id': 10},\n",
       "   {'specie': 'H',\n",
       "    'coords': [-2.326731, -4.475963, 0.735615],\n",
       "    'properties': {},\n",
       "    'id': 11}],\n",
       "  'adjacency': [[{'weight': 2, 'id': 1, 'key': 0}],\n",
       "   [{'weight': 2, 'id': 4, 'key': 0}],\n",
       "   [{'weight': 1, 'id': 7, 'key': 0},\n",
       "    {'weight': 1, 'id': 8, 'key': 0},\n",
       "    {'weight': 2, 'id': 3, 'key': 0}],\n",
       "   [{'weight': 1, 'id': 9, 'key': 0}, {'weight': 1, 'id': 5, 'key': 0}],\n",
       "   [{'weight': 1, 'id': 10, 'key': 0}, {'weight': 1, 'id': 11, 'key': 0}],\n",
       "   [{'weight': 3, 'id': 6, 'key': 0}],\n",
       "   [],\n",
       "   [],\n",
       "   [],\n",
       "   [],\n",
       "   [],\n",
       "   []]}}"
      ]
     },
     "execution_count": 3,
     "metadata": {},
     "output_type": "execute_result"
    }
   ],
   "source": [
    "import pandas as pd \n",
    "from bondnet.dataset.mg_barrier import process_species\n",
    "path_mg_data = \"/home/santiagovargas/Documents/Dataset/mg_dataset/\"\n",
    "path_json = path_mg_data + \"20220613_reaction_data.json\"\n",
    "mg_df = pd.read_json(path_json)\n",
    "print(mg_df[mg_df['product_id'] == '62707'])\n",
    "#for index, row in mg_df.iterrows():\n",
    "#    try:\n",
    "#        if(len(row['product_energy']) > 1): \n",
    "#            print(row['product_energy'])\n",
    "#    except:\n",
    "#        pass\n",
    "#print(mg_df.iloc[1]['product_energy'])\n",
    "#mg_df.iloc[0][\"product_structure\"]\n",
    "#row[\"reactant_bonds\"]\n",
    "#for ind, row in mg_df.iterrows(): \n",
    "#    if(row[\"product_molecule_graph\"]['graphs']['multigraph'] == False):\n",
    "#        print(row[\"product_molecule_graph\"]['graphs']['multigraph'])\n",
    "#mg_df.iloc[0][\"product_molecule_graph\"]['graphs']\n",
    "#print(mg_df.iloc[0]['reactant_structure'])\n",
    "\n",
    "mg_df.iloc[0]['reactant_molecule_graph']"
   ]
  },
  {
   "cell_type": "code",
   "execution_count": 87,
   "metadata": {},
   "outputs": [
    {
     "name": "stdout",
     "output_type": "stream",
     "text": [
      "[[0, 1], [1, 2], [1, 4], [2, 7], [2, 3], [2, 8], [3, 9], [3, 4], [3, 5], [4, 11], [4, 10], [5, 6]]\n",
      "[[0, 1], [1, 2], [1, 4], [2, 7], [2, 3], [2, 8], [3, 9], [3, 4], [3, 5], [4, 11], [4, 10], [5, 6]]\n"
     ]
    }
   ],
   "source": [
    "#mg_df[mg_df['reactant_id'] == 62707]\n",
    "#print(len(mg_df.iloc[0]['product_molecule_graph']['graphs']['nodes']))\n",
    "#print(mg_df.iloc[0]['product_molecule_graph']['graphs']['adjacency'])\n",
    "bonds_net = []\n",
    "for ind, i in enumerate(mg_df.iloc[0]['product_molecule_graph']['graphs']['adjacency']):\n",
    "    for j in i: \n",
    "        bonds_net.append([ind, j['id']]) \n",
    "        \n",
    "print(bonds_net)\n",
    "print(mg_df.iloc[0]['product_bonds'])"
   ]
  },
  {
   "cell_type": "code",
   "execution_count": 3,
   "metadata": {},
   "outputs": [
    {
     "name": "stdout",
     "output_type": "stream",
     "text": [
      "0.8103333333333333\n"
     ]
    }
   ],
   "source": [
    "bond_count = 0\n",
    "for ind, row in mg_df.iterrows():\n",
    "    if(len(row['bonds_broken']) == 1):bond_count+=1\n",
    "    elif(len(row['bonds_broken_nometal']) == 1):bond_count+=1\n",
    "    elif(len(row['bonds_formed_nometal'])!=1 ):bond_count+=1\n",
    "    elif(len(row['bonds_formed'])!= 1):bond_count+=1\n",
    "    else:bond_count+=0\n",
    "print(bond_count / ind)"
   ]
  },
  {
   "cell_type": "code",
   "execution_count": 8,
   "metadata": {},
   "outputs": [
    {
     "name": "stdout",
     "output_type": "stream",
     "text": [
      "-8228.114932717173\n",
      "-0.0005337600468919845\n",
      "-0.0005337600468910001\n",
      "0.0922205206061335\n",
      "0.092220520606133\n",
      "-8226.321824156197\n",
      "62707_C5H5N1O1\n"
     ]
    }
   ],
   "source": [
    "import pandas as pd\n",
    "\n",
    "path_mg_data = \"/home/santiagovargas/Documents/Dataset/mg_dataset/\"\n",
    "path_json = path_mg_data + \"20220613_reaction_data.json\"\n",
    "mg_df = pd.read_json(path_json)\n",
    "\n",
    "\n",
    "\n",
    "from bondnet.utils import int_atom, xyz2mol\n",
    "from bondnet.core.molwrapper import rdkit_mol_to_wrapper_mol\n",
    "atoms = [int_atom(atom['name']) for atom in mg_df.iloc[0]['reactant_molecule_graph'][\"molecule\"][\"sites\"]]\n",
    "xyz_coordinates = [i[\"xyz\"] for i in mg_df.iloc[0]['reactant_molecule_graph'][\"molecule\"][\"sites\"]]\n",
    "charge = int(mg_df.iloc[0]['charge'])\n",
    "mol = xyz2mol(atoms = atoms, \n",
    "                coordinates = xyz_coordinates, \n",
    "                charge = charge,\n",
    "                )\n",
    "print(rdkit_mol_to_wrapper_mol(mol[0], identifier= str(mg_df.iloc[0][\"reactant_id\"])))"
   ]
  },
  {
   "cell_type": "code",
   "execution_count": 51,
   "metadata": {},
   "outputs": [
    {
     "name": "stdout",
     "output_type": "stream",
     "text": [
      "_id                                {'@module': 'bson.objectid', '@class': 'Object...\n",
      "builder_meta                       {'emmet_version': '0.1.1a1.dev210+gbd28b91d', ...\n",
      "charge                                                                             0\n",
      "spin_multiplicity                                                                  1\n",
      "natoms                                                                           NaN\n",
      "elements                                                                [C, H, N, O]\n",
      "nelements                                                                          4\n",
      "composition                                 {'C': 3.0, 'N': 2.0, 'O': 1.0, 'H': 6.0}\n",
      "formula_alphabetical                                                     C3 H6 N2 O1\n",
      "chemsys                                                                      C-H-N-O\n",
      "symmetry                           {'point_group': 'Cs', 'rotation_number': 1.0, ...\n",
      "reaction_id                                                        65250-49859-65251\n",
      "reactant_id                                                                    65250\n",
      "product_id                                                                     65251\n",
      "transition_state_id                                                            49859\n",
      "deprecated                                                                     False\n",
      "reactant_structure                 {'@module': 'pymatgen.core.structure', '@class...\n",
      "reactant_molecule_graph            {'@module': 'pymatgen.analysis.graphs', '@clas...\n",
      "reactant_molecule_graph_nometal    {'@module': 'pymatgen.analysis.graphs', '@clas...\n",
      "reactant_bonds                     [[0, 1], [0, 8], [0, 7], [0, 6], [1, 2], [1, 3...\n",
      "reactant_bonds_nometal             [[0, 1], [0, 8], [0, 7], [0, 6], [1, 2], [1, 3...\n",
      "reactant_energy                                                         -8228.207153\n",
      "reactant_zpe                                                                2.686425\n",
      "reactant_enthalpy                                                           0.188672\n",
      "reactant_entropy                                                             0.00332\n",
      "reactant_free_energy                                                    -8226.321824\n",
      "product_structure                  {'@module': 'pymatgen.core.structure', '@class...\n",
      "product_molecule_graph             {'@module': 'pymatgen.analysis.graphs', '@clas...\n",
      "product_molecule_graph_nometal     {'@module': 'pymatgen.analysis.graphs', '@clas...\n",
      "product_bonds                      [[0, 1], [0, 6], [0, 8], [0, 7], [1, 2], [1, 3...\n",
      "product_bonds_nometal              [[0, 1], [0, 6], [0, 8], [0, 7], [1, 2], [1, 3...\n",
      "product_energy                                                          -8228.207687\n",
      "product_zpe                                                                 2.686468\n",
      "product_enthalpy                                                            0.188846\n",
      "product_entropy                                                             0.003321\n",
      "product_free_energy                                                     -8226.322581\n",
      "transition_state_structure         {'@module': 'pymatgen.core.structure', '@class...\n",
      "transition_state_energy                                                 -8228.114933\n",
      "transition_state_zpe                                                        2.669556\n",
      "transition_state_enthalpy                                                   0.176878\n",
      "transition_state_entropy                                                    0.003258\n",
      "transition_state_free_energy                                            -8226.239791\n",
      "dE                                                                         -0.000534\n",
      "dH                                                                         -0.000317\n",
      "dS                                                                          0.000001\n",
      "dG                                                                         -0.000757\n",
      "dE_barrier                                                                  0.092221\n",
      "dH_barrier                                                                  0.063558\n",
      "dS_barrier                                                                 -0.000062\n",
      "dG_barrier                                                                  0.082033\n",
      "bonds_broken                                                                      []\n",
      "bond_types_broken                                                                 []\n",
      "bonds_broken_nometal                                                              []\n",
      "bond_types_broken_nometal                                                         []\n",
      "bonds_formed                                                                      []\n",
      "bond_types_formed                                                                 []\n",
      "bonds_formed_nometal                                                              []\n",
      "bond_types_formed_nometal                                                         []\n",
      "similar_reactions                                                               None\n",
      "_bt                                {'@module': 'datetime', '@class': 'datetime', ...\n",
      "Name: 1, dtype: object\n"
     ]
    }
   ],
   "source": [
    "from pymatgen.core import Lattice, Structure, Molecule\n",
    "\n",
    "#[i for i in mg_df.iloc[1]['product_structure']]\n",
    "#print(mg_df.iloc[1][\"\"])\n",
    "\n"
   ]
  },
  {
   "cell_type": "code",
   "execution_count": 37,
   "metadata": {},
   "outputs": [
    {
     "name": "stdout",
     "output_type": "stream",
     "text": [
      "\n",
      "A -> B style reaction\n",
      "reactants:\n",
      "    C3H6N2O1 (0)\n",
      "products:\n",
      "    C3H6N2O1 (0)\n",
      "\n"
     ]
    },
    {
     "ename": "RuntimeError",
     "evalue": "Cannot break a reactant bond to get products; invalid reaction: Reaction id: 652504985965251. Reactants id: 65251 Products id: 65250 ",
     "output_type": "error",
     "traceback": [
      "\u001b[0;31m---------------------------------------------------------------------------\u001b[0m",
      "\u001b[0;31mRuntimeError\u001b[0m                              Traceback (most recent call last)",
      "\u001b[0;32m/tmp/ipykernel_32268/4161445096.py\u001b[0m in \u001b[0;36m<module>\u001b[0;34m\u001b[0m\n\u001b[1;32m     58\u001b[0m     \u001b[0mstruct_file\u001b[0m\u001b[0;34m=\u001b[0m\u001b[0mpath_mg_data\u001b[0m \u001b[0;34m+\u001b[0m \u001b[0;34m\"mg_struct_bond_rgrn.sdf\"\u001b[0m\u001b[0;34m,\u001b[0m\u001b[0;34m\u001b[0m\u001b[0m\n\u001b[1;32m     59\u001b[0m     \u001b[0mlabel_file\u001b[0m\u001b[0;34m=\u001b[0m\u001b[0mpath_mg_data\u001b[0m \u001b[0;34m+\u001b[0m \u001b[0;34m\"mg_label_bond_rgrn.yaml\"\u001b[0m\u001b[0;34m,\u001b[0m\u001b[0;34m\u001b[0m\u001b[0m\n\u001b[0;32m---> 60\u001b[0;31m     \u001b[0mfeature_file\u001b[0m\u001b[0;34m=\u001b[0m\u001b[0mpath_mg_data\u001b[0m \u001b[0;34m+\u001b[0m \u001b[0;34m\"mg_feature_bond_rgrn.yaml\"\u001b[0m\u001b[0;34m\u001b[0m\u001b[0m\n\u001b[0m\u001b[1;32m     61\u001b[0m )\n",
      "\u001b[0;32m~/dev/bondnet/bondnet/core/reaction_collection.py\u001b[0m in \u001b[0;36mcreate_regression_dataset_reaction_network_simple\u001b[0;34m(self, struct_file, label_file, feature_file, write_to_file, nprocs)\u001b[0m\n\u001b[1;32m    875\u001b[0m         \u001b[0;31m# use multiprocessing to get atom mappings since they are relatively expensive\u001b[0m\u001b[0;34m\u001b[0m\u001b[0;34m\u001b[0m\u001b[0m\n\u001b[1;32m    876\u001b[0m         \u001b[0;32mif\u001b[0m \u001b[0mnprocs\u001b[0m \u001b[0;34m<=\u001b[0m \u001b[0;36m1\u001b[0m\u001b[0;34m:\u001b[0m\u001b[0;34m\u001b[0m\u001b[0m\n\u001b[0;32m--> 877\u001b[0;31m             \u001b[0mmappings\u001b[0m \u001b[0;34m=\u001b[0m \u001b[0;34m[\u001b[0m\u001b[0mget_atom_bond_mapping\u001b[0m\u001b[0;34m(\u001b[0m\u001b[0mr\u001b[0m\u001b[0;34m)\u001b[0m \u001b[0;32mfor\u001b[0m \u001b[0mr\u001b[0m \u001b[0;32min\u001b[0m \u001b[0mreactions\u001b[0m\u001b[0;34m]\u001b[0m\u001b[0;34m\u001b[0m\u001b[0m\n\u001b[0m\u001b[1;32m    878\u001b[0m         \u001b[0;32melse\u001b[0m\u001b[0;34m:\u001b[0m\u001b[0;34m\u001b[0m\u001b[0m\n\u001b[1;32m    879\u001b[0m             \u001b[0;32mwith\u001b[0m \u001b[0mmultiprocessing\u001b[0m\u001b[0;34m.\u001b[0m\u001b[0mPool\u001b[0m\u001b[0;34m(\u001b[0m\u001b[0mnprocs\u001b[0m\u001b[0;34m)\u001b[0m \u001b[0;32mas\u001b[0m \u001b[0mp\u001b[0m\u001b[0;34m:\u001b[0m\u001b[0;34m\u001b[0m\u001b[0m\n",
      "\u001b[0;32m~/dev/bondnet/bondnet/core/reaction_collection.py\u001b[0m in \u001b[0;36m<listcomp>\u001b[0;34m(.0)\u001b[0m\n\u001b[1;32m    875\u001b[0m         \u001b[0;31m# use multiprocessing to get atom mappings since they are relatively expensive\u001b[0m\u001b[0;34m\u001b[0m\u001b[0;34m\u001b[0m\u001b[0m\n\u001b[1;32m    876\u001b[0m         \u001b[0;32mif\u001b[0m \u001b[0mnprocs\u001b[0m \u001b[0;34m<=\u001b[0m \u001b[0;36m1\u001b[0m\u001b[0;34m:\u001b[0m\u001b[0;34m\u001b[0m\u001b[0m\n\u001b[0;32m--> 877\u001b[0;31m             \u001b[0mmappings\u001b[0m \u001b[0;34m=\u001b[0m \u001b[0;34m[\u001b[0m\u001b[0mget_atom_bond_mapping\u001b[0m\u001b[0;34m(\u001b[0m\u001b[0mr\u001b[0m\u001b[0;34m)\u001b[0m \u001b[0;32mfor\u001b[0m \u001b[0mr\u001b[0m \u001b[0;32min\u001b[0m \u001b[0mreactions\u001b[0m\u001b[0;34m]\u001b[0m\u001b[0;34m\u001b[0m\u001b[0m\n\u001b[0m\u001b[1;32m    878\u001b[0m         \u001b[0;32melse\u001b[0m\u001b[0;34m:\u001b[0m\u001b[0;34m\u001b[0m\u001b[0m\n\u001b[1;32m    879\u001b[0m             \u001b[0;32mwith\u001b[0m \u001b[0mmultiprocessing\u001b[0m\u001b[0;34m.\u001b[0m\u001b[0mPool\u001b[0m\u001b[0;34m(\u001b[0m\u001b[0mnprocs\u001b[0m\u001b[0;34m)\u001b[0m \u001b[0;32mas\u001b[0m \u001b[0mp\u001b[0m\u001b[0;34m:\u001b[0m\u001b[0;34m\u001b[0m\u001b[0m\n",
      "\u001b[0;32m~/dev/bondnet/bondnet/core/reaction_collection.py\u001b[0m in \u001b[0;36mget_atom_bond_mapping\u001b[0;34m(rxn)\u001b[0m\n\u001b[1;32m   1525\u001b[0m \u001b[0;34m\u001b[0m\u001b[0m\n\u001b[1;32m   1526\u001b[0m \u001b[0;32mdef\u001b[0m \u001b[0mget_atom_bond_mapping\u001b[0m\u001b[0;34m(\u001b[0m\u001b[0mrxn\u001b[0m\u001b[0;34m)\u001b[0m\u001b[0;34m:\u001b[0m\u001b[0;34m\u001b[0m\u001b[0m\n\u001b[0;32m-> 1527\u001b[0;31m     \u001b[0matom_mp\u001b[0m \u001b[0;34m=\u001b[0m \u001b[0mrxn\u001b[0m\u001b[0;34m.\u001b[0m\u001b[0matom_mapping\u001b[0m\u001b[0;34m(\u001b[0m\u001b[0;34m)\u001b[0m\u001b[0;34m\u001b[0m\u001b[0m\n\u001b[0m\u001b[1;32m   1528\u001b[0m     \u001b[0mbond_mp\u001b[0m \u001b[0;34m=\u001b[0m \u001b[0mrxn\u001b[0m\u001b[0;34m.\u001b[0m\u001b[0mbond_mapping_by_sdf_int_index\u001b[0m\u001b[0;34m(\u001b[0m\u001b[0;34m)\u001b[0m\u001b[0;34m\u001b[0m\u001b[0m\n\u001b[1;32m   1529\u001b[0m     \u001b[0;32mreturn\u001b[0m \u001b[0matom_mp\u001b[0m\u001b[0;34m,\u001b[0m \u001b[0mbond_mp\u001b[0m\u001b[0;34m\u001b[0m\u001b[0m\n",
      "\u001b[0;32m~/dev/bondnet/bondnet/core/reaction.py\u001b[0m in \u001b[0;36matom_mapping\u001b[0;34m(self)\u001b[0m\n\u001b[1;32m    164\u001b[0m         \u001b[0;31m# if A->B+C reaction, there are two\u001b[0m\u001b[0;34m\u001b[0m\u001b[0;34m\u001b[0m\u001b[0m\n\u001b[1;32m    165\u001b[0m \u001b[0;34m\u001b[0m\u001b[0m\n\u001b[0;32m--> 166\u001b[0;31m         \u001b[0mbond\u001b[0m \u001b[0;34m=\u001b[0m \u001b[0mself\u001b[0m\u001b[0;34m.\u001b[0m\u001b[0mget_broken_bond\u001b[0m\u001b[0;34m(\u001b[0m\u001b[0;34m)\u001b[0m\u001b[0;34m\u001b[0m\u001b[0m\n\u001b[0m\u001b[1;32m    167\u001b[0m         \u001b[0moriginal\u001b[0m \u001b[0;34m=\u001b[0m \u001b[0mcopy\u001b[0m\u001b[0;34m.\u001b[0m\u001b[0mdeepcopy\u001b[0m\u001b[0;34m(\u001b[0m\u001b[0mself\u001b[0m\u001b[0;34m.\u001b[0m\u001b[0mreactants\u001b[0m\u001b[0;34m[\u001b[0m\u001b[0;36m0\u001b[0m\u001b[0;34m]\u001b[0m\u001b[0;34m.\u001b[0m\u001b[0mmol_graph\u001b[0m\u001b[0;34m)\u001b[0m\u001b[0;34m\u001b[0m\u001b[0m\n\u001b[1;32m    168\u001b[0m         \u001b[0moriginal\u001b[0m\u001b[0;34m.\u001b[0m\u001b[0mbreak_edge\u001b[0m\u001b[0;34m(\u001b[0m\u001b[0mbond\u001b[0m\u001b[0;34m[\u001b[0m\u001b[0;36m0\u001b[0m\u001b[0;34m]\u001b[0m\u001b[0;34m,\u001b[0m \u001b[0mbond\u001b[0m\u001b[0;34m[\u001b[0m\u001b[0;36m1\u001b[0m\u001b[0;34m]\u001b[0m\u001b[0;34m,\u001b[0m \u001b[0mallow_reverse\u001b[0m\u001b[0;34m=\u001b[0m\u001b[0;32mTrue\u001b[0m\u001b[0;34m)\u001b[0m\u001b[0;34m\u001b[0m\u001b[0m\n",
      "\u001b[0;32m~/dev/bondnet/bondnet/core/reaction.py\u001b[0m in \u001b[0;36mget_broken_bond\u001b[0;34m(self)\u001b[0m\n\u001b[1;32m    109\u001b[0m                     \u001b[0mmsg\u001b[0m \u001b[0;34m+=\u001b[0m \u001b[0;34mf\"{m.id} \"\u001b[0m\u001b[0;34m\u001b[0m\u001b[0m\n\u001b[1;32m    110\u001b[0m                 raise RuntimeError(\n\u001b[0;32m--> 111\u001b[0;31m                     \u001b[0;34mf\"Cannot break a reactant bond to get products; \"\u001b[0m\u001b[0;34m\u001b[0m\u001b[0m\n\u001b[0m\u001b[1;32m    112\u001b[0m                     \u001b[0;34mf\"invalid reaction: {msg}\"\u001b[0m\u001b[0;34m\u001b[0m\u001b[0m\n\u001b[1;32m    113\u001b[0m                 )\n",
      "\u001b[0;31mRuntimeError\u001b[0m: Cannot break a reactant bond to get products; invalid reaction: Reaction id: 652504985965251. Reactants id: 65251 Products id: 65250 "
     ]
    }
   ],
   "source": [
    "from bondnet.core.molwrapper import create_wrapper_mol_from_atoms_and_bonds\n",
    "from bondnet.core.reaction import Reaction \n",
    "from bondnet.core.reaction_collection import ReactionCollection\n",
    "\n",
    "row = mg_df.iloc[1]\n",
    "barrier = row[\"dE_barrier\"]\n",
    "species = [i['name'] for i in row['product_molecule_graph'][\"molecule\"][\"sites\"]]\n",
    "coords = [i[\"xyz\"] for i in row['product_molecule_graph'][\"molecule\"][\"sites\"]]\n",
    "bonds = row['product_bonds']\n",
    "\n",
    "charge = row['charge']\n",
    "free_energy = row['product_free_energy']\n",
    "id = str(row[\"reactant_id\"])\n",
    "\n",
    "product = create_wrapper_mol_from_atoms_and_bonds(\n",
    "    species, coords, bonds, charge=0, free_energy=free_energy, identifier=id,\n",
    ")\n",
    "\n",
    "\n",
    "species = [i['name'] for i in row['reactant_molecule_graph'][\"molecule\"][\"sites\"]]\n",
    "coords = [i[\"xyz\"] for i in row['reactant_molecule_graph'][\"molecule\"][\"sites\"]]\n",
    "bonds = row['reactant_bonds']\n",
    "charge = row['charge']\n",
    "\n",
    "free_energy = row['reactant_free_energy']\n",
    "id = str(row[\"product_id\"])\n",
    "reactant = create_wrapper_mol_from_atoms_and_bonds(\n",
    "    species, coords, bonds, charge=0, free_energy=free_energy, identifier=id,\n",
    ")\n",
    "\n",
    "id = [i for i in row[\"reaction_id\"].split(\"-\")]\n",
    "id = int(id[0] + id[1] + id[2])\n",
    "broken_bond = row['bonds_formed']\n",
    "if(broken_bond == []):broken_bond=None\n",
    "rxn = Reaction(\n",
    "            reactants = [reactant], \n",
    "            products=[product], \n",
    "            free_energy= barrier,\n",
    "            broken_bond = broken_bond,\n",
    "            identifier = id\n",
    "            )\n",
    "\n",
    "extractor = ReactionCollection([rxn])\n",
    "reactant_bond_list = list(reactant.bonds.keys())\n",
    "product_bond_list = list(product.bonds.keys())\n",
    "reactant_bond_list.sort()\n",
    "product_bond_list.sort()\n",
    "#print(reactant_bond_list)\n",
    "#print(product_bond_list)\n",
    "#print(row[\"bonds_broken_nometal\"])\n",
    "#print(row[\"bonds_broken\"])\n",
    "#print(row[\"bonds_formed\"])\n",
    "#print(row[\"bonds_formed_nometal\"])\n",
    "\n",
    "\n",
    "print(rxn)\n",
    "extractor.create_regression_dataset_reaction_network_simple(\n",
    "    struct_file=path_mg_data + \"mg_struct_bond_rgrn.sdf\",\n",
    "    label_file=path_mg_data + \"mg_label_bond_rgrn.yaml\",\n",
    "    feature_file=path_mg_data + \"mg_feature_bond_rgrn.yaml\"\n",
    ")\n"
   ]
  },
  {
   "cell_type": "code",
   "execution_count": 33,
   "metadata": {},
   "outputs": [
    {
     "ename": "AttributeError",
     "evalue": "'NoneType' object has no attribute 'get'",
     "output_type": "error",
     "traceback": [
      "\u001b[0;31m---------------------------------------------------------------------------\u001b[0m",
      "\u001b[0;31mAttributeError\u001b[0m                            Traceback (most recent call last)",
      "\u001b[0;32m/tmp/ipykernel_32268/272415304.py\u001b[0m in \u001b[0;36m<module>\u001b[0;34m\u001b[0m\n\u001b[1;32m      2\u001b[0m \u001b[0;32mfrom\u001b[0m \u001b[0mbondnet\u001b[0m\u001b[0;34m.\u001b[0m\u001b[0mcore\u001b[0m\u001b[0;34m.\u001b[0m\u001b[0mreaction\u001b[0m \u001b[0;32mimport\u001b[0m \u001b[0mReaction\u001b[0m\u001b[0;34m\u001b[0m\u001b[0m\n\u001b[1;32m      3\u001b[0m \u001b[0;34m\u001b[0m\u001b[0m\n\u001b[0;32m----> 4\u001b[0;31m \u001b[0mreactant\u001b[0m \u001b[0;34m=\u001b[0m \u001b[0mMoleculeGraph\u001b[0m\u001b[0;34m(\u001b[0m\u001b[0mmg_df\u001b[0m\u001b[0;34m.\u001b[0m\u001b[0miloc\u001b[0m\u001b[0;34m[\u001b[0m\u001b[0;36m1\u001b[0m\u001b[0;34m]\u001b[0m\u001b[0;34m[\u001b[0m\u001b[0;34m'reactant_molecule_graph'\u001b[0m\u001b[0;34m]\u001b[0m\u001b[0;34m[\u001b[0m\u001b[0;34m'molecule'\u001b[0m\u001b[0;34m]\u001b[0m\u001b[0;34m)\u001b[0m\u001b[0;34m\u001b[0m\u001b[0m\n\u001b[0m\u001b[1;32m      5\u001b[0m \u001b[0;31m#product = MoleculeGraph()\u001b[0m\u001b[0;34m\u001b[0m\u001b[0;34m\u001b[0m\u001b[0m\n\u001b[1;32m      6\u001b[0m \u001b[0;34m\u001b[0m\u001b[0m\n",
      "\u001b[0;32m~/anaconda3/envs/bondnet/lib/python3.7/site-packages/pymatgen/analysis/graphs.py\u001b[0m in \u001b[0;36m__init__\u001b[0;34m(self, molecule, graph_data)\u001b[0m\n\u001b[1;32m   1562\u001b[0m \u001b[0;34m\u001b[0m\u001b[0m\n\u001b[1;32m   1563\u001b[0m         \u001b[0mself\u001b[0m\u001b[0;34m.\u001b[0m\u001b[0mmolecule\u001b[0m \u001b[0;34m=\u001b[0m \u001b[0mmolecule\u001b[0m\u001b[0;34m\u001b[0m\u001b[0m\n\u001b[0;32m-> 1564\u001b[0;31m         \u001b[0mself\u001b[0m\u001b[0;34m.\u001b[0m\u001b[0mgraph\u001b[0m \u001b[0;34m=\u001b[0m \u001b[0mnx\u001b[0m\u001b[0;34m.\u001b[0m\u001b[0mreadwrite\u001b[0m\u001b[0;34m.\u001b[0m\u001b[0mjson_graph\u001b[0m\u001b[0;34m.\u001b[0m\u001b[0madjacency_graph\u001b[0m\u001b[0;34m(\u001b[0m\u001b[0mgraph_data\u001b[0m\u001b[0;34m)\u001b[0m\u001b[0;34m\u001b[0m\u001b[0m\n\u001b[0m\u001b[1;32m   1565\u001b[0m \u001b[0;34m\u001b[0m\u001b[0m\n\u001b[1;32m   1566\u001b[0m         \u001b[0;31m# tidy up edge attr dicts, reading to/from json duplicates\u001b[0m\u001b[0;34m\u001b[0m\u001b[0;34m\u001b[0m\u001b[0m\n",
      "\u001b[0;32m~/anaconda3/envs/bondnet/lib/python3.7/site-packages/networkx/readwrite/json_graph/adjacency.py\u001b[0m in \u001b[0;36madjacency_graph\u001b[0;34m(data, directed, multigraph, attrs)\u001b[0m\n\u001b[1;32m    129\u001b[0m     \u001b[0madjacency_graph\u001b[0m\u001b[0;34m,\u001b[0m \u001b[0mnode_link_data\u001b[0m\u001b[0;34m,\u001b[0m \u001b[0mtree_data\u001b[0m\u001b[0;34m\u001b[0m\u001b[0m\n\u001b[1;32m    130\u001b[0m     \"\"\"\n\u001b[0;32m--> 131\u001b[0;31m     \u001b[0mmultigraph\u001b[0m \u001b[0;34m=\u001b[0m \u001b[0mdata\u001b[0m\u001b[0;34m.\u001b[0m\u001b[0mget\u001b[0m\u001b[0;34m(\u001b[0m\u001b[0;34m'multigraph'\u001b[0m\u001b[0;34m,\u001b[0m \u001b[0mmultigraph\u001b[0m\u001b[0;34m)\u001b[0m\u001b[0;34m\u001b[0m\u001b[0m\n\u001b[0m\u001b[1;32m    132\u001b[0m     \u001b[0mdirected\u001b[0m \u001b[0;34m=\u001b[0m \u001b[0mdata\u001b[0m\u001b[0;34m.\u001b[0m\u001b[0mget\u001b[0m\u001b[0;34m(\u001b[0m\u001b[0;34m'directed'\u001b[0m\u001b[0;34m,\u001b[0m \u001b[0mdirected\u001b[0m\u001b[0;34m)\u001b[0m\u001b[0;34m\u001b[0m\u001b[0m\n\u001b[1;32m    133\u001b[0m     \u001b[0;32mif\u001b[0m \u001b[0mmultigraph\u001b[0m\u001b[0;34m:\u001b[0m\u001b[0;34m\u001b[0m\u001b[0m\n",
      "\u001b[0;31mAttributeError\u001b[0m: 'NoneType' object has no attribute 'get'"
     ]
    }
   ],
   "source": [
    "from pymatgen.analysis.graphs import MoleculeGraph\n",
    "from bondnet.core.reaction import Reaction\n",
    "\n",
    "reactant = MoleculeGraph(mg_df.iloc[1]['reactant_molecule_graph']['molecule'])\n",
    "#product = MoleculeGraph()\n",
    "\n",
    "print(mg_df.iloc[1]['reactant_molecule_graph']['molecule'])\n",
    "print(len(mg_df.iloc[1]['reactant_molecule_graph']['molecule']))\n",
    "\n",
    "#row['reactant_bonds']\n",
    "#rxn = Reaction(reactants = ,\n",
    "#                products = ,\n",
    "#                broken_bond = mg_df.iloc[1]['bonds_broken'],\n",
    "#                free_energy = mg_df.iloc[1]['dE_barrier'],\n",
    "#                identifier = mg_df.iloc[1]['reaction_id'])"
   ]
  },
  {
   "cell_type": "code",
   "execution_count": 1,
   "metadata": {},
   "outputs": [
    {
     "name": "stdout",
     "output_type": "stream",
     "text": [
      "Collecting tqdm\n",
      "  Using cached tqdm-4.64.0-py2.py3-none-any.whl (78 kB)\n",
      "Installing collected packages: tqdm\n",
      "Successfully installed tqdm-4.64.0\n"
     ]
    }
   ],
   "source": [
    "'''\n",
    "molecule_attributes\n",
    "simple the charge, in order \n",
    "molecules.sdf <--simply barf all elements from products/reactants to thisis \n",
    "this is vanilla sdf \n",
    "\n",
    "reactions.yaml\n",
    "- energy: 2.5077022141203997 <--- transition_state_energy\n",
    "  index: 0 <-- keep evan's reaction id here \n",
    "  products: <--- will need to remap these\n",
    "  - 186 \n",
    "  - 38\n",
    "  reactants: <-- will need to remap these\n",
    "  - 45\n",
    "'''\n"
   ]
  },
  {
   "cell_type": "code",
   "execution_count": 7,
   "metadata": {},
   "outputs": [
    {
     "name": "stderr",
     "output_type": "stream",
     "text": [
      "0it [00:00, ?it/s]RDKit ERROR: [08:56:55] SMARTS Parse Error: syntax error while parsing: [#O]\n",
      "RDKit ERROR: [08:56:55] SMARTS Parse Error: Failed parsing SMARTS '[#O]' for input: '[#O]'\n",
      "0it [00:00, ?it/s]"
     ]
    },
    {
     "name": "stdout",
     "output_type": "stream",
     "text": [
      "0\n"
     ]
    },
    {
     "name": "stderr",
     "output_type": "stream",
     "text": [
      "[08:56:55] SMARTS Parse Error: syntax error while parsing: [#O]\n",
      "\n",
      "[08:56:55] SMARTS Parse Error: Failed parsing SMARTS '[#O]' for input: '[#O]'\n"
     ]
    },
    {
     "ename": "ArgumentError",
     "evalue": "Python argument types in\n    RWMol.__init__(RWMol, NoneType)\ndid not match C++ signature:\n    __init__(_object*, RDKit::ROMol, bool, int)\n    __init__(_object*, RDKit::ROMol, bool)\n    __init__(_object*, std::__cxx11::basic_string<char, std::char_traits<char>, std::allocator<char> >)\n    __init__(_object*)\n    __init__(_object*, RDKit::ROMol)",
     "output_type": "error",
     "traceback": [
      "\u001b[0;31m---------------------------------------------------------------------------\u001b[0m",
      "\u001b[0;31mArgumentError\u001b[0m                             Traceback (most recent call last)",
      "\u001b[0;32m/tmp/ipykernel_13021/660998074.py\u001b[0m in \u001b[0;36m<module>\u001b[0;34m\u001b[0m\n\u001b[0;32m----> 1\u001b[0;31m \u001b[0mcreate_struct_label_dataset_bond_based_regression\u001b[0m\u001b[0;34m(\u001b[0m\u001b[0mfilename\u001b[0m\u001b[0;34m=\u001b[0m\u001b[0;34m''\u001b[0m\u001b[0;34m,\u001b[0m \u001b[0mout_file\u001b[0m\u001b[0;34m=\u001b[0m\u001b[0;34m'./'\u001b[0m\u001b[0;34m)\u001b[0m\u001b[0;34m\u001b[0m\u001b[0m\n\u001b[0m",
      "\u001b[0;32m/tmp/ipykernel_13021/279378896.py\u001b[0m in \u001b[0;36mcreate_struct_label_dataset_bond_based_regression\u001b[0;34m(filename, out_file)\u001b[0m\n\u001b[1;32m     88\u001b[0m         mol = xyz2mol(atoms = species, \n\u001b[1;32m     89\u001b[0m                 \u001b[0mcoordinates\u001b[0m \u001b[0;34m=\u001b[0m \u001b[0mcoords\u001b[0m\u001b[0;34m,\u001b[0m\u001b[0;34m\u001b[0m\u001b[0m\n\u001b[0;32m---> 90\u001b[0;31m                 \u001b[0mcharge\u001b[0m \u001b[0;34m=\u001b[0m \u001b[0mcharge\u001b[0m\u001b[0;34m,\u001b[0m\u001b[0;34m\u001b[0m\u001b[0m\n\u001b[0m\u001b[1;32m     91\u001b[0m                 )\n\u001b[1;32m     92\u001b[0m         \u001b[0;31m#print(rdkit_mol_to_wrapper_mol(mol[0], identifier= str(mg_df.iloc[0][\"reactant_id\"])))\u001b[0m\u001b[0;34m\u001b[0m\u001b[0;34m\u001b[0m\u001b[0m\n",
      "\u001b[0;32m~/dev/bondnet/bondnet/utils.py\u001b[0m in \u001b[0;36mxyz2mol\u001b[0;34m(atoms, coordinates, charge, allow_charged_fragments, use_graph, use_huckel, embed_chiral, use_atom_maps)\u001b[0m\n\u001b[1;32m   1252\u001b[0m     \u001b[0;31m# Get atom connectivity (AC) matrix, list of atomic numbers, molecular charge,\u001b[0m\u001b[0;34m\u001b[0m\u001b[0;34m\u001b[0m\u001b[0m\n\u001b[1;32m   1253\u001b[0m     \u001b[0;31m# and mol object with no connectivity information\u001b[0m\u001b[0;34m\u001b[0m\u001b[0;34m\u001b[0m\u001b[0m\n\u001b[0;32m-> 1254\u001b[0;31m     \u001b[0mAC\u001b[0m\u001b[0;34m,\u001b[0m \u001b[0mmol\u001b[0m \u001b[0;34m=\u001b[0m \u001b[0mxyz2AC\u001b[0m\u001b[0;34m(\u001b[0m\u001b[0matoms\u001b[0m\u001b[0;34m,\u001b[0m \u001b[0mcoordinates\u001b[0m\u001b[0;34m,\u001b[0m \u001b[0mcharge\u001b[0m\u001b[0;34m,\u001b[0m \u001b[0muse_huckel\u001b[0m\u001b[0;34m=\u001b[0m\u001b[0muse_huckel\u001b[0m\u001b[0;34m)\u001b[0m\u001b[0;34m\u001b[0m\u001b[0m\n\u001b[0m\u001b[1;32m   1255\u001b[0m \u001b[0;34m\u001b[0m\u001b[0m\n\u001b[1;32m   1256\u001b[0m     \u001b[0;31m# Convert AC to bond order matrix and add connectivity and charge info to\u001b[0m\u001b[0;34m\u001b[0m\u001b[0;34m\u001b[0m\u001b[0m\n",
      "\u001b[0;32m~/dev/bondnet/bondnet/utils.py\u001b[0m in \u001b[0;36mxyz2AC\u001b[0;34m(atoms, xyz, charge, use_huckel)\u001b[0m\n\u001b[1;32m   1118\u001b[0m         \u001b[0;32mreturn\u001b[0m \u001b[0mxyz2AC_huckel\u001b[0m\u001b[0;34m(\u001b[0m\u001b[0matoms\u001b[0m\u001b[0;34m,\u001b[0m \u001b[0mxyz\u001b[0m\u001b[0;34m,\u001b[0m \u001b[0mcharge\u001b[0m\u001b[0;34m)\u001b[0m\u001b[0;34m\u001b[0m\u001b[0m\n\u001b[1;32m   1119\u001b[0m     \u001b[0;32melse\u001b[0m\u001b[0;34m:\u001b[0m\u001b[0;34m\u001b[0m\u001b[0m\n\u001b[0;32m-> 1120\u001b[0;31m         \u001b[0;32mreturn\u001b[0m \u001b[0mxyz2AC_vdW\u001b[0m\u001b[0;34m(\u001b[0m\u001b[0matoms\u001b[0m\u001b[0;34m,\u001b[0m \u001b[0mxyz\u001b[0m\u001b[0;34m)\u001b[0m\u001b[0;34m\u001b[0m\u001b[0m\n\u001b[0m\u001b[1;32m   1121\u001b[0m \u001b[0;34m\u001b[0m\u001b[0m\n\u001b[1;32m   1122\u001b[0m \u001b[0;34m\u001b[0m\u001b[0m\n",
      "\u001b[0;32m~/dev/bondnet/bondnet/utils.py\u001b[0m in \u001b[0;36mxyz2AC_vdW\u001b[0;34m(atoms, xyz)\u001b[0m\n\u001b[1;32m   1124\u001b[0m \u001b[0;34m\u001b[0m\u001b[0m\n\u001b[1;32m   1125\u001b[0m     \u001b[0;31m# Get mol template\u001b[0m\u001b[0;34m\u001b[0m\u001b[0;34m\u001b[0m\u001b[0m\n\u001b[0;32m-> 1126\u001b[0;31m     \u001b[0mmol\u001b[0m \u001b[0;34m=\u001b[0m \u001b[0mget_proto_mol\u001b[0m\u001b[0;34m(\u001b[0m\u001b[0matoms\u001b[0m\u001b[0;34m)\u001b[0m\u001b[0;34m\u001b[0m\u001b[0m\n\u001b[0m\u001b[1;32m   1127\u001b[0m \u001b[0;34m\u001b[0m\u001b[0m\n\u001b[1;32m   1128\u001b[0m     \u001b[0;31m# Set coordinates\u001b[0m\u001b[0;34m\u001b[0m\u001b[0;34m\u001b[0m\u001b[0m\n",
      "\u001b[0;32m~/dev/bondnet/bondnet/utils.py\u001b[0m in \u001b[0;36mget_proto_mol\u001b[0;34m(atoms)\u001b[0m\n\u001b[1;32m   1064\u001b[0m     \"\"\"\n\u001b[1;32m   1065\u001b[0m     \u001b[0mmol\u001b[0m \u001b[0;34m=\u001b[0m \u001b[0mChem\u001b[0m\u001b[0;34m.\u001b[0m\u001b[0mMolFromSmarts\u001b[0m\u001b[0;34m(\u001b[0m\u001b[0;34m\"[#\"\u001b[0m \u001b[0;34m+\u001b[0m \u001b[0mstr\u001b[0m\u001b[0;34m(\u001b[0m\u001b[0matoms\u001b[0m\u001b[0;34m[\u001b[0m\u001b[0;36m0\u001b[0m\u001b[0;34m]\u001b[0m\u001b[0;34m)\u001b[0m \u001b[0;34m+\u001b[0m \u001b[0;34m\"]\"\u001b[0m\u001b[0;34m)\u001b[0m\u001b[0;34m\u001b[0m\u001b[0m\n\u001b[0;32m-> 1066\u001b[0;31m     \u001b[0mrwMol\u001b[0m \u001b[0;34m=\u001b[0m \u001b[0mChem\u001b[0m\u001b[0;34m.\u001b[0m\u001b[0mRWMol\u001b[0m\u001b[0;34m(\u001b[0m\u001b[0mmol\u001b[0m\u001b[0;34m)\u001b[0m\u001b[0;34m\u001b[0m\u001b[0m\n\u001b[0m\u001b[1;32m   1067\u001b[0m     \u001b[0;32mfor\u001b[0m \u001b[0mi\u001b[0m \u001b[0;32min\u001b[0m \u001b[0mrange\u001b[0m\u001b[0;34m(\u001b[0m\u001b[0;36m1\u001b[0m\u001b[0;34m,\u001b[0m \u001b[0mlen\u001b[0m\u001b[0;34m(\u001b[0m\u001b[0matoms\u001b[0m\u001b[0;34m)\u001b[0m\u001b[0;34m)\u001b[0m\u001b[0;34m:\u001b[0m\u001b[0;34m\u001b[0m\u001b[0m\n\u001b[1;32m   1068\u001b[0m         \u001b[0ma\u001b[0m \u001b[0;34m=\u001b[0m \u001b[0mChem\u001b[0m\u001b[0;34m.\u001b[0m\u001b[0mAtom\u001b[0m\u001b[0;34m(\u001b[0m\u001b[0matoms\u001b[0m\u001b[0;34m[\u001b[0m\u001b[0mi\u001b[0m\u001b[0;34m]\u001b[0m\u001b[0;34m)\u001b[0m\u001b[0;34m\u001b[0m\u001b[0m\n",
      "\u001b[0;31mArgumentError\u001b[0m: Python argument types in\n    RWMol.__init__(RWMol, NoneType)\ndid not match C++ signature:\n    __init__(_object*, RDKit::ROMol, bool, int)\n    __init__(_object*, RDKit::ROMol, bool)\n    __init__(_object*, std::__cxx11::basic_string<char, std::char_traits<char>, std::allocator<char> >)\n    __init__(_object*)\n    __init__(_object*, RDKit::ROMol)"
     ]
    }
   ],
   "source": [
    "from bondnet.dataset.mg_barrier import *\n",
    "create_struct_label_dataset_bond_based_regression(filename='', out_file='./')\n"
   ]
  },
  {
   "cell_type": "code",
   "execution_count": null,
   "metadata": {},
   "outputs": [],
   "source": [
    "def atom_mapping(self):\n",
    "    \"\"\"\n",
    "    Find the atom mapping between products and reactant.\n",
    "\n",
    "    For example, suppose we have reactant\n",
    "\n",
    "            C 0\n",
    "            / \\\n",
    "        /___\\\n",
    "        O     N---H\n",
    "        1     2   3\n",
    "\n",
    "    products\n",
    "            C 0\n",
    "            / \\\n",
    "        /___\\\n",
    "        O     N\n",
    "        1     2\n",
    "    and (note the index of H changes it 0)\n",
    "        H 0\n",
    "\n",
    "    This function generates the atom mapping:\n",
    "    [{0:0, 1:1, 2:2}, {0:3}]\n",
    "    where the first dict is the mapping for product 1 and the second dict is the\n",
    "    mapping for product 2.\n",
    "\n",
    "    Returns:\n",
    "        list: each element is a dict that maps the atoms from product to reactant.\n",
    "    \"\"\"\n",
    "    if self._atom_mapping is not None:\n",
    "        return self._atom_mapping\n",
    "\n",
    "    # get subgraphs of reactant by breaking the bond\n",
    "    # if A-> B reaction, there is one element in subgraphs\n",
    "    # if A-> B+C reaction, there are two\n",
    "    \n",
    "    bond = self.get_broken_bond()\n",
    "    original = copy.deepcopy(self.reactants[0].mol_graph)\n",
    "    original.break_edge(bond[0], bond[1], allow_reverse=True)\n",
    "    components = nx.weakly_connected_components(original.graph)\n",
    "    subgraphs = [original.graph.subgraph(c) for c in components]\n",
    "\n",
    "    # correspondence between products and reactant subgrpahs\n",
    "    if len(subgraphs) == 1:\n",
    "        corr = {0: 0}\n",
    "    else:\n",
    "        # product idx as key and reactant subgraph idx as value\n",
    "        # order matters since mappings[0] (see below) corresponds to first product\n",
    "        corr = OrderedDict()\n",
    "        products = [p.mol_graph for p in self.products]\n",
    "\n",
    "        # implicitly indicating _isomorphic(subgraphs[1], products[1].graph)\n",
    "        if _isomorphic(subgraphs[0], products[0].graph):\n",
    "            corr[0] = 0\n",
    "            corr[1] = 1\n",
    "        else:\n",
    "            corr[0] = 1\n",
    "            corr[1] = 0\n",
    "\n",
    "    # atom mapping between products and reactant\n",
    "    mappings = []\n",
    "    for pidx, fidx in corr.items():\n",
    "        mp = nx_graph_atom_mapping(self.products[pidx].graph, subgraphs[fidx])\n",
    "        if mp is None:\n",
    "            raise RuntimeError(f\"cannot find atom mapping for reaction {str(self)}\")\n",
    "        else:\n",
    "            mappings.append(mp)\n",
    "\n",
    "    self._atom_mapping = mappings\n",
    "\n",
    "    return self._atom_mapping"
   ]
  },
  {
   "cell_type": "code",
   "execution_count": 16,
   "metadata": {},
   "outputs": [
    {
     "name": "stderr",
     "output_type": "stream",
     "text": [
      "100%|██████████| 2000/2000 [00:00<00:00, 9615.40it/s]"
     ]
    },
    {
     "name": "stdout",
     "output_type": "stream",
     "text": [
      "2000\n"
     ]
    },
    {
     "name": "stderr",
     "output_type": "stream",
     "text": [
      "\n"
     ]
    }
   ],
   "source": [
    "#reactant_structure, reactant_molecule_graph, reactant_bonds, \n",
    "#product_structure, product_molecule_graph, product_bonds, \n",
    "#transition_state_structure, \n",
    "#bonds_broken, bonds_broken_nometal, bonds_formed, bonds_formed_nometal\n",
    "from tqdm import tqdm \n",
    "from bondnet.utils import to_path, int_atom, xyz2mol\n",
    "from bondnet.core.molwrapper import rdkit_mol_to_wrapper_mol, create_wrapper_mol_from_atoms_and_bonds\n",
    "\n",
    "\n",
    "element_dict = {\"H\": 1, \"Li\": 3, \"Be\": 4, \"B\": 5, \"C\": 6, \"N\": 7, \"O\": 8, \n",
    "\"F\": 9, 'Ca': 20, 'Na': 11, 'Cl': 17, 'P':15, 'Mg': 12 }\n",
    "preserve = 0\n",
    "for i in tqdm(range(2000)):\n",
    "    row = mg_df.iloc[i]\n",
    "    \"\"\"g_prod = nx.Graph(row[\"product_bonds\"])\n",
    "    g_react = nx.Graph(row[\"reactant_bonds\"])\n",
    "    g_prod_2 = nx.Graph(row[\"product_bonds_nometal\"])\n",
    "    g_react_2 = nx.Graph(row[\"reactant_bonds_nometal\"])\n",
    "    if(nx_graph_atom_mapping(g_prod, g_react) == None):\n",
    "        if(nx_graph_atom_mapping(g_prod_2, g_react_2) == None):\n",
    "            pass\n",
    "        else: works_count += 1 \n",
    "    else: works_count += 1\"\"\"\n",
    "    species_reactant = [int_atom(i['name']) for i in row['reactant_molecule_graph'][\"molecule\"][\"sites\"]]\n",
    "    species_products = [int_atom(i['name']) for i in row['product_molecule_graph'][\"molecule\"][\"sites\"]]\n",
    "    trans_list_temp = list(i['name'] for i in list(row[\"transition_state_structure\"]['sites']))\n",
    "    trans_list = [element_dict[i] for i in trans_list_temp]\n",
    "    \n",
    "    if(species_products == trans_list): preserve += 1\n",
    "    #if(list_xyz == coords_reactant): preserve += 1\n",
    "\n",
    "print(preserve)\n",
    "\n"
   ]
  },
  {
   "cell_type": "code",
   "execution_count": null,
   "metadata": {},
   "outputs": [],
   "source": []
  },
  {
   "cell_type": "code",
   "execution_count": null,
   "metadata": {},
   "outputs": [],
   "source": []
  },
  {
   "cell_type": "code",
   "execution_count": null,
   "metadata": {},
   "outputs": [],
   "source": []
  }
 ],
 "metadata": {
  "interpreter": {
   "hash": "c205a9eb4435b0aa27aaf0e9c4340d2b9512e0cc8b49dbd290219ad3711c312f"
  },
  "kernelspec": {
   "display_name": "Python 3.7.0 ('bondnet')",
   "language": "python",
   "name": "python3"
  },
  "language_info": {
   "codemirror_mode": {
    "name": "ipython",
    "version": 3
   },
   "file_extension": ".py",
   "mimetype": "text/x-python",
   "name": "python",
   "nbconvert_exporter": "python",
   "pygments_lexer": "ipython3",
   "version": "3.7.0"
  },
  "orig_nbformat": 4
 },
 "nbformat": 4,
 "nbformat_minor": 2
}
