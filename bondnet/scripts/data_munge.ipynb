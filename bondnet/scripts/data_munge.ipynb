{
 "cells": [
  {
   "cell_type": "code",
   "execution_count": 2,
   "metadata": {},
   "outputs": [
    {
     "name": "stderr",
     "output_type": "stream",
     "text": [
      "/home/santiagovargas/anaconda3/envs/bondnet/lib/python3.7/site-packages/tqdm/auto.py:22: TqdmWarning: IProgress not found. Please update jupyter and ipywidgets. See https://ipywidgets.readthedocs.io/en/stable/user_install.html\n",
      "  from .autonotebook import tqdm as notebook_tqdm\n",
      "Using backend: pytorch\n"
     ]
    }
   ],
   "source": [
    "import pandas as pd \n",
    "from bondnet.dataset.mg_barrier import process_species_rdkit\n",
    "from pymatgen.core import Lattice, Structure, Molecule\n",
    "\n",
    "path_mg_data = \"/home/santiagovargas/Documents/Dataset/mg_dataset/\"\n",
    "path_json = path_mg_data + \"20220613_reaction_data.json\"\n",
    "mg_df = pd.read_json(path_json)"
   ]
  },
  {
   "cell_type": "code",
   "execution_count": 20,
   "metadata": {},
   "outputs": [
    {
     "name": "stdout",
     "output_type": "stream",
     "text": [
      "239 912 502 629 719\n"
     ]
    },
    {
     "data": {
      "image/png": "[encoded data removed]",
      "text/plain": [
       "<Figure size 432x288 with 1 Axes>"
      ]
     },
     "metadata": {
      "needs_background": "light"
     },
     "output_type": "display_data"
    }
   ],
   "source": [
    "import matplotlib.pyplot as plt \n",
    "plt.hist(mg_df['dE_barrier'].tolist(), bins = 100)\n",
    "\n",
    "bin_1, bin_2, bin_3, bin_4, bin_5, bin_6 = 0, 0, 0, 0, 0, 0\n",
    "for value in mg_df['dE_barrier'].tolist():\n",
    "    if(value <= 0.04): bin_1 += 1\n",
    "    elif(value < 0.3  and value > 0.04): bin_2 += 1\n",
    "    elif(value < 0.7  and value > 0.3): bin_3 += 1\n",
    "    elif(value < 1.5  and value > 0.7): bin_4 += 1\n",
    "    else: bin_5 += 1\n",
    "print(bin_1, bin_2, bin_3, bin_4, bin_5)"
   ]
  },
  {
   "cell_type": "code",
   "execution_count": 87,
   "metadata": {},
   "outputs": [
    {
     "name": "stdout",
     "output_type": "stream",
     "text": [
      "[[0, 1], [1, 2], [1, 4], [2, 7], [2, 3], [2, 8], [3, 9], [3, 4], [3, 5], [4, 11], [4, 10], [5, 6]]\n",
      "[[0, 1], [1, 2], [1, 4], [2, 7], [2, 3], [2, 8], [3, 9], [3, 4], [3, 5], [4, 11], [4, 10], [5, 6]]\n"
     ]
    }
   ],
   "source": [
    "#mg_df[mg_df['reactant_id'] == 62707]\n",
    "#print(len(mg_df.iloc[0]['product_molecule_graph']['graphs']['nodes']))\n",
    "#print(mg_df.iloc[0]['product_molecule_graph']['graphs']['adjacency'])\n",
    "bonds_net = []\n",
    "for ind, i in enumerate(mg_df.iloc[0]['product_molecule_graph']['graphs']['adjacency']):\n",
    "    for j in i: \n",
    "        bonds_net.append([ind, j['id']]) \n",
    "        \n",
    "print(bonds_net)\n",
    "print(mg_df.iloc[0]['product_bonds'])"
   ]
  },
  {
   "cell_type": "code",
   "execution_count": 3,
   "metadata": {},
   "outputs": [
    {
     "name": "stdout",
     "output_type": "stream",
     "text": [
      "0.772\n",
      "(3001, 60)\n"
     ]
    }
   ],
   "source": [
    "bond_count = 0\n",
    "for ind, row in mg_df.iterrows():\n",
    "    if(len(row['bonds_broken']) == 1):bond_count+=1\n",
    "    #elif(len(row['bonds_broken_nometal']) == 1):bond_count+=1\n",
    "    #elif(len(row['bonds_formed_nometal'])!=1 ):bond_count+=1\n",
    "    elif(len(row['bonds_formed'])!= 1):bond_count+=1\n",
    "    else:bond_count+=0\n",
    "print(bond_count / ind)\n",
    "print(mg_df.shape)"
   ]
  },
  {
   "cell_type": "code",
   "execution_count": 8,
   "metadata": {},
   "outputs": [
    {
     "name": "stdout",
     "output_type": "stream",
     "text": [
      "-8228.114932717173\n",
      "-0.0005337600468919845\n",
      "-0.0005337600468910001\n",
      "0.0922205206061335\n",
      "0.092220520606133\n",
      "-8226.321824156197\n",
      "62707_C5H5N1O1\n"
     ]
    }
   ],
   "source": [
    "import pandas as pd\n",
    "\n",
    "from bondnet.utils import int_atom, xyz2mol\n",
    "from bondnet.core.molwrapper import rdkit_mol_to_wrapper_mol\n",
    "atoms = [int_atom(atom['name']) for atom in mg_df.iloc[0]['reactant_molecule_graph'][\"molecule\"][\"sites\"]]\n",
    "xyz_coordinates = [i[\"xyz\"] for i in mg_df.iloc[0]['reactant_molecule_graph'][\"molecule\"][\"sites\"]]\n",
    "charge = int(mg_df.iloc[0]['charge'])\n",
    "mol = xyz2mol(atoms = atoms, \n",
    "                coordinates = xyz_coordinates, \n",
    "                charge = charge,\n",
    "                )\n",
    "print(rdkit_mol_to_wrapper_mol(mol[0], identifier= str(mg_df.iloc[0][\"reactant_id\"])))"
   ]
  },
  {
   "cell_type": "code",
   "execution_count": 5,
   "metadata": {},
   "outputs": [
    {
     "data": {
      "text/plain": [
       "pymatgen.analysis.graphs.MoleculeGraph"
      ]
     },
     "execution_count": 5,
     "metadata": {},
     "output_type": "execute_result"
    }
   ],
   "source": [
    "from bondnet.core.molwrapper import create_wrapper_mol_from_atoms_and_bonds\n",
    "from bondnet.core.reaction import Reaction \n",
    "from bondnet.core.reaction_collection import ReactionCollection\n",
    "\n",
    "row = mg_df.iloc[1]\n",
    "barrier = row[\"dE_barrier\"]\n",
    "species = [i['name'] for i in row['product_molecule_graph'][\"molecule\"][\"sites\"]]\n",
    "coords = [i[\"xyz\"] for i in row['product_molecule_graph'][\"molecule\"][\"sites\"]]\n",
    "bonds = row['product_bonds']\n",
    "\n",
    "charge = row['charge']\n",
    "free_energy = row['product_free_energy']\n",
    "id = str(row[\"reactant_id\"])\n",
    "\n",
    "product = create_wrapper_mol_from_atoms_and_bonds(\n",
    "    species, coords, bonds, charge=0, free_energy=free_energy, identifier=id,\n",
    ")\n",
    "\n",
    "\n",
    "species = [i['name'] for i in row['reactant_molecule_graph'][\"molecule\"][\"sites\"]]\n",
    "coords = [i[\"xyz\"] for i in row['reactant_molecule_graph'][\"molecule\"][\"sites\"]]\n",
    "bonds = row['reactant_bonds']\n",
    "charge = row['charge']\n",
    "\n",
    "free_energy = row['reactant_free_energy']\n",
    "id = str(row[\"product_id\"])\n",
    "reactant = create_wrapper_mol_from_atoms_and_bonds(\n",
    "    species, coords, bonds, charge=0, free_energy=free_energy, identifier=id,\n",
    ")\n",
    "\n",
    "id = [i for i in row[\"reaction_id\"].split(\"-\")]\n",
    "id = int(id[0] + id[1] + id[2])\n",
    "broken_bond = row['bonds_formed']\n",
    "if(broken_bond == []):broken_bond=None\n",
    "rxn = Reaction(\n",
    "            reactants = [reactant], \n",
    "            products=[product], \n",
    "            free_energy= barrier,\n",
    "            broken_bond = broken_bond,\n",
    "            identifier = id\n",
    "            )\n",
    "\n",
    "reactant_bond_list = list(reactant.bonds.keys())\n",
    "product_bond_list = list(product.bonds.keys())\n",
    "reactant_bond_list.sort()\n",
    "product_bond_list.sort()\n",
    "\n",
    "\n",
    "#print(rxn)\n",
    "#extractor = ReactionCollection([rxn])\n",
    "#extractor.create_regression_dataset_reaction_network_simple(\n",
    "#    struct_file=path_mg_data + \"mg_struct_bond_rgrn.sdf\",\n",
    "#    label_file=path_mg_data + \"mg_label_bond_rgrn.yaml\",\n",
    "#    feature_file=path_mg_data + \"mg_feature_bond_rgrn.yaml\"\n",
    "#)\n",
    "type(reactant.mol_graph)"
   ]
  },
  {
   "cell_type": "code",
   "execution_count": 33,
   "metadata": {},
   "outputs": [
    {
     "ename": "AttributeError",
     "evalue": "'NoneType' object has no attribute 'get'",
     "output_type": "error",
     "traceback": [
      "\u001b[0;31m---------------------------------------------------------------------------\u001b[0m",
      "\u001b[0;31mAttributeError\u001b[0m                            Traceback (most recent call last)",
      "\u001b[0;32m/tmp/ipykernel_32268/272415304.py\u001b[0m in \u001b[0;36m<module>\u001b[0;34m\u001b[0m\n\u001b[1;32m      2\u001b[0m \u001b[0;32mfrom\u001b[0m \u001b[0mbondnet\u001b[0m\u001b[0;34m.\u001b[0m\u001b[0mcore\u001b[0m\u001b[0;34m.\u001b[0m\u001b[0mreaction\u001b[0m \u001b[0;32mimport\u001b[0m \u001b[0mReaction\u001b[0m\u001b[0;34m\u001b[0m\u001b[0m\n\u001b[1;32m      3\u001b[0m \u001b[0;34m\u001b[0m\u001b[0m\n\u001b[0;32m----> 4\u001b[0;31m \u001b[0mreactant\u001b[0m \u001b[0;34m=\u001b[0m \u001b[0mMoleculeGraph\u001b[0m\u001b[0;34m(\u001b[0m\u001b[0mmg_df\u001b[0m\u001b[0;34m.\u001b[0m\u001b[0miloc\u001b[0m\u001b[0;34m[\u001b[0m\u001b[0;36m1\u001b[0m\u001b[0;34m]\u001b[0m\u001b[0;34m[\u001b[0m\u001b[0;34m'reactant_molecule_graph'\u001b[0m\u001b[0;34m]\u001b[0m\u001b[0;34m[\u001b[0m\u001b[0;34m'molecule'\u001b[0m\u001b[0;34m]\u001b[0m\u001b[0;34m)\u001b[0m\u001b[0;34m\u001b[0m\u001b[0m\n\u001b[0m\u001b[1;32m      5\u001b[0m \u001b[0;31m#product = MoleculeGraph()\u001b[0m\u001b[0;34m\u001b[0m\u001b[0;34m\u001b[0m\u001b[0m\n\u001b[1;32m      6\u001b[0m \u001b[0;34m\u001b[0m\u001b[0m\n",
      "\u001b[0;32m~/anaconda3/envs/bondnet/lib/python3.7/site-packages/pymatgen/analysis/graphs.py\u001b[0m in \u001b[0;36m__init__\u001b[0;34m(self, molecule, graph_data)\u001b[0m\n\u001b[1;32m   1562\u001b[0m \u001b[0;34m\u001b[0m\u001b[0m\n\u001b[1;32m   1563\u001b[0m         \u001b[0mself\u001b[0m\u001b[0;34m.\u001b[0m\u001b[0mmolecule\u001b[0m \u001b[0;34m=\u001b[0m \u001b[0mmolecule\u001b[0m\u001b[0;34m\u001b[0m\u001b[0m\n\u001b[0;32m-> 1564\u001b[0;31m         \u001b[0mself\u001b[0m\u001b[0;34m.\u001b[0m\u001b[0mgraph\u001b[0m \u001b[0;34m=\u001b[0m \u001b[0mnx\u001b[0m\u001b[0;34m.\u001b[0m\u001b[0mreadwrite\u001b[0m\u001b[0;34m.\u001b[0m\u001b[0mjson_graph\u001b[0m\u001b[0;34m.\u001b[0m\u001b[0madjacency_graph\u001b[0m\u001b[0;34m(\u001b[0m\u001b[0mgraph_data\u001b[0m\u001b[0;34m)\u001b[0m\u001b[0;34m\u001b[0m\u001b[0m\n\u001b[0m\u001b[1;32m   1565\u001b[0m \u001b[0;34m\u001b[0m\u001b[0m\n\u001b[1;32m   1566\u001b[0m         \u001b[0;31m# tidy up edge attr dicts, reading to/from json duplicates\u001b[0m\u001b[0;34m\u001b[0m\u001b[0;34m\u001b[0m\u001b[0m\n",
      "\u001b[0;32m~/anaconda3/envs/bondnet/lib/python3.7/site-packages/networkx/readwrite/json_graph/adjacency.py\u001b[0m in \u001b[0;36madjacency_graph\u001b[0;34m(data, directed, multigraph, attrs)\u001b[0m\n\u001b[1;32m    129\u001b[0m     \u001b[0madjacency_graph\u001b[0m\u001b[0;34m,\u001b[0m \u001b[0mnode_link_data\u001b[0m\u001b[0;34m,\u001b[0m \u001b[0mtree_data\u001b[0m\u001b[0;34m\u001b[0m\u001b[0m\n\u001b[1;32m    130\u001b[0m     \"\"\"\n\u001b[0;32m--> 131\u001b[0;31m     \u001b[0mmultigraph\u001b[0m \u001b[0;34m=\u001b[0m \u001b[0mdata\u001b[0m\u001b[0;34m.\u001b[0m\u001b[0mget\u001b[0m\u001b[0;34m(\u001b[0m\u001b[0;34m'multigraph'\u001b[0m\u001b[0;34m,\u001b[0m \u001b[0mmultigraph\u001b[0m\u001b[0;34m)\u001b[0m\u001b[0;34m\u001b[0m\u001b[0m\n\u001b[0m\u001b[1;32m    132\u001b[0m     \u001b[0mdirected\u001b[0m \u001b[0;34m=\u001b[0m \u001b[0mdata\u001b[0m\u001b[0;34m.\u001b[0m\u001b[0mget\u001b[0m\u001b[0;34m(\u001b[0m\u001b[0;34m'directed'\u001b[0m\u001b[0;34m,\u001b[0m \u001b[0mdirected\u001b[0m\u001b[0;34m)\u001b[0m\u001b[0;34m\u001b[0m\u001b[0m\n\u001b[1;32m    133\u001b[0m     \u001b[0;32mif\u001b[0m \u001b[0mmultigraph\u001b[0m\u001b[0;34m:\u001b[0m\u001b[0;34m\u001b[0m\u001b[0m\n",
      "\u001b[0;31mAttributeError\u001b[0m: 'NoneType' object has no attribute 'get'"
     ]
    }
   ],
   "source": [
    "from pymatgen.analysis.graphs import MoleculeGraph\n",
    "from bondnet.core.reaction import Reaction\n",
    "\n",
    "reactant = MoleculeGraph(mg_df.iloc[1]['reactant_molecule_graph']['molecule'])\n",
    "#product = MoleculeGraph()\n",
    "\n",
    "print(mg_df.iloc[1]['reactant_molecule_graph']['molecule'])\n",
    "print(len(mg_df.iloc[1]['reactant_molecule_graph']['molecule']))\n",
    "\n",
    "#row['reactant_bonds']\n",
    "#rxn = Reaction(reactants = ,\n",
    "#                products = ,\n",
    "#                broken_bond = mg_df.iloc[1]['bonds_broken'],\n",
    "#                free_energy = mg_df.iloc[1]['dE_barrier'],\n",
    "#                identifier = mg_df.iloc[1]['reaction_id'])"
   ]
  },
  {
   "cell_type": "code",
   "execution_count": 13,
   "metadata": {},
   "outputs": [
    {
     "name": "stdout",
     "output_type": "stream",
     "text": [
      "10\n",
      "10\n",
      "11\n",
      "11\n",
      "17\n",
      "17\n",
      "8\n",
      "8\n",
      "8\n",
      "8\n",
      "19\n",
      "20\n",
      "3\n",
      "6\n",
      "7\n",
      "7\n",
      "5\n",
      "6\n",
      "12\n",
      "12\n"
     ]
    },
    {
     "ename": "",
     "evalue": "",
     "output_type": "error",
     "traceback": [
      "\u001b[1;31mThe Kernel crashed while executing code in the the current cell or a previous cell. Please review the code in the cell(s) to identify a possible cause of the failure. Click <a href='https://aka.ms/vscodeJupyterKernelCrash'>here</a> for more info. View Jupyter <a href='command:jupyter.viewOutput'>log</a> for further details."
     ]
    }
   ],
   "source": [
    "from bondnet.utils import to_path, int_atom, xyz2mol\n",
    "from bondnet.core.molwrapper import rdkit_mol_to_wrapper_mol, create_wrapper_mol_from_atoms_and_bonds\n",
    "\n",
    "for ind, row in mg_df.head(10).iterrows():\n",
    "  bonds = row['reactant_bonds']\n",
    "  species_reactant = [int_atom(i['name']) for i in row['reactant_molecule_graph'][\"molecule\"][\"sites\"]]\n",
    "  coords_reactant = [i[\"xyz\"] for i in row['reactant_molecule_graph'][\"molecule\"][\"sites\"]]\n",
    "  charge = row['charge']\n",
    "  id = str(row[\"reactant_id\"])\n",
    "  free_energy = row['product_free_energy']\n",
    "  barrier = row[\"dE_barrier\"]\n",
    "  id = str(row[\"reactant_id\"])\n",
    "\n",
    "  # xyz mol / rdkit\n",
    "  reactant_mol = xyz2mol(atoms = species_reactant, \n",
    "      coordinates = coords_reactant, \n",
    "      charge = charge,\n",
    "      )\n",
    "  reactant_wrapper = rdkit_mol_to_wrapper_mol(reactant_mol[0],\n",
    "      charge = charge,\n",
    "      free_energy=free_energy, \n",
    "      identifier = id\n",
    "      )\n",
    "  reactant_graph_method = create_wrapper_mol_from_atoms_and_bonds(\n",
    "      species_reactant, coords_reactant, bonds, charge=0, free_energy=free_energy, identifier=id,\n",
    "  )\n",
    "  if(len(reactant_wrapper.bonds) != len(reactant_graph_method.bonds)):\n",
    "    reactant_graph_method.rdkit_mol = reactant_wrapper.rdkit_mol\n",
    "\n",
    "    \n",
    "  print(len(reactant_wrapper.bonds))\n",
    "  print(len(reactant_graph_method.bonds))"
   ]
  },
  {
   "cell_type": "code",
   "execution_count": null,
   "metadata": {},
   "outputs": [],
   "source": []
  },
  {
   "cell_type": "code",
   "execution_count": null,
   "metadata": {},
   "outputs": [],
   "source": []
  },
  {
   "cell_type": "code",
   "execution_count": 16,
   "metadata": {},
   "outputs": [
    {
     "name": "stderr",
     "output_type": "stream",
     "text": [
      "100%|██████████| 2000/2000 [00:00<00:00, 9615.40it/s]"
     ]
    },
    {
     "name": "stdout",
     "output_type": "stream",
     "text": [
      "2000\n"
     ]
    },
    {
     "name": "stderr",
     "output_type": "stream",
     "text": [
      "\n"
     ]
    }
   ],
   "source": [
    "#reactant_structure, reactant_molecule_graph, reactant_bonds, \n",
    "#product_structure, product_molecule_graph, product_bonds, \n",
    "#transition_state_structure, \n",
    "#bonds_broken, bonds_broken_nometal, bonds_formed, bonds_formed_nometal\n",
    "from tqdm import tqdm \n",
    "from bondnet.utils import to_path, int_atom, xyz2mol\n",
    "from bondnet.core.molwrapper import rdkit_mol_to_wrapper_mol, create_wrapper_mol_from_atoms_and_bonds\n",
    "\n",
    "\n",
    "element_dict = {\"H\": 1, \"Li\": 3, \"Be\": 4, \"B\": 5, \"C\": 6, \"N\": 7, \"O\": 8, \n",
    "\"F\": 9, 'Ca': 20, 'Na': 11, 'Cl': 17, 'P':15, 'Mg': 12 }\n",
    "preserve = 0\n",
    "for i in tqdm(range(2000)):\n",
    "    row = mg_df.iloc[i]\n",
    "    \"\"\"g_prod = nx.Graph(row[\"product_bonds\"])\n",
    "    g_react = nx.Graph(row[\"reactant_bonds\"])\n",
    "    g_prod_2 = nx.Graph(row[\"product_bonds_nometal\"])\n",
    "    g_react_2 = nx.Graph(row[\"reactant_bonds_nometal\"])\n",
    "    if(nx_graph_atom_mapping(g_prod, g_react) == None):\n",
    "        if(nx_graph_atom_mapping(g_prod_2, g_react_2) == None):\n",
    "            pass\n",
    "        else: works_count += 1 \n",
    "    else: works_count += 1\"\"\"\n",
    "    species_reactant = [int_atom(i['name']) for i in row['reactant_molecule_graph'][\"molecule\"][\"sites\"]]\n",
    "    species_products = [int_atom(i['name']) for i in row['product_molecule_graph'][\"molecule\"][\"sites\"]]\n",
    "    trans_list_temp = list(i['name'] for i in list(row[\"transition_state_structure\"]['sites']))\n",
    "    trans_list = [element_dict[i] for i in trans_list_temp]\n",
    "    \n",
    "    if(species_products == trans_list): preserve += 1\n",
    "    #if(list_xyz == coords_reactant): preserve += 1\n",
    "\n",
    "print(preserve)\n",
    "\n"
   ]
  },
  {
   "cell_type": "code",
   "execution_count": 7,
   "metadata": {},
   "outputs": [
    {
     "data": {
      "text/plain": [
       "6"
      ]
     },
     "execution_count": 7,
     "metadata": {},
     "output_type": "execute_result"
    }
   ],
   "source": [
    "from rdkit import Chem\n",
    "mol = Chem.MolFromSmiles(\"CCC\")\n",
    "mol.GetAtomWithIdx(1).GetAtomicNum()"
   ]
  },
  {
   "cell_type": "code",
   "execution_count": 12,
   "metadata": {},
   "outputs": [
    {
     "data": {
      "text/plain": [
       "['C', 'Cl', 'F', 'H', 'Li', 'Mg', 'N', 'O', 'P']"
      ]
     },
     "execution_count": 12,
     "metadata": {},
     "output_type": "execute_result"
    }
   ],
   "source": [
    "from rdkit import Chem \n",
    "from bondnet.data.utils import get_dataset_species\n",
    "from bondnet.data.utils import get_dataset_species_from_json\n",
    "path_mg_data = \"/home/santiagovargas/Documents/Dataset/mg_dataset/\"\n",
    "path_json = path_mg_data + \"20220613_reaction_data.json\"\n",
    "\n",
    "get_dataset_species_from_json(path_json)"
   ]
  },
  {
   "cell_type": "code",
   "execution_count": 42,
   "metadata": {},
   "outputs": [
    {
     "data": {
      "text/plain": [
       "Index(['_id', 'builder_meta', 'charge', 'spin_multiplicity', 'natoms',\n",
       "       'elements', 'nelements', 'composition', 'formula_alphabetical',\n",
       "       'chemsys', 'symmetry', 'reaction_id', 'reactant_id', 'product_id',\n",
       "       'transition_state_id', 'deprecated', 'reactant_structure',\n",
       "       'reactant_molecule_graph', 'reactant_molecule_graph_nometal',\n",
       "       'reactant_bonds', 'reactant_bonds_nometal', 'reactant_energy',\n",
       "       'reactant_zpe', 'reactant_enthalpy', 'reactant_entropy',\n",
       "       'reactant_free_energy', 'product_structure', 'product_molecule_graph',\n",
       "       'product_molecule_graph_nometal', 'product_bonds',\n",
       "       'product_bonds_nometal', 'product_energy', 'product_zpe',\n",
       "       'product_enthalpy', 'product_entropy', 'product_free_energy',\n",
       "       'transition_state_structure', 'transition_state_energy',\n",
       "       'transition_state_zpe', 'transition_state_enthalpy',\n",
       "       'transition_state_entropy', 'transition_state_free_energy', 'dE', 'dH',\n",
       "       'dS', 'dG', 'dE_barrier', 'dH_barrier', 'dS_barrier', 'dG_barrier',\n",
       "       'bonds_broken', 'bond_types_broken', 'bonds_broken_nometal',\n",
       "       'bond_types_broken_nometal', 'bonds_formed', 'bond_types_formed',\n",
       "       'bonds_formed_nometal', 'bond_types_formed_nometal',\n",
       "       'similar_reactions', '_bt'],\n",
       "      dtype='object')"
      ]
     },
     "execution_count": 42,
     "metadata": {},
     "output_type": "execute_result"
    }
   ],
   "source": [
    "\n",
    "\n",
    "class BondAsNodeFeaturizerFull(BondFeaturizer):\n",
    "    \"\"\"\n",
    "    Featurize all bonds in a molecule.\n",
    "\n",
    "    The bond indices will be preserved, i.e. feature i corresponds to atom i.\n",
    "    The number of features will be equal to the number of bonds in the molecule,\n",
    "    so this is suitable for the case where we represent bond as graph nodes.\n",
    "\n",
    "    See Also:\n",
    "        BondAsEdgeBidirectedFeaturizer\n",
    "    \"\"\"\n",
    "\n",
    "    def __init__(\n",
    "        self,\n",
    "        length_featurizer=None,\n",
    "        length_featurizer_args=None,\n",
    "        dative=False,\n",
    "        dtype=\"float32\",\n",
    "    ):\n",
    "        super(BondAsNodeFeaturizerFull, self).__init__(\n",
    "            length_featurizer, length_featurizer_args, dtype\n",
    "        )\n",
    "        self.dative = dative\n",
    "\n",
    "    \n",
    "\n"
   ]
  },
  {
   "cell_type": "code",
   "execution_count": 3,
   "metadata": {},
   "outputs": [
    {
     "name": "stdout",
     "output_type": "stream",
     "text": [
      "{'O': 1.0, 'C': 5.0, 'N': 1.0, 'H': 5.0}\n"
     ]
    },
    {
     "ename": "NameError",
     "evalue": "name 'num_atoms' is not defined",
     "output_type": "error",
     "traceback": [
      "\u001b[0;31m---------------------------------------------------------------------------\u001b[0m",
      "\u001b[0;31mNameError\u001b[0m                                 Traceback (most recent call last)",
      "\u001b[0;32m/tmp/ipykernel_10795/1434332650.py\u001b[0m in \u001b[0;36m<module>\u001b[0;34m\u001b[0m\n\u001b[1;32m      3\u001b[0m \u001b[0matom_types\u001b[0m \u001b[0;34m=\u001b[0m \u001b[0mlist\u001b[0m\u001b[0;34m(\u001b[0m\u001b[0mmol\u001b[0m\u001b[0;34m[\u001b[0m\u001b[0;34m'composition'\u001b[0m\u001b[0;34m]\u001b[0m\u001b[0;34m.\u001b[0m\u001b[0mkeys\u001b[0m\u001b[0;34m(\u001b[0m\u001b[0;34m)\u001b[0m\u001b[0;34m)\u001b[0m\u001b[0;34m\u001b[0m\u001b[0m\n\u001b[1;32m      4\u001b[0m \u001b[0;32mfor\u001b[0m \u001b[0matom\u001b[0m \u001b[0;32min\u001b[0m \u001b[0matom_types\u001b[0m\u001b[0;34m:\u001b[0m\u001b[0;34m\u001b[0m\u001b[0m\n\u001b[0;32m----> 5\u001b[0;31m     \u001b[0mnum_atoms\u001b[0m \u001b[0;34m+=\u001b[0m \u001b[0mint\u001b[0m\u001b[0;34m(\u001b[0m\u001b[0mmol\u001b[0m\u001b[0;34m[\u001b[0m\u001b[0;34m'composition'\u001b[0m\u001b[0;34m]\u001b[0m\u001b[0;34m[\u001b[0m\u001b[0matom\u001b[0m\u001b[0;34m]\u001b[0m\u001b[0;34m)\u001b[0m\u001b[0;34m\u001b[0m\u001b[0m\n\u001b[0m",
      "\u001b[0;31mNameError\u001b[0m: name 'num_atoms' is not defined"
     ]
    }
   ],
   "source": [
    "def __call__(mol, **kwargs):\n",
    "        \"\"\"\n",
    "        Parameters\n",
    "        ----------\n",
    "        mol : pandas series with 'bond', 'pymatgen'/'site'/'molecule', and \n",
    "        'composition' columns\n",
    "\n",
    "        Returns\n",
    "        -------\n",
    "            Dictionary for bond features\n",
    "        \"\"\"\n",
    "        dative = True\n",
    "\n",
    "        if dative:\n",
    "            num_feats = 12\n",
    "        else:\n",
    "            num_feats = 11\n",
    "\n",
    "        columns = mol.keys()\n",
    "\n",
    "        if 'reactant_bonds' in columns: \n",
    "            bond_key = \"reactant_bonds\"\n",
    "            graph_key = \"reactant_molecule_graph\"\n",
    "        else: \n",
    "            bond_key = \"product_bonds\"\n",
    "            graph_key = \"product_molecule_graph\"\n",
    "\n",
    "\n",
    "        # Note, this needs to be set such that single atom molecule works\n",
    "\n",
    "        num_bonds = len(mol['bond_key'])\n",
    "        # need to add back \n",
    "\n",
    "        #if num_bonds == 0:\n",
    "        #    ft = [0.0 for _ in range(num_feats)]\n",
    "        #    if self.length_featurizer:\n",
    "        #        ft += [0.0 for _ in range(len(self.length_featurizer.feature_name))]\n",
    "        #    feats = [ft]\n",
    "        # add back \n",
    "        #else:\n",
    "\n",
    "            ring = mol.GetRingInfo()\n",
    "            allowed_ring_size = [3, 4, 5, 6, 7]\n",
    "\n",
    "            feats = []\n",
    "            for u in range(num_bonds):\n",
    "                bond = mol.GetBondWithIdx(u)\n",
    "\n",
    "                ft = [\n",
    "                    int(bond.IsInRing()),\n",
    "                    int(bond.GetIsConjugated()),\n",
    "                ]\n",
    "                for s in allowed_ring_size:\n",
    "                    ft.append(ring.IsBondInRingOfSize(u, s))\n",
    "\n",
    "                allowed_bond_type = [\n",
    "                    Chem.rdchem.BondType.SINGLE,\n",
    "                    Chem.rdchem.BondType.DOUBLE,\n",
    "                    Chem.rdchem.BondType.TRIPLE,\n",
    "                    Chem.rdchem.BondType.AROMATIC,\n",
    "                    # Chem.rdchem.BondType.IONIC,\n",
    "                ]\n",
    "                if self.dative:\n",
    "                    allowed_bond_type.append(Chem.rdchem.BondType.DATIVE)\n",
    "                ft += one_hot_encoding(bond.GetBondType(), allowed_bond_type)\n",
    "\n",
    "                if self.length_featurizer:\n",
    "                    at1 = bond.GetBeginAtomIdx()\n",
    "                    at2 = bond.GetEndAtomIdx()\n",
    "                    atoms_pos = mol.GetConformer().GetPositions()\n",
    "                    bond_length = np.linalg.norm(atoms_pos[at1] - atoms_pos[at2])\n",
    "                    ft += self.length_featurizer(bond_length)\n",
    "\n",
    "                feats.append(ft)\n",
    "\n",
    "        feats = torch.tensor(feats, dtype=getattr(torch, self.dtype))\n",
    "        self._feature_size = feats.shape[1]\n",
    "        self._feature_name = (\n",
    "            [\"in_ring\", \"conjugated\"]\n",
    "            + [\"ring size\"] * 5\n",
    "            + [\"single\", \"double\", \"triple\", \"aromatic\"]\n",
    "        )\n",
    "        if self.dative:\n",
    "            self._feature_name += [\"dative\"]\n",
    "        if self.length_featurizer:\n",
    "            self._feature_name += self.length_featurizer.feature_name\n",
    "\n",
    "        return {\"feat\": feats}"
   ]
  },
  {
   "cell_type": "code",
   "execution_count": 5,
   "metadata": {},
   "outputs": [
    {
     "data": {
      "text/plain": [
       "12.011"
      ]
     },
     "execution_count": 5,
     "metadata": {},
     "output_type": "execute_result"
    }
   ],
   "source": []
  },
  {
   "cell_type": "code",
   "execution_count": 11,
   "metadata": {},
   "outputs": [
    {
     "data": {
      "text/plain": [
       "[[0, 1],\n",
       " [1, 2],\n",
       " [1, 4],\n",
       " [2, 7],\n",
       " [2, 3],\n",
       " [2, 8],\n",
       " [3, 9],\n",
       " [3, 4],\n",
       " [3, 5],\n",
       " [4, 11],\n",
       " [4, 10],\n",
       " [5, 6]]"
      ]
     },
     "execution_count": 11,
     "metadata": {},
     "output_type": "execute_result"
    }
   ],
   "source": [
    "\n",
    "mg_df.iloc[0]['product_bonds']\n"
   ]
  },
  {
   "cell_type": "code",
   "execution_count": null,
   "metadata": {},
   "outputs": [],
   "source": []
  }
 ],
 "metadata": {
  "interpreter": {
   "hash": "c205a9eb4435b0aa27aaf0e9c4340d2b9512e0cc8b49dbd290219ad3711c312f"
  },
  "kernelspec": {
   "display_name": "Python 3.7.0 ('bondnet')",
   "language": "python",
   "name": "python3"
  },
  "language_info": {
   "codemirror_mode": {
    "name": "ipython",
    "version": 3
   },
   "file_extension": ".py",
   "mimetype": "text/x-python",
   "name": "python",
   "nbconvert_exporter": "python",
   "pygments_lexer": "ipython3",
   "version": "3.7.0"
  },
  "orig_nbformat": 4
 },
 "nbformat": 4,
 "nbformat_minor": 2
}
