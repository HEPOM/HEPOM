{
 "cells": [
  {
   "cell_type": "code",
   "execution_count": 1,
   "metadata": {},
   "outputs": [
    {
     "name": "stderr",
     "output_type": "stream",
     "text": [
      "/home/santiagovargas/anaconda3/envs/bondnet/lib/python3.7/site-packages/tqdm/auto.py:22: TqdmWarning: IProgress not found. Please update jupyter and ipywidgets. See https://ipywidgets.readthedocs.io/en/stable/user_install.html\n",
      "  from .autonotebook import tqdm as notebook_tqdm\n",
      "Using backend: pytorch\n"
     ]
    }
   ],
   "source": [
    "import pandas as pd \n",
    "from bondnet.dataset.mg_barrier import process_species_rdkit\n",
    "from pymatgen.core import Lattice, Structure, Molecule\n",
    "\n",
    "path_mg_data = \"/home/santiagovargas/Documents/Dataset/mg_dataset/\"\n",
    "path_json = path_mg_data + \"20220613_reaction_data.json\"\n",
    "mg_df = pd.read_json(path_json)"
   ]
  },
  {
   "cell_type": "code",
   "execution_count": 3,
   "metadata": {},
   "outputs": [
    {
     "name": "stdout",
     "output_type": "stream",
     "text": [
      "1943 596 423 15\n"
     ]
    },
    {
     "data": {
      "image/png": "[encoded data removed]",
      "text/plain": [
       "<Figure size 432x288 with 1 Axes>"
      ]
     },
     "metadata": {
      "needs_background": "light"
     },
     "output_type": "display_data"
    }
   ],
   "source": [
    "import matplotlib.pyplot as plt \n",
    "plt.hist(mg_df['dE_barrier'].tolist(), bins = 20)\n",
    "#sns.plot(mg_df['dE_barrier'].tolist())\n",
    "\n",
    "bin_1, bin_2, bin_3, bin_4 = 0,0,0,0\n",
    "for value in mg_df['dE_barrier'].tolist():\n",
    "    if(value < 1): bin_1 += 1\n",
    "    elif(value < 2  and value > 1): bin_2 += 1\n",
    "    elif(value < 4  and value > 2): bin_3 += 1\n",
    "    elif(value > 5): bin_4 += 1\n",
    "print(bin_1, bin_2, bin_3, bin_4)"
   ]
  },
  {
   "cell_type": "code",
   "execution_count": 87,
   "metadata": {},
   "outputs": [
    {
     "name": "stdout",
     "output_type": "stream",
     "text": [
      "[[0, 1], [1, 2], [1, 4], [2, 7], [2, 3], [2, 8], [3, 9], [3, 4], [3, 5], [4, 11], [4, 10], [5, 6]]\n",
      "[[0, 1], [1, 2], [1, 4], [2, 7], [2, 3], [2, 8], [3, 9], [3, 4], [3, 5], [4, 11], [4, 10], [5, 6]]\n"
     ]
    }
   ],
   "source": [
    "#mg_df[mg_df['reactant_id'] == 62707]\n",
    "#print(len(mg_df.iloc[0]['product_molecule_graph']['graphs']['nodes']))\n",
    "#print(mg_df.iloc[0]['product_molecule_graph']['graphs']['adjacency'])\n",
    "bonds_net = []\n",
    "for ind, i in enumerate(mg_df.iloc[0]['product_molecule_graph']['graphs']['adjacency']):\n",
    "    for j in i: \n",
    "        bonds_net.append([ind, j['id']]) \n",
    "        \n",
    "print(bonds_net)\n",
    "print(mg_df.iloc[0]['product_bonds'])"
   ]
  },
  {
   "cell_type": "code",
   "execution_count": 5,
   "metadata": {},
   "outputs": [
    {
     "name": "stdout",
     "output_type": "stream",
     "text": [
      "0.772\n"
     ]
    }
   ],
   "source": [
    "bond_count = 0\n",
    "for ind, row in mg_df.iterrows():\n",
    "    if(len(row['bonds_broken']) == 1):bond_count+=1\n",
    "    #elif(len(row['bonds_broken_nometal']) == 1):bond_count+=1\n",
    "    #elif(len(row['bonds_formed_nometal'])!=1 ):bond_count+=1\n",
    "    elif(len(row['bonds_formed'])!= 1):bond_count+=1\n",
    "    else:bond_count+=0\n",
    "print(bond_count / ind)"
   ]
  },
  {
   "cell_type": "code",
   "execution_count": 8,
   "metadata": {},
   "outputs": [
    {
     "name": "stdout",
     "output_type": "stream",
     "text": [
      "-8228.114932717173\n",
      "-0.0005337600468919845\n",
      "-0.0005337600468910001\n",
      "0.0922205206061335\n",
      "0.092220520606133\n",
      "-8226.321824156197\n",
      "62707_C5H5N1O1\n"
     ]
    }
   ],
   "source": [
    "import pandas as pd\n",
    "\n",
    "from bondnet.utils import int_atom, xyz2mol\n",
    "from bondnet.core.molwrapper import rdkit_mol_to_wrapper_mol\n",
    "atoms = [int_atom(atom['name']) for atom in mg_df.iloc[0]['reactant_molecule_graph'][\"molecule\"][\"sites\"]]\n",
    "xyz_coordinates = [i[\"xyz\"] for i in mg_df.iloc[0]['reactant_molecule_graph'][\"molecule\"][\"sites\"]]\n",
    "charge = int(mg_df.iloc[0]['charge'])\n",
    "mol = xyz2mol(atoms = atoms, \n",
    "                coordinates = xyz_coordinates, \n",
    "                charge = charge,\n",
    "                )\n",
    "print(rdkit_mol_to_wrapper_mol(mol[0], identifier= str(mg_df.iloc[0][\"reactant_id\"])))"
   ]
  },
  {
   "cell_type": "code",
   "execution_count": 5,
   "metadata": {},
   "outputs": [
    {
     "data": {
      "text/plain": [
       "pymatgen.analysis.graphs.MoleculeGraph"
      ]
     },
     "execution_count": 5,
     "metadata": {},
     "output_type": "execute_result"
    }
   ],
   "source": [
    "from bondnet.core.molwrapper import create_wrapper_mol_from_atoms_and_bonds\n",
    "from bondnet.core.reaction import Reaction \n",
    "from bondnet.core.reaction_collection import ReactionCollection\n",
    "\n",
    "row = mg_df.iloc[1]\n",
    "barrier = row[\"dE_barrier\"]\n",
    "species = [i['name'] for i in row['product_molecule_graph'][\"molecule\"][\"sites\"]]\n",
    "coords = [i[\"xyz\"] for i in row['product_molecule_graph'][\"molecule\"][\"sites\"]]\n",
    "bonds = row['product_bonds']\n",
    "\n",
    "charge = row['charge']\n",
    "free_energy = row['product_free_energy']\n",
    "id = str(row[\"reactant_id\"])\n",
    "\n",
    "product = create_wrapper_mol_from_atoms_and_bonds(\n",
    "    species, coords, bonds, charge=0, free_energy=free_energy, identifier=id,\n",
    ")\n",
    "\n",
    "\n",
    "species = [i['name'] for i in row['reactant_molecule_graph'][\"molecule\"][\"sites\"]]\n",
    "coords = [i[\"xyz\"] for i in row['reactant_molecule_graph'][\"molecule\"][\"sites\"]]\n",
    "bonds = row['reactant_bonds']\n",
    "charge = row['charge']\n",
    "\n",
    "free_energy = row['reactant_free_energy']\n",
    "id = str(row[\"product_id\"])\n",
    "reactant = create_wrapper_mol_from_atoms_and_bonds(\n",
    "    species, coords, bonds, charge=0, free_energy=free_energy, identifier=id,\n",
    ")\n",
    "\n",
    "id = [i for i in row[\"reaction_id\"].split(\"-\")]\n",
    "id = int(id[0] + id[1] + id[2])\n",
    "broken_bond = row['bonds_formed']\n",
    "if(broken_bond == []):broken_bond=None\n",
    "rxn = Reaction(\n",
    "            reactants = [reactant], \n",
    "            products=[product], \n",
    "            free_energy= barrier,\n",
    "            broken_bond = broken_bond,\n",
    "            identifier = id\n",
    "            )\n",
    "\n",
    "reactant_bond_list = list(reactant.bonds.keys())\n",
    "product_bond_list = list(product.bonds.keys())\n",
    "reactant_bond_list.sort()\n",
    "product_bond_list.sort()\n",
    "\n",
    "\n",
    "#print(rxn)\n",
    "#extractor = ReactionCollection([rxn])\n",
    "#extractor.create_regression_dataset_reaction_network_simple(\n",
    "#    struct_file=path_mg_data + \"mg_struct_bond_rgrn.sdf\",\n",
    "#    label_file=path_mg_data + \"mg_label_bond_rgrn.yaml\",\n",
    "#    feature_file=path_mg_data + \"mg_feature_bond_rgrn.yaml\"\n",
    "#)\n",
    "type(reactant.mol_graph)"
   ]
  },
  {
   "cell_type": "code",
   "execution_count": 33,
   "metadata": {},
   "outputs": [
    {
     "ename": "AttributeError",
     "evalue": "'NoneType' object has no attribute 'get'",
     "output_type": "error",
     "traceback": [
      "\u001b[0;31m---------------------------------------------------------------------------\u001b[0m",
      "\u001b[0;31mAttributeError\u001b[0m                            Traceback (most recent call last)",
      "\u001b[0;32m/tmp/ipykernel_32268/272415304.py\u001b[0m in \u001b[0;36m<module>\u001b[0;34m\u001b[0m\n\u001b[1;32m      2\u001b[0m \u001b[0;32mfrom\u001b[0m \u001b[0mbondnet\u001b[0m\u001b[0;34m.\u001b[0m\u001b[0mcore\u001b[0m\u001b[0;34m.\u001b[0m\u001b[0mreaction\u001b[0m \u001b[0;32mimport\u001b[0m \u001b[0mReaction\u001b[0m\u001b[0;34m\u001b[0m\u001b[0m\n\u001b[1;32m      3\u001b[0m \u001b[0;34m\u001b[0m\u001b[0m\n\u001b[0;32m----> 4\u001b[0;31m \u001b[0mreactant\u001b[0m \u001b[0;34m=\u001b[0m \u001b[0mMoleculeGraph\u001b[0m\u001b[0;34m(\u001b[0m\u001b[0mmg_df\u001b[0m\u001b[0;34m.\u001b[0m\u001b[0miloc\u001b[0m\u001b[0;34m[\u001b[0m\u001b[0;36m1\u001b[0m\u001b[0;34m]\u001b[0m\u001b[0;34m[\u001b[0m\u001b[0;34m'reactant_molecule_graph'\u001b[0m\u001b[0;34m]\u001b[0m\u001b[0;34m[\u001b[0m\u001b[0;34m'molecule'\u001b[0m\u001b[0;34m]\u001b[0m\u001b[0;34m)\u001b[0m\u001b[0;34m\u001b[0m\u001b[0m\n\u001b[0m\u001b[1;32m      5\u001b[0m \u001b[0;31m#product = MoleculeGraph()\u001b[0m\u001b[0;34m\u001b[0m\u001b[0;34m\u001b[0m\u001b[0m\n\u001b[1;32m      6\u001b[0m \u001b[0;34m\u001b[0m\u001b[0m\n",
      "\u001b[0;32m~/anaconda3/envs/bondnet/lib/python3.7/site-packages/pymatgen/analysis/graphs.py\u001b[0m in \u001b[0;36m__init__\u001b[0;34m(self, molecule, graph_data)\u001b[0m\n\u001b[1;32m   1562\u001b[0m \u001b[0;34m\u001b[0m\u001b[0m\n\u001b[1;32m   1563\u001b[0m         \u001b[0mself\u001b[0m\u001b[0;34m.\u001b[0m\u001b[0mmolecule\u001b[0m \u001b[0;34m=\u001b[0m \u001b[0mmolecule\u001b[0m\u001b[0;34m\u001b[0m\u001b[0m\n\u001b[0;32m-> 1564\u001b[0;31m         \u001b[0mself\u001b[0m\u001b[0;34m.\u001b[0m\u001b[0mgraph\u001b[0m \u001b[0;34m=\u001b[0m \u001b[0mnx\u001b[0m\u001b[0;34m.\u001b[0m\u001b[0mreadwrite\u001b[0m\u001b[0;34m.\u001b[0m\u001b[0mjson_graph\u001b[0m\u001b[0;34m.\u001b[0m\u001b[0madjacency_graph\u001b[0m\u001b[0;34m(\u001b[0m\u001b[0mgraph_data\u001b[0m\u001b[0;34m)\u001b[0m\u001b[0;34m\u001b[0m\u001b[0m\n\u001b[0m\u001b[1;32m   1565\u001b[0m \u001b[0;34m\u001b[0m\u001b[0m\n\u001b[1;32m   1566\u001b[0m         \u001b[0;31m# tidy up edge attr dicts, reading to/from json duplicates\u001b[0m\u001b[0;34m\u001b[0m\u001b[0;34m\u001b[0m\u001b[0m\n",
      "\u001b[0;32m~/anaconda3/envs/bondnet/lib/python3.7/site-packages/networkx/readwrite/json_graph/adjacency.py\u001b[0m in \u001b[0;36madjacency_graph\u001b[0;34m(data, directed, multigraph, attrs)\u001b[0m\n\u001b[1;32m    129\u001b[0m     \u001b[0madjacency_graph\u001b[0m\u001b[0;34m,\u001b[0m \u001b[0mnode_link_data\u001b[0m\u001b[0;34m,\u001b[0m \u001b[0mtree_data\u001b[0m\u001b[0;34m\u001b[0m\u001b[0m\n\u001b[1;32m    130\u001b[0m     \"\"\"\n\u001b[0;32m--> 131\u001b[0;31m     \u001b[0mmultigraph\u001b[0m \u001b[0;34m=\u001b[0m \u001b[0mdata\u001b[0m\u001b[0;34m.\u001b[0m\u001b[0mget\u001b[0m\u001b[0;34m(\u001b[0m\u001b[0;34m'multigraph'\u001b[0m\u001b[0;34m,\u001b[0m \u001b[0mmultigraph\u001b[0m\u001b[0;34m)\u001b[0m\u001b[0;34m\u001b[0m\u001b[0m\n\u001b[0m\u001b[1;32m    132\u001b[0m     \u001b[0mdirected\u001b[0m \u001b[0;34m=\u001b[0m \u001b[0mdata\u001b[0m\u001b[0;34m.\u001b[0m\u001b[0mget\u001b[0m\u001b[0;34m(\u001b[0m\u001b[0;34m'directed'\u001b[0m\u001b[0;34m,\u001b[0m \u001b[0mdirected\u001b[0m\u001b[0;34m)\u001b[0m\u001b[0;34m\u001b[0m\u001b[0m\n\u001b[1;32m    133\u001b[0m     \u001b[0;32mif\u001b[0m \u001b[0mmultigraph\u001b[0m\u001b[0;34m:\u001b[0m\u001b[0;34m\u001b[0m\u001b[0m\n",
      "\u001b[0;31mAttributeError\u001b[0m: 'NoneType' object has no attribute 'get'"
     ]
    }
   ],
   "source": [
    "from pymatgen.analysis.graphs import MoleculeGraph\n",
    "from bondnet.core.reaction import Reaction\n",
    "\n",
    "reactant = MoleculeGraph(mg_df.iloc[1]['reactant_molecule_graph']['molecule'])\n",
    "#product = MoleculeGraph()\n",
    "\n",
    "print(mg_df.iloc[1]['reactant_molecule_graph']['molecule'])\n",
    "print(len(mg_df.iloc[1]['reactant_molecule_graph']['molecule']))\n",
    "\n",
    "#row['reactant_bonds']\n",
    "#rxn = Reaction(reactants = ,\n",
    "#                products = ,\n",
    "#                broken_bond = mg_df.iloc[1]['bonds_broken'],\n",
    "#                free_energy = mg_df.iloc[1]['dE_barrier'],\n",
    "#                identifier = mg_df.iloc[1]['reaction_id'])"
   ]
  },
  {
   "cell_type": "code",
   "execution_count": 13,
   "metadata": {},
   "outputs": [
    {
     "name": "stdout",
     "output_type": "stream",
     "text": [
      "10\n",
      "10\n",
      "11\n",
      "11\n",
      "17\n",
      "17\n",
      "8\n",
      "8\n",
      "8\n",
      "8\n",
      "19\n",
      "20\n",
      "3\n",
      "6\n",
      "7\n",
      "7\n",
      "5\n",
      "6\n",
      "12\n",
      "12\n"
     ]
    },
    {
     "ename": "",
     "evalue": "",
     "output_type": "error",
     "traceback": [
      "\u001b[1;31mThe Kernel crashed while executing code in the the current cell or a previous cell. Please review the code in the cell(s) to identify a possible cause of the failure. Click <a href='https://aka.ms/vscodeJupyterKernelCrash'>here</a> for more info. View Jupyter <a href='command:jupyter.viewOutput'>log</a> for further details."
     ]
    }
   ],
   "source": [
    "from bondnet.utils import to_path, int_atom, xyz2mol\n",
    "from bondnet.core.molwrapper import rdkit_mol_to_wrapper_mol, create_wrapper_mol_from_atoms_and_bonds\n",
    "\n",
    "for ind, row in mg_df.head(10).iterrows():\n",
    "  bonds = row['reactant_bonds']\n",
    "  species_reactant = [int_atom(i['name']) for i in row['reactant_molecule_graph'][\"molecule\"][\"sites\"]]\n",
    "  coords_reactant = [i[\"xyz\"] for i in row['reactant_molecule_graph'][\"molecule\"][\"sites\"]]\n",
    "  charge = row['charge']\n",
    "  id = str(row[\"reactant_id\"])\n",
    "  free_energy = row['product_free_energy']\n",
    "  barrier = row[\"dE_barrier\"]\n",
    "  id = str(row[\"reactant_id\"])\n",
    "\n",
    "  # xyz mol / rdkit\n",
    "  reactant_mol = xyz2mol(atoms = species_reactant, \n",
    "      coordinates = coords_reactant, \n",
    "      charge = charge,\n",
    "      )\n",
    "  reactant_wrapper = rdkit_mol_to_wrapper_mol(reactant_mol[0],\n",
    "      charge = charge,\n",
    "      free_energy=free_energy, \n",
    "      identifier = id\n",
    "      )\n",
    "  reactant_graph_method = create_wrapper_mol_from_atoms_and_bonds(\n",
    "      species_reactant, coords_reactant, bonds, charge=0, free_energy=free_energy, identifier=id,\n",
    "  )\n",
    "  if(len(reactant_wrapper.bonds) != len(reactant_graph_method.bonds)):\n",
    "    reactant_graph_method.rdkit_mol = reactant_wrapper.rdkit_mol\n",
    "\n",
    "    \n",
    "  print(len(reactant_wrapper.bonds))\n",
    "  print(len(reactant_graph_method.bonds))"
   ]
  },
  {
   "cell_type": "code",
   "execution_count": null,
   "metadata": {},
   "outputs": [],
   "source": []
  },
  {
   "cell_type": "code",
   "execution_count": null,
   "metadata": {},
   "outputs": [],
   "source": []
  },
  {
   "cell_type": "code",
   "execution_count": 16,
   "metadata": {},
   "outputs": [
    {
     "name": "stderr",
     "output_type": "stream",
     "text": [
      "100%|██████████| 2000/2000 [00:00<00:00, 9615.40it/s]"
     ]
    },
    {
     "name": "stdout",
     "output_type": "stream",
     "text": [
      "2000\n"
     ]
    },
    {
     "name": "stderr",
     "output_type": "stream",
     "text": [
      "\n"
     ]
    }
   ],
   "source": [
    "#reactant_structure, reactant_molecule_graph, reactant_bonds, \n",
    "#product_structure, product_molecule_graph, product_bonds, \n",
    "#transition_state_structure, \n",
    "#bonds_broken, bonds_broken_nometal, bonds_formed, bonds_formed_nometal\n",
    "from tqdm import tqdm \n",
    "from bondnet.utils import to_path, int_atom, xyz2mol\n",
    "from bondnet.core.molwrapper import rdkit_mol_to_wrapper_mol, create_wrapper_mol_from_atoms_and_bonds\n",
    "\n",
    "\n",
    "element_dict = {\"H\": 1, \"Li\": 3, \"Be\": 4, \"B\": 5, \"C\": 6, \"N\": 7, \"O\": 8, \n",
    "\"F\": 9, 'Ca': 20, 'Na': 11, 'Cl': 17, 'P':15, 'Mg': 12 }\n",
    "preserve = 0\n",
    "for i in tqdm(range(2000)):\n",
    "    row = mg_df.iloc[i]\n",
    "    \"\"\"g_prod = nx.Graph(row[\"product_bonds\"])\n",
    "    g_react = nx.Graph(row[\"reactant_bonds\"])\n",
    "    g_prod_2 = nx.Graph(row[\"product_bonds_nometal\"])\n",
    "    g_react_2 = nx.Graph(row[\"reactant_bonds_nometal\"])\n",
    "    if(nx_graph_atom_mapping(g_prod, g_react) == None):\n",
    "        if(nx_graph_atom_mapping(g_prod_2, g_react_2) == None):\n",
    "            pass\n",
    "        else: works_count += 1 \n",
    "    else: works_count += 1\"\"\"\n",
    "    species_reactant = [int_atom(i['name']) for i in row['reactant_molecule_graph'][\"molecule\"][\"sites\"]]\n",
    "    species_products = [int_atom(i['name']) for i in row['product_molecule_graph'][\"molecule\"][\"sites\"]]\n",
    "    trans_list_temp = list(i['name'] for i in list(row[\"transition_state_structure\"]['sites']))\n",
    "    trans_list = [element_dict[i] for i in trans_list_temp]\n",
    "    \n",
    "    if(species_products == trans_list): preserve += 1\n",
    "    #if(list_xyz == coords_reactant): preserve += 1\n",
    "\n",
    "print(preserve)\n",
    "\n"
   ]
  },
  {
   "cell_type": "code",
   "execution_count": 7,
   "metadata": {},
   "outputs": [
    {
     "data": {
      "text/plain": [
       "6"
      ]
     },
     "execution_count": 7,
     "metadata": {},
     "output_type": "execute_result"
    }
   ],
   "source": [
    "from rdkit import Chem\n",
    "mol = Chem.MolFromSmiles(\"CCC\")\n",
    "mol.GetAtomWithIdx(1).GetAtomicNum()"
   ]
  },
  {
   "cell_type": "code",
   "execution_count": null,
   "metadata": {},
   "outputs": [],
   "source": []
  }
 ],
 "metadata": {
  "interpreter": {
   "hash": "c205a9eb4435b0aa27aaf0e9c4340d2b9512e0cc8b49dbd290219ad3711c312f"
  },
  "kernelspec": {
   "display_name": "Python 3.7.0 ('bondnet')",
   "language": "python",
   "name": "python3"
  },
  "language_info": {
   "codemirror_mode": {
    "name": "ipython",
    "version": 3
   },
   "file_extension": ".py",
   "mimetype": "text/x-python",
   "name": "python",
   "nbconvert_exporter": "python",
   "pygments_lexer": "ipython3",
   "version": "3.7.0"
  },
  "orig_nbformat": 4
 },
 "nbformat": 4,
 "nbformat_minor": 2
}
