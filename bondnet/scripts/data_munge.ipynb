{
 "cells": [
  {
   "cell_type": "code",
   "execution_count": 1,
   "metadata": {},
   "outputs": [
    {
     "name": "stderr",
     "output_type": "stream",
     "text": [
      "/home/santiagovargas/anaconda3/envs/bondnet/lib/python3.7/site-packages/tqdm/auto.py:22: TqdmWarning: IProgress not found. Please update jupyter and ipywidgets. See https://ipywidgets.readthedocs.io/en/stable/user_install.html\n",
      "  from .autonotebook import tqdm as notebook_tqdm\n"
     ]
    }
   ],
   "source": [
    "import itertools\n",
    "import numpy as np\n",
    "import pandas as pd \n",
    "from tqdm import tqdm \n",
    "#from collections import deque\n",
    "import matplotlib.pyplot as plt \n",
    "from rdkit import Chem\n",
    "\n",
    "#from pymatgen.core import Lattice, Structure, Molecule\n",
    "#from pymatgen.analysis.graphs import MoleculeGraph\n",
    "\n",
    "from bondnet.utils import int_atom, xyz2mol\n",
    "from bondnet.core.molwrapper import rdkit_mol_to_wrapper_mol, create_wrapper_mol_from_atoms_and_bonds\n",
    "#from bondnet.dataset.mg_barrier import process_species_rdkit\n",
    "from bondnet.core.reaction import Reaction \n",
    "#from bondnet.core.reaction_collection import ReactionCollection\n",
    "\n",
    "path_mg_data = \"../dataset/mg_dataset/\"\n",
    "path_json = path_mg_data + \"20220613_reaction_data.json\"\n",
    "path_json_v2 = path_mg_data + \"20220826_mpreact_reactions.json\"\n",
    "mg_df = pd.read_json(path_json)\n",
    "mg_df_new = pd.read_json(path_json_v2)"
   ]
  },
  {
   "cell_type": "code",
   "execution_count": 4,
   "metadata": {},
   "outputs": [
    {
     "name": "stdout",
     "output_type": "stream",
     "text": [
      "0.17 0.38 0.45 0.00 0.00\n",
      "0.13 0.27 0.16 0.20 0.25\n"
     ]
    },
    {
     "data": {
      "image/png": "[encoded data removed]",
      "text/plain": [
       "<Figure size 432x288 with 1 Axes>"
      ]
     },
     "metadata": {
      "needs_background": "light"
     },
     "output_type": "display_data"
    }
   ],
   "source": [
    "fig = plt.figure()\n",
    "plt.hist(mg_df_new['dE_barrier'].tolist(), bins = 100, label='new data')\n",
    "plt.hist(mg_df['dE_barrier'].tolist(), bins = 100, label='old data')\n",
    "plt.legend()\n",
    "bin_1, bin_2, bin_3, bin_4, bin_5, bin_6 = 0, 0, 0, 0, 0, 0\n",
    "bin_1_new, bin_2_new, bin_3_new, bin_4_new, bin_5_new, bin_6_new = 0, 0, 0, 0, 0, 0\n",
    "\n",
    "for value in mg_df['dE_barrier'].tolist():\n",
    "    if(value <= 0.1): bin_1 += 1\n",
    "    elif(value < 0.7  and value > 0.1): bin_2 += 1\n",
    "    else: bin_3 += 1\n",
    "\n",
    "for value in mg_df_new['dE_barrier'].tolist():\n",
    "    if(value <= 0.04): bin_1_new += 1\n",
    "    elif(value < 0.3  and value > 0.04): bin_2_new += 1\n",
    "    elif(value < 0.7  and value > 0.3): bin_3_new += 1\n",
    "    elif(value < 1.5  and value > 0.7): bin_4_new += 1\n",
    "    else: bin_5_new += 1\n",
    "\n",
    "old_len = len(mg_df['dE_barrier'].tolist())\n",
    "new_len = len(mg_df_new['dE_barrier'].tolist())\n",
    "print(\"{:.2f} {:.2f} {:.2f} {:.2f} {:.2f}\".format(bin_1/old_len, bin_2/old_len, bin_3/old_len, bin_4/old_len, bin_5/old_len))\n",
    "print(\"{:.2f} {:.2f} {:.2f} {:.2f} {:.2f}\".format(bin_1_new/new_len, bin_2_new/new_len, bin_3_new/new_len, bin_4_new/new_len, bin_5_new/new_len))\n"
   ]
  },
  {
   "cell_type": "code",
   "execution_count": null,
   "metadata": {},
   "outputs": [],
   "source": []
  },
  {
   "cell_type": "code",
   "execution_count": 87,
   "metadata": {},
   "outputs": [
    {
     "name": "stdout",
     "output_type": "stream",
     "text": [
      "[[0, 1], [1, 2], [1, 4], [2, 7], [2, 3], [2, 8], [3, 9], [3, 4], [3, 5], [4, 11], [4, 10], [5, 6]]\n",
      "[[0, 1], [1, 2], [1, 4], [2, 7], [2, 3], [2, 8], [3, 9], [3, 4], [3, 5], [4, 11], [4, 10], [5, 6]]\n"
     ]
    }
   ],
   "source": [
    "#mg_df[mg_df['reactant_id'] == 62707]\n",
    "#print(len(mg_df.iloc[0]['product_molecule_graph']['graphs']['nodes']))\n",
    "#print(mg_df.iloc[0]['product_molecule_graph']['graphs']['adjacency'])\n",
    "bonds_net = []\n",
    "for ind, i in enumerate(mg_df.iloc[0]['product_molecule_graph']['graphs']['adjacency']):\n",
    "    for j in i: \n",
    "        bonds_net.append([ind, j['id']]) \n",
    "        \n",
    "print(bonds_net)\n",
    "print(mg_df.iloc[0]['product_bonds'])"
   ]
  },
  {
   "cell_type": "code",
   "execution_count": 3,
   "metadata": {},
   "outputs": [
    {
     "name": "stdout",
     "output_type": "stream",
     "text": [
      "0.772\n",
      "(3001, 60)\n"
     ]
    }
   ],
   "source": [
    "bond_count = 0\n",
    "for ind, row in mg_df.iterrows():\n",
    "    if(len(row['bonds_broken']) == 1):bond_count+=1\n",
    "    #elif(len(row['bonds_broken_nometal']) == 1):bond_count+=1\n",
    "    #elif(len(row['bonds_formed_nometal'])!=1 ):bond_count+=1\n",
    "    elif(len(row['bonds_formed'])!= 1):bond_count+=1\n",
    "    else:bond_count+=0\n",
    "print(bond_count / ind)\n",
    "print(mg_df.shape)"
   ]
  },
  {
   "cell_type": "code",
   "execution_count": 24,
   "metadata": {},
   "outputs": [
    {
     "name": "stdout",
     "output_type": "stream",
     "text": [
      "74908_C5Cl2H10N1O2\n"
     ]
    },
    {
     "data": {
      "image/png": "[encoded data removed]",
      "text/plain": [
       "<rdkit.Chem.rdchem.Mol at 0x7f99c15f7620>"
      ]
     },
     "execution_count": 24,
     "metadata": {},
     "output_type": "execute_result"
    }
   ],
   "source": []
  },
  {
   "cell_type": "code",
   "execution_count": 5,
   "metadata": {},
   "outputs": [
    {
     "data": {
      "text/plain": [
       "pymatgen.analysis.graphs.MoleculeGraph"
      ]
     },
     "execution_count": 5,
     "metadata": {},
     "output_type": "execute_result"
    }
   ],
   "source": [
    "\n",
    "\n",
    "row = mg_df.iloc[1]\n",
    "barrier = row[\"dE_barrier\"]\n",
    "species = [i['name'] for i in row['product_molecule_graph'][\"molecule\"][\"sites\"]]\n",
    "coords = [i[\"xyz\"] for i in row['product_molecule_graph'][\"molecule\"][\"sites\"]]\n",
    "bonds = row['product_bonds']\n",
    "\n",
    "charge = row['charge']\n",
    "free_energy = row['product_free_energy']\n",
    "id = str(row[\"reactant_id\"])\n",
    "\n",
    "product = create_wrapper_mol_from_atoms_and_bonds(\n",
    "    species, coords, bonds, charge=0, free_energy=free_energy, identifier=id,\n",
    ")\n",
    "\n",
    "\n",
    "species = [i['name'] for i in row['reactant_molecule_graph'][\"molecule\"][\"sites\"]]\n",
    "coords = [i[\"xyz\"] for i in row['reactant_molecule_graph'][\"molecule\"][\"sites\"]]\n",
    "bonds = row['reactant_bonds']\n",
    "charge = row['charge']\n",
    "\n",
    "free_energy = row['reactant_free_energy']\n",
    "id = str(row[\"product_id\"])\n",
    "reactant = create_wrapper_mol_from_atoms_and_bonds(\n",
    "    species, coords, bonds, charge=0, free_energy=free_energy, identifier=id,\n",
    ")\n",
    "\n",
    "id = [i for i in row[\"reaction_id\"].split(\"-\")]\n",
    "id = int(id[0] + id[1] + id[2])\n",
    "broken_bond = row['bonds_formed']\n",
    "if(broken_bond == []):broken_bond=None\n",
    "rxn = Reaction(\n",
    "            reactants = [reactant], \n",
    "            products=[product], \n",
    "            free_energy= barrier,\n",
    "            broken_bond = broken_bond,\n",
    "            identifier = id\n",
    "            )\n",
    "\n",
    "reactant_bond_list = list(reactant.bonds.keys())\n",
    "product_bond_list = list(product.bonds.keys())\n",
    "reactant_bond_list.sort()\n",
    "product_bond_list.sort()\n",
    "\n",
    "\n",
    "#print(rxn)\n",
    "#extractor = ReactionCollection([rxn])\n",
    "#extractor.create_regression_dataset_reaction_network_simple(\n",
    "#    struct_file=path_mg_data + \"mg_struct_bond_rgrn.sdf\",\n",
    "#    label_file=path_mg_data + \"mg_label_bond_rgrn.yaml\",\n",
    "#    feature_file=path_mg_data + \"mg_feature_bond_rgrn.yaml\"\n",
    "#)\n",
    "type(reactant.mol_graph)"
   ]
  },
  {
   "cell_type": "code",
   "execution_count": 13,
   "metadata": {},
   "outputs": [
    {
     "name": "stdout",
     "output_type": "stream",
     "text": [
      "10\n",
      "10\n",
      "11\n",
      "11\n",
      "17\n",
      "17\n",
      "8\n",
      "8\n",
      "8\n",
      "8\n",
      "19\n",
      "20\n",
      "3\n",
      "6\n",
      "7\n",
      "7\n",
      "5\n",
      "6\n",
      "12\n",
      "12\n"
     ]
    },
    {
     "ename": "",
     "evalue": "",
     "output_type": "error",
     "traceback": [
      "\u001b[1;31mThe Kernel crashed while executing code in the the current cell or a previous cell. Please review the code in the cell(s) to identify a possible cause of the failure. Click <a href='https://aka.ms/vscodeJupyterKernelCrash'>here</a> for more info. View Jupyter <a href='command:jupyter.viewOutput'>log</a> for further details."
     ]
    }
   ],
   "source": [
    "\n",
    "for ind, row in mg_df.head(10).iterrows():\n",
    "  bonds = row['reactant_bonds']\n",
    "  species_reactant = [int_atom(i['name']) for i in row['reactant_molecule_graph'][\"molecule\"][\"sites\"]]\n",
    "  coords_reactant = [i[\"xyz\"] for i in row['reactant_molecule_graph'][\"molecule\"][\"sites\"]]\n",
    "  charge = row['charge']\n",
    "  id = str(row[\"reactant_id\"])\n",
    "  free_energy = row['product_free_energy']\n",
    "  barrier = row[\"dE_barrier\"]\n",
    "  id = str(row[\"reactant_id\"])\n",
    "\n",
    "  # xyz mol / rdkit\n",
    "  reactant_mol = xyz2mol(atoms = species_reactant, \n",
    "      coordinates = coords_reactant, \n",
    "      charge = charge,\n",
    "      )\n",
    "  reactant_wrapper = rdkit_mol_to_wrapper_mol(reactant_mol[0],\n",
    "      charge = charge,\n",
    "      free_energy=free_energy, \n",
    "      identifier = id\n",
    "      )\n",
    "  reactant_graph_method = create_wrapper_mol_from_atoms_and_bonds(\n",
    "      species_reactant, coords_reactant, bonds, charge=0, free_energy=free_energy, identifier=id,\n",
    "  )\n",
    "  if(len(reactant_wrapper.bonds) != len(reactant_graph_method.bonds)):\n",
    "    reactant_graph_method.rdkit_mol = reactant_wrapper.rdkit_mol\n",
    "\n",
    "    \n",
    "  print(len(reactant_wrapper.bonds))\n",
    "  print(len(reactant_graph_method.bonds))"
   ]
  },
  {
   "cell_type": "code",
   "execution_count": 16,
   "metadata": {},
   "outputs": [
    {
     "name": "stderr",
     "output_type": "stream",
     "text": [
      "100%|██████████| 2000/2000 [00:00<00:00, 9615.40it/s]"
     ]
    },
    {
     "name": "stdout",
     "output_type": "stream",
     "text": [
      "2000\n"
     ]
    },
    {
     "name": "stderr",
     "output_type": "stream",
     "text": [
      "\n"
     ]
    }
   ],
   "source": [
    "#reactant_structure, reactant_molecule_graph, reactant_bonds, \n",
    "#product_structure, product_molecule_graph, product_bonds, \n",
    "#transition_state_structure, \n",
    "#bonds_broken, bonds_broken_nometal, bonds_formed, bonds_formed_nometal\n",
    "\n",
    "\n",
    "element_dict = {\"H\": 1, \"Li\": 3, \"Be\": 4, \"B\": 5, \"C\": 6, \"N\": 7, \"O\": 8, \n",
    "\"F\": 9, 'Ca': 20, 'Na': 11, 'Cl': 17, 'P':15, 'Mg': 12 }\n",
    "preserve = 0\n",
    "for i in tqdm(range(2000)):\n",
    "    row = mg_df.iloc[i]\n",
    "    \"\"\"g_prod = nx.Graph(row[\"product_bonds\"])\n",
    "    g_react = nx.Graph(row[\"reactant_bonds\"])\n",
    "    g_prod_2 = nx.Graph(row[\"product_bonds_nometal\"])\n",
    "    g_react_2 = nx.Graph(row[\"reactant_bonds_nometal\"])\n",
    "    if(nx_graph_atom_mapping(g_prod, g_react) == None):\n",
    "        if(nx_graph_atom_mapping(g_prod_2, g_react_2) == None):\n",
    "            pass\n",
    "        else: works_count += 1 \n",
    "    else: works_count += 1\"\"\"\n",
    "    species_reactant = [int_atom(i['name']) for i in row['reactant_molecule_graph'][\"molecule\"][\"sites\"]]\n",
    "    species_products = [int_atom(i['name']) for i in row['product_molecule_graph'][\"molecule\"][\"sites\"]]\n",
    "    trans_list_temp = list(i['name'] for i in list(row[\"transition_state_structure\"]['sites']))\n",
    "    trans_list = [element_dict[i] for i in trans_list_temp]\n",
    "    \n",
    "    if(species_products == trans_list): preserve += 1\n",
    "    #if(list_xyz == coords_reactant): preserve += 1\n",
    "\n",
    "print(preserve)\n",
    "\n"
   ]
  },
  {
   "cell_type": "code",
   "execution_count": 7,
   "metadata": {},
   "outputs": [
    {
     "data": {
      "text/plain": [
       "6"
      ]
     },
     "execution_count": 7,
     "metadata": {},
     "output_type": "execute_result"
    }
   ],
   "source": [
    "from rdkit import Chem\n",
    "mol = Chem.MolFromSmiles(\"CCC\")\n",
    "mol.GetAtomWithIdx(1).GetAtomicNum()"
   ]
  },
  {
   "cell_type": "code",
   "execution_count": 4,
   "metadata": {},
   "outputs": [],
   "source": [
    "from rdkit import Chem \n",
    "from bondnet.data.utils import get_dataset_species\n",
    "from bondnet.data.utils import get_dataset_species_from_json\n",
    "path_mg_data = \"/home/santiagovargas/Documents/Dataset/mg_dataset/\"\n",
    "path_json = path_mg_data + \"20220613_reaction_data.json\"\n",
    "\n",
    "species = get_dataset_species_from_json(path_json)"
   ]
  },
  {
   "cell_type": "code",
   "execution_count": 42,
   "metadata": {},
   "outputs": [
    {
     "data": {
      "text/plain": [
       "Index(['_id', 'builder_meta', 'charge', 'spin_multiplicity', 'natoms',\n",
       "       'elements', 'nelements', 'composition', 'formula_alphabetical',\n",
       "       'chemsys', 'symmetry', 'reaction_id', 'reactant_id', 'product_id',\n",
       "       'transition_state_id', 'deprecated', 'reactant_structure',\n",
       "       'reactant_molecule_graph', 'reactant_molecule_graph_nometal',\n",
       "       'reactant_bonds', 'reactant_bonds_nometal', 'reactant_energy',\n",
       "       'reactant_zpe', 'reactant_enthalpy', 'reactant_entropy',\n",
       "       'reactant_free_energy', 'product_structure', 'product_molecule_graph',\n",
       "       'product_molecule_graph_nometal', 'product_bonds',\n",
       "       'product_bonds_nometal', 'product_energy', 'product_zpe',\n",
       "       'product_enthalpy', 'product_entropy', 'product_free_energy',\n",
       "       'transition_state_structure', 'transition_state_energy',\n",
       "       'transition_state_zpe', 'transition_state_enthalpy',\n",
       "       'transition_state_entropy', 'transition_state_free_energy', 'dE', 'dH',\n",
       "       'dS', 'dG', 'dE_barrier', 'dH_barrier', 'dS_barrier', 'dG_barrier',\n",
       "       'bonds_broken', 'bond_types_broken', 'bonds_broken_nometal',\n",
       "       'bond_types_broken_nometal', 'bonds_formed', 'bond_types_formed',\n",
       "       'bonds_formed_nometal', 'bond_types_formed_nometal',\n",
       "       'similar_reactions', '_bt'],\n",
       "      dtype='object')"
      ]
     },
     "execution_count": 42,
     "metadata": {},
     "output_type": "execute_result"
    }
   ],
   "source": [
    "class BondAsNodeFeaturizerFull(BondFeaturizer):\n",
    "    \"\"\"\n",
    "    Featurize all bonds in a molecule.\n",
    "\n",
    "    The bond indices will be preserved, i.e. feature i corresponds to atom i.\n",
    "    The number of features will be equal to the number of bonds in the molecule,\n",
    "    so this is suitable for the case where we represent bond as graph nodes.\n",
    "\n",
    "    See Also:\n",
    "        BondAsEdgeBidirectedFeaturizer\n",
    "    \"\"\"\n",
    "\n",
    "    def __init__(\n",
    "        self,\n",
    "        length_featurizer=None,\n",
    "        length_featurizer_args=None,\n",
    "        dative=False,\n",
    "        dtype=\"float32\",\n",
    "    ):\n",
    "        super(BondAsNodeFeaturizerFull, self).__init__(\n",
    "            length_featurizer, length_featurizer_args, dtype\n",
    "        )\n",
    "        self.dative = dative\n"
   ]
  },
  {
   "cell_type": "code",
   "execution_count": 22,
   "metadata": {},
   "outputs": [
    {
     "name": "stdout",
     "output_type": "stream",
     "text": [
      "filtering\n",
      "filtering\n",
      "filtering\n",
      "filtering\n",
      "filtering\n",
      "filtering\n",
      "filtering\n",
      "filtering\n",
      "filtering\n",
      "filtering\n",
      "filtering\n",
      "filtering\n",
      "filtering\n"
     ]
    }
   ],
   "source": [
    "import torch \n",
    "from bondnet.data.utils import * \n",
    "def call(mol):\n",
    "        \"\"\"\n",
    "        Parameters\n",
    "        ----------\n",
    "        mol : pandas series with 'bond', 'pymatgen'/'site'/'molecule', and \n",
    "        'composition' columns\n",
    "\n",
    "        Returns\n",
    "        -------\n",
    "            Dictionary for bond features\n",
    "        \"\"\"\n",
    "        feats, bond_list_only_metal,no_metal_binary = [], [], []\n",
    "        num_atoms = 0 \n",
    "        allowed_ring_size = [3, 4, 5, 6, 7]\n",
    "\n",
    "        columns = mol.keys()\n",
    "        charge = int(mol['charge'])\n",
    "\n",
    "        if 'reactant_bonds' in columns: \n",
    "            key = 'reactant'\n",
    "            #struct_key = \"reactant_structure\"\n",
    "            #bond_key = \"reactant_bonds\"\n",
    "            #bond_key_no_metal = \"reactant_bonds_nometal\"\n",
    "            #graph_key = \"reactant_molecule_graph\"\n",
    "        else: \n",
    "            key = 'product'\n",
    "\n",
    "        \n",
    "        atoms = [int_atom(atom['name']) for atom in mol[key + \"_structure\"][\"sites\"]]\n",
    "        xyz_coordinates = [i[\"xyz\"] for i in mol[key + \"_structure\"][\"sites\"]]\n",
    "        bond_list = mol[key + \"_bonds\"]    \n",
    "        bond_list_no_metal = mol[key + \"_bonds_nometal\"]\n",
    "\n",
    "        atom_types = list(mol['composition'].keys()) # need to process this beforehand for products \n",
    "        for atom in atom_types: \n",
    "            num_atoms += int(mol['composition'][atom])\n",
    "        species_sites = mol[key + \"_molecule_graph\"]['molecule']['sites']\n",
    "\n",
    "        for i in bond_list:\n",
    "            if(i not in bond_list_no_metal): \n",
    "                bond_list_only_metal.append(i)\n",
    "                no_metal_binary.append(0)\n",
    "            else: no_metal_binary.append(1)\n",
    "\n",
    "        #species_len = len(species_sites)\n",
    "        #species_order = [i['name'] for i in species_len]\n",
    "        \n",
    "        # partitions bonds into metal, no metal, and only metals\n",
    "        # need to add back -- check how to count number of features a priori\n",
    "        #if num_bonds == 0:\n",
    "        #    ft = [0.0 for _ in range(num_feats)]\n",
    "        #    if self.length_featurizer:\n",
    "        #        ft += [0.0 for _ in range(len(self.length_featurizer.feature_name))]\n",
    "        #    feats = [ft]\n",
    "        #else:\n",
    "\n",
    "        cycles = find_rings(num_atoms, bond_list_no_metal, allowed_ring_size, edges = True)\n",
    "        rdkit_mol = xyz2mol(atoms = atoms, \n",
    "                coordinates = xyz_coordinates, \n",
    "                charge = charge,\n",
    "                )\n",
    "        ring_dict = ring_features_for_bonds_full(bond_list, no_metal_binary, cycles, allowed_ring_size)  \n",
    "        rdkit_dict = rdkit_bond_desc(rdkit_mol[0])\n",
    "        ring_dict_keys = list(ring_dict.keys())\n",
    "        rdkit_dict_keys = list(rdkit_dict.keys())\n",
    "        for ind, bond in enumerate(bond_list):\n",
    "            ft = []\n",
    "            if(tuple(bond) in ring_dict_keys):\n",
    "                ft.append(ring_dict[tuple(bond)][0])\n",
    "                ft.append(ring_dict[tuple(bond)][1])\n",
    "                ft += ring_dict[tuple(bond)][2]\n",
    "\n",
    "            if(tuple(bond) in rdkit_dict_keys):\n",
    "                ft += rdkit_dict[tuple(bond)] \n",
    "\n",
    "            feats.append(ft)\n",
    "\n",
    "        #feats = torch.tensor(feats, dtype=getattr(torch, self.dtype))\n",
    "        #_feature_size = feats.shape[1]\n",
    "        #_feature_name = (\n",
    "        #    [\"in_ring\", \"conjugated\"]\n",
    "        #    + [\"ring size\"] * 5\n",
    "        #    + [\"single\", \"double\", \"triple\", \"aromatic\"]\n",
    "        #)\n",
    "   \n",
    "        return {\"feat\": feats}\n",
    "\n",
    "for i in range(100):\n",
    "    call(mg_df.iloc[i])"
   ]
  },
  {
   "cell_type": "code",
   "execution_count": 45,
   "metadata": {},
   "outputs": [],
   "source": [
    "feats = []\n",
    "num_atoms = 0 \n",
    "allowed_ring_size = [3, 4, 6, 7]\n",
    "mol_row = mg_df.iloc[117]\n",
    "columns = mol_row.keys()\n",
    "from bondnet.data.utils import *\n",
    "\n",
    "atoms = [int_atom(atom['name']) for atom in mol_row['reactant_structure'][\"sites\"]]\n",
    "xyz_coordinates = [i[\"xyz\"] for i in mol_row['reactant_structure'][\"sites\"]]\n",
    "charge = int(mol_row['charge'])\n",
    "mol = xyz2mol(atoms = atoms, \n",
    "                coordinates = xyz_coordinates, \n",
    "                charge = charge,\n",
    "                )\n",
    "\n",
    "\n",
    "if 'reactant_bonds' in columns: \n",
    "    bond_key = \"reactant_bonds\"\n",
    "    bond_key_no_metal = \"reactant_bonds_nometal\"\n",
    "    graph_key = \"reactant_molecule_graph\"\n",
    "else: \n",
    "    bond_key = \"product_bonds\"\n",
    "    bond_key_no_metal = \"reactant_bonds_nometal\"\n",
    "    graph_key = \"product_molecule_graph\"\n",
    "\n",
    "atom_types = list(mol_row['composition'].keys())   \n",
    "\n",
    "for atom in atom_types: \n",
    "    num_atoms += int(mol_row['composition'][atom])\n",
    "species_len = mol_row[graph_key]['molecule']['sites']\n",
    "species_sites = mol_row[graph_key]['molecule']['sites']\n",
    "species_order = [i['name'] for i in species_len]\n",
    "\n",
    "bond_list = mol_row[bond_key]    \n",
    "bond_list_no_metal = mol_row[bond_key_no_metal]\n",
    "bond_list_only_metal,no_metal_binary = [], []\n",
    "\n",
    "cycles = find_rings(num_atoms, bond_list_no_metal, allowed_ring_size, edges = True)\n",
    "\n"
   ]
  },
  {
   "cell_type": "code",
   "execution_count": 46,
   "metadata": {},
   "outputs": [
    {
     "ename": "IndexError",
     "evalue": "list index out of range",
     "output_type": "error",
     "traceback": [
      "\u001b[0;31m---------------------------------------------------------------------------\u001b[0m",
      "\u001b[0;31mIndexError\u001b[0m                                Traceback (most recent call last)",
      "\u001b[0;32m/tmp/ipykernel_18104/2658473074.py\u001b[0m in \u001b[0;36m<module>\u001b[0;34m\u001b[0m\n\u001b[1;32m      1\u001b[0m \u001b[0mcycles\u001b[0m \u001b[0;34m=\u001b[0m \u001b[0mfind_rings\u001b[0m\u001b[0;34m(\u001b[0m\u001b[0mnum_atoms\u001b[0m\u001b[0;34m,\u001b[0m \u001b[0mbond_list_no_metal\u001b[0m\u001b[0;34m,\u001b[0m \u001b[0mallowed_ring_size\u001b[0m\u001b[0;34m,\u001b[0m \u001b[0medges\u001b[0m \u001b[0;34m=\u001b[0m \u001b[0;32mTrue\u001b[0m\u001b[0;34m)\u001b[0m\u001b[0;34m\u001b[0m\u001b[0m\n\u001b[0;32m----> 2\u001b[0;31m \u001b[0mring_features_for_bonds_full\u001b[0m\u001b[0;34m(\u001b[0m\u001b[0mbond_list\u001b[0m\u001b[0;34m,\u001b[0m \u001b[0mno_metal_binary\u001b[0m\u001b[0;34m,\u001b[0m \u001b[0mcycles\u001b[0m\u001b[0;34m,\u001b[0m \u001b[0mallowed_ring_size\u001b[0m\u001b[0;34m)\u001b[0m\u001b[0;34m\u001b[0m\u001b[0m\n\u001b[0m",
      "\u001b[0;32m~/dev/bondnet/bondnet/data/utils.py\u001b[0m in \u001b[0;36mring_features_for_bonds_full\u001b[0;34m(bonds, no_metal_binary, cycles, allowed_ring_size)\u001b[0m\n\u001b[1;32m    183\u001b[0m     \u001b[0mret_dict\u001b[0m \u001b[0;34m=\u001b[0m \u001b[0;34m{\u001b[0m\u001b[0;34m}\u001b[0m\u001b[0;34m\u001b[0m\u001b[0m\n\u001b[1;32m    184\u001b[0m     \u001b[0;32mfor\u001b[0m \u001b[0mi\u001b[0m\u001b[0;34m,\u001b[0m \u001b[0mbond\u001b[0m \u001b[0;32min\u001b[0m \u001b[0menumerate\u001b[0m\u001b[0;34m(\u001b[0m\u001b[0mbonds\u001b[0m\u001b[0;34m)\u001b[0m\u001b[0;34m:\u001b[0m\u001b[0;34m\u001b[0m\u001b[0m\n\u001b[0;32m--> 185\u001b[0;31m         \u001b[0;32mif\u001b[0m\u001b[0;34m(\u001b[0m\u001b[0mno_metal_binary\u001b[0m\u001b[0;34m[\u001b[0m\u001b[0mi\u001b[0m\u001b[0;34m]\u001b[0m \u001b[0;34m==\u001b[0m \u001b[0;36m0\u001b[0m\u001b[0;34m)\u001b[0m\u001b[0;34m:\u001b[0m\u001b[0;34m\u001b[0m\u001b[0m\n\u001b[0m\u001b[1;32m    186\u001b[0m             ret_dict[tuple(bond)] = (0, ring_features_from_bond(bond, cycles, allowed_ring_size)[0],\n\u001b[1;32m    187\u001b[0m             ring_features_from_bond(bond, cycles, allowed_ring_size)[1])\n",
      "\u001b[0;31mIndexError\u001b[0m: list index out of range"
     ]
    }
   ],
   "source": [
    "cycles = find_rings(num_atoms, bond_list_no_metal, allowed_ring_size, edges = True)\n",
    "ring_features_for_bonds_full(bond_list, no_metal_binary, cycles, allowed_ring_size)"
   ]
  },
  {
   "cell_type": "code",
   "execution_count": null,
   "metadata": {},
   "outputs": [],
   "source": []
  }
 ],
 "metadata": {
  "interpreter": {
   "hash": "c205a9eb4435b0aa27aaf0e9c4340d2b9512e0cc8b49dbd290219ad3711c312f"
  },
  "kernelspec": {
   "display_name": "Python 3.7.0 ('bondnet')",
   "language": "python",
   "name": "python3"
  },
  "language_info": {
   "codemirror_mode": {
    "name": "ipython",
    "version": 3
   },
   "file_extension": ".py",
   "mimetype": "text/x-python",
   "name": "python",
   "nbconvert_exporter": "python",
   "pygments_lexer": "ipython3",
   "version": "3.7.0"
  },
  "orig_nbformat": 4
 },
 "nbformat": 4,
 "nbformat_minor": 2
}
