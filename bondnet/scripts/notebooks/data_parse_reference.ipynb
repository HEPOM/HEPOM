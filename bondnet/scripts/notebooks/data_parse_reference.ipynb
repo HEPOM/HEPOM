{
 "cells": [
  {
   "cell_type": "code",
   "execution_count": 1,
   "metadata": {},
   "outputs": [
    {
     "name": "stderr",
     "output_type": "stream",
     "text": [
      "/home/santiagovargas/anaconda3/envs/bondnet/lib/python3.7/site-packages/tqdm/auto.py:22: TqdmWarning: IProgress not found. Please update jupyter and ipywidgets. See https://ipywidgets.readthedocs.io/en/stable/user_install.html\n",
      "  from .autonotebook import tqdm as notebook_tqdm\n"
     ]
    }
   ],
   "source": [
    "import wandb, argparse, torch, json\n",
    "import numpy as np\n",
    "\n",
    "import pytorch_lightning as pl\n",
    "from pytorch_lightning.loggers import TensorBoardLogger, WandbLogger\n",
    "from pytorch_lightning.callbacks import (\n",
    "    LearningRateMonitor,\n",
    "    EarlyStopping,\n",
    "    ModelCheckpoint,\n",
    ")\n",
    "\n",
    "from bondnet.data.dataset import ReactionNetworkDatasetGraphs\n",
    "from bondnet.data.dataloader import DataLoaderReactionNetworkParallel\n",
    "from bondnet.data.dataset import train_validation_test_split\n",
    "from bondnet.utils import seed_torch\n",
    "from bondnet.data.utils import find_rings\n",
    "from bondnet.model.training_utils import (\n",
    "    get_grapher,\n",
    "    LogParameters,\n",
    "    load_model_lightning,\n",
    ")\n",
    "\n",
    "\n",
    "import torch\n",
    "\n",
    "seed_torch()\n",
    "torch.set_float32_matmul_precision(\"high\")  # might have to disable on older GPUs\n",
    "\n",
    "import torch.multiprocessing\n",
    "\n",
    "torch.multiprocessing.set_start_method(\"spawn\")  # good solution !!!!"
   ]
  },
  {
   "cell_type": "code",
   "execution_count": 2,
   "metadata": {},
   "outputs": [
    {
     "data": {
      "text/plain": [
       "device(type='cuda')"
      ]
     },
     "execution_count": 2,
     "metadata": {},
     "output_type": "execute_result"
    }
   ],
   "source": [
    "device = torch.device(\"cuda\" if torch.cuda.is_available() else \"cpu\")\n",
    "device"
   ]
  },
  {
   "cell_type": "code",
   "execution_count": 3,
   "metadata": {},
   "outputs": [],
   "source": [
    "config = {\n",
    "    \"augment\": True,\n",
    "    \"batch_size\": 4,\n",
    "    \"debug\": False,\n",
    "    \"classifier\": False,\n",
    "    \"classif_categories\": 3,\n",
    "    \"cat_weights\": [1.0, 1.0, 1.0],\n",
    "    \"embedding_size\": 24,\n",
    "    \"epochs\": 100,\n",
    "    \"extra_features\": [\"bond_length\"],\n",
    "    \"extra_info\": [],\n",
    "    \"filter_species\": [3, 5],\n",
    "    \"fc_activation\": \"ReLU\",\n",
    "    \"fc_batch_norm\": True,\n",
    "    \"fc_dropout\": 0.2,\n",
    "    \"fc_hidden_size_1\": 256,\n",
    "    \"fc_hidden_size_shape\": \"flat\",\n",
    "    \"fc_num_layers\": 1,\n",
    "    \"gated_activation\": \"ReLU\",\n",
    "    \"gated_batch_norm\": False,\n",
    "    \"gated_dropout\": 0.1,\n",
    "    \"gated_graph_norm\": False,\n",
    "    \"gated_hidden_size_1\": 512,\n",
    "    \"gated_hidden_size_shape\": \"flat\",\n",
    "    \"gated_num_fc_layers\": 1,\n",
    "    \"gated_num_layers\": 2,\n",
    "    \"gated_residual\": True,\n",
    "    \"learning_rate\": 0.003,\n",
    "    \"precision\": 32,\n",
    "    \"loss\": \"mse\",\n",
    "    \"num_lstm_iters\": 3,\n",
    "    \"num_lstm_layers\": 1,\n",
    "    \"on_gpu\": True,\n",
    "    \"restore\": False,\n",
    "    \"target_var\": \"ts\",\n",
    "    \"target_var_transfer\": \"diff\",\n",
    "    \"weight_decay\": 0.0,\n",
    "    \"max_epochs\": 100,\n",
    "    \"max_epochs_transfer\": 100,\n",
    "    \"transfer\": False,\n",
    "    \"filter_outliers\": True,\n",
    "}\n",
    "\n",
    "dataset_loc = \"../../../tests/data/testdata/barrier_100.json\"\n",
    "\n",
    "on_gpu = config[\"on_gpu\"]\n",
    "extra_keys = config[\"extra_features\"]\n",
    "debug = config[\"debug\"]\n",
    "precision = config[\"precision\"]\n",
    "\n",
    "if precision == \"16\" or precision == \"32\":\n",
    "    precision = int(precision)\n",
    "\n",
    "if on_gpu:\n",
    "    device = torch.device(\"cuda\" if torch.cuda.is_available() else \"cpu\")\n",
    "else:\n",
    "    device = torch.device(\"cpu\")\n",
    "\n",
    "extra_keys = config[\"extra_features\"]"
   ]
  },
  {
   "cell_type": "code",
   "execution_count": 4,
   "metadata": {},
   "outputs": [
    {
     "name": "stdout",
     "output_type": "stream",
     "text": [
      "reading file from: ../../../tests/data/testdata/barrier_100.json\n",
      "rxn raw len: 100\n",
      "Program finished in 16.616420175880194 seconds\n",
      ".............failures.............\n",
      "reactions len: 89\n",
      "valid ind len: 89\n",
      "bond break fail count: \t\t0\n",
      "default fail count: \t\t11\n",
      "sdf map fail count: \t\t0\n",
      "product bond fail count: \t0\n",
      "about to group and organize\n",
      "number of grouped reactions: 89\n",
      "features: 214\n",
      "labels: 89\n",
      "molecules: 214\n",
      "constructing graphs & features....\n",
      "number of graphs valid: 214\n",
      "number of graphs: 214\n"
     ]
    }
   ],
   "source": [
    "dataset = ReactionNetworkDatasetGraphs(\n",
    "    grapher=get_grapher(extra_keys),\n",
    "    file=dataset_loc,\n",
    "    target=config[\"target_var\"],\n",
    "    classifier=config[\"classifier\"],\n",
    "    classif_categories=config[\"classif_categories\"],\n",
    "    filter_species=config[\"filter_species\"],\n",
    "    filter_outliers=config[\"filter_outliers\"],\n",
    "    filter_sparse_rxns=False,\n",
    "    debug=debug,\n",
    "    extra_keys=extra_keys,\n",
    "    extra_info=config[\"extra_info\"],\n",
    ")"
   ]
  },
  {
   "cell_type": "code",
   "execution_count": 15,
   "metadata": {},
   "outputs": [
    {
     "name": "stdout",
     "output_type": "stream",
     "text": [
      "<class 'dgl.heterograph.DGLGraph'>\n"
     ]
    }
   ],
   "source": [
    "# List of Molecules\n",
    "dgl_graphs = []\n",
    "pmg_objects = []\n",
    "molecule_ind_list = []\n",
    "charge_set = set()\n",
    "ring_size_set = set()\n",
    "element_set = set()\n",
    "\n",
    "\n",
    "def clean(input):\n",
    "    return \"\".join([i for i in input if not i.isdigit()])\n",
    "\n",
    "\n",
    "def clean_op(input):\n",
    "    return \"\".join([i for i in input if i.isdigit()])\n",
    "\n",
    "\n",
    "for ind, molecule_in_rxn_network in enumerate(\n",
    "    dataset.reaction_network.molecule_wrapper\n",
    "):\n",
    "    #    pmg mol retrieval\n",
    "    pmg_objects.append(molecule_in_rxn_network.pymatgen_mol)\n",
    "    #    molecule index in rxn network\n",
    "    # this would just be given by the index in HiPRGen anyways\n",
    "    molecule_ind_list.append(ind)\n",
    "\n",
    "    formula = molecule_in_rxn_network.pymatgen_mol.composition.formula.split()\n",
    "    elements = [clean(x) for x in formula]\n",
    "    atom_num = np.sum(np.array([int(clean_op(x)) for x in formula]))\n",
    "    element_set.update(elements)\n",
    "\n",
    "    charge = molecule_in_rxn_network.pymatgen_mol.charge\n",
    "    charge_set.add(charge)\n",
    "    bond_list = [[i[0], i[1]] for i in molecule_in_rxn_network.mol_graph.graph.edges]\n",
    "    cycles = find_rings(atom_num, bond_list, edges=False)\n",
    "    ring_len_list = [len(i) for i in cycles]\n",
    "    ring_size_set.update(ring_len_list)\n",
    "\n",
    "\n",
    "for ind, molecule_in_rxn_network in enumerate(dataset.reaction_network.molecules):\n",
    "    dgl_graphs.append(molecule_in_rxn_network)"
   ]
  },
  {
   "cell_type": "code",
   "execution_count": 17,
   "metadata": {},
   "outputs": [
    {
     "name": "stdout",
     "output_type": "stream",
     "text": [
      "Number of dgl graphs in dataset:  214\n",
      "Number of pmg objects in dataset:  214\n",
      "Number of molecule indices in dataset:  214\n",
      "Set of charges in dataset:  {0}\n",
      "Set of ring sizes in dataset:  {3, 4, 5, 6}\n",
      "Set of elements in dataset:  {'P', 'H', 'S', 'Cl', 'N', 'O', 'C', 'F'}\n"
     ]
    }
   ],
   "source": [
    "print(\"Number of dgl graphs in dataset: \", len(dgl_graphs))\n",
    "print(\"Number of pmg objects in dataset: \", len(pmg_objects))\n",
    "print(\"Number of molecule indices in dataset: \", len(molecule_ind_list))\n",
    "print(\"Set of charges in dataset: \", (charge_set))\n",
    "print(\"Set of ring sizes in dataset: \", (ring_size_set))\n",
    "print(\"Set of elements in dataset: \", (element_set))"
   ]
  },
  {
   "cell_type": "code",
   "execution_count": 49,
   "metadata": {},
   "outputs": [],
   "source": [
    "batched_graph = dgl.batch(dgl_graphs)\n",
    "feats = batched_graph.ndata[\"feat\"]\n",
    "for nt, ft in feats.items():\n",
    "    batched_graph.nodes[nt].data.update({\"ft\": ft})\n",
    "graphs = dgl.unbatch(batched_graph)"
   ]
  },
  {
   "attachments": {},
   "cell_type": "markdown",
   "metadata": {},
   "source": [
    "# Reactions\n"
   ]
  },
  {
   "cell_type": "code",
   "execution_count": 53,
   "metadata": {},
   "outputs": [],
   "source": [
    "from bondnet.data.utils import create_rxn_graph\n",
    "\n",
    "\n",
    "extra_info = []\n",
    "reaction_molecule_info = []\n",
    "label_list = []\n",
    "reverse_list = []\n",
    "reaction_molecule_info_list = []\n",
    "empty_reaction_graphs = []\n",
    "empty_reaction_fts = []\n",
    "\n",
    "for ind, rxn in enumerate(dataset.reaction_network.reactions):\n",
    "    extra_info.append(reaction_in_rxn_network.extra_info)\n",
    "    label_list.append(dataset.labels[ind][\"value\"])\n",
    "    reverse_list.append(dataset.labels[ind][\"value_rev\"])\n",
    "\n",
    "    mappings = {\n",
    "        \"bond_map\": rxn.bond_mapping,\n",
    "        \"atom_map\": rxn.atom_mapping,\n",
    "        \"total_bonds\": rxn.total_bonds,\n",
    "        \"total_atoms\": rxn.total_atoms,\n",
    "        \"num_bonds_total\": rxn.num_bonds_total,\n",
    "        \"num_atoms_total\": rxn.num_atoms_total,\n",
    "    }\n",
    "\n",
    "    molecule_info_temp = {\n",
    "        \"reactants\": {\n",
    "            \"molecule_index\": rxn.reactants,\n",
    "            \"atom_map\": rxn.atom_mapping[0],\n",
    "            \"bond_map\": rxn.bond_mapping[0],\n",
    "        },\n",
    "        \"products\": {\n",
    "            \"molecule_index\": rxn.products,\n",
    "            \"atom_map\": rxn.atom_mapping[1],\n",
    "            \"bond_map\": rxn.bond_mapping[1],\n",
    "        },\n",
    "    }\n",
    "\n",
    "    reaction_molecule_info.append(molecule_info_temp)\n",
    "\n",
    "    #### taken from create_rxn_graph in bondnet\n",
    "    reactants = [graphs[i] for i in rxn.reactants]\n",
    "    products = [graphs[i] for i in rxn.products]\n",
    "\n",
    "    has_bonds = {\n",
    "        \"reactants\": [True if len(mp) > 0 else False for mp in rxn.bond_mapping[0]],\n",
    "        \"products\": [True if len(mp) > 0 else False for mp in rxn.bond_mapping[1]],\n",
    "    }\n",
    "    if len(has_bonds[\"reactants\"]) != len(reactants) or len(\n",
    "        has_bonds[\"products\"]\n",
    "    ) != len(products):\n",
    "        print(\"unequal mapping & graph len\")\n",
    "\n",
    "    empty_graph, empty_fts = create_rxn_graph(\n",
    "        reactants=reactants,\n",
    "        products=products,\n",
    "        mappings=mappings,\n",
    "        device=None,\n",
    "        has_bonds=has_bonds,\n",
    "        reverse=False,\n",
    "    )\n",
    "\n",
    "    empty_reaction_graphs.append(empty_graph)\n",
    "    empty_reaction_fts.append(empty_fts)"
   ]
  },
  {
   "cell_type": "code",
   "execution_count": 54,
   "metadata": {},
   "outputs": [
    {
     "name": "stdout",
     "output_type": "stream",
     "text": [
      "Number of reaction molecule info:  89\n",
      "Number of extra info:  89\n",
      "Number of labels:  89\n",
      "Number of reverse labels:  89\n",
      "Number of empty reaction graphs:  89\n",
      "Number of empty reaction fts:  89\n"
     ]
    }
   ],
   "source": [
    "print(\"Number of reaction molecule info: \", len(reaction_molecule_info))\n",
    "print(\"Number of extra info: \", len(extra_info))\n",
    "print(\"Number of labels: \", len(label_list))\n",
    "print(\"Number of reverse labels: \", len(reverse_list))\n",
    "print(\"Number of empty reaction graphs: \", len(empty_reaction_graphs))\n",
    "print(\"Number of empty reaction fts: \", len(empty_reaction_fts))"
   ]
  },
  {
   "cell_type": "code",
   "execution_count": null,
   "metadata": {},
   "outputs": [],
   "source": []
  }
 ],
 "metadata": {
  "kernelspec": {
   "display_name": "bondnet",
   "language": "python",
   "name": "python3"
  },
  "language_info": {
   "codemirror_mode": {
    "name": "ipython",
    "version": 3
   },
   "file_extension": ".py",
   "mimetype": "text/x-python",
   "name": "python",
   "nbconvert_exporter": "python",
   "pygments_lexer": "ipython3",
   "version": "3.7.12"
  },
  "orig_nbformat": 4
 },
 "nbformat": 4,
 "nbformat_minor": 2
}
