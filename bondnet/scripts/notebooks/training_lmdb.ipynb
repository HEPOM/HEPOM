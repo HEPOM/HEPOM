{
 "cells": [
  {
   "cell_type": "code",
   "execution_count": 2,
   "id": "b5d4d655-064f-4bd6-b9eb-4148d805051a",
   "metadata": {},
   "outputs": [
    {
     "name": "stderr",
     "output_type": "stream",
     "text": [
      "/home/santiagovargas/anaconda3/envs/bondnet_test/lib/python3.7/site-packages/tqdm/auto.py:22: TqdmWarning: IProgress not found. Please update jupyter and ipywidgets. See https://ipywidgets.readthedocs.io/en/stable/user_install.html\n",
      "  from .autonotebook import tqdm as notebook_tqdm\n"
     ]
    }
   ],
   "source": [
    "import wandb, argparse, torch, json\n",
    "import numpy as np\n",
    "\n",
    "import pytorch_lightning as pl\n",
    "from pytorch_lightning.loggers import TensorBoardLogger, WandbLogger\n",
    "from pytorch_lightning.callbacks import (\n",
    "    LearningRateMonitor,\n",
    "    EarlyStopping,\n",
    "    ModelCheckpoint,\n",
    ")\n",
    "\n",
    "from bondnet.data.dataset import ReactionNetworkDatasetPrecomputed\n",
    "from bondnet.data.dataloader import DataLoaderPrecomputedReactionGraphs\n",
    "from bondnet.data.dataset import train_validation_test_split\n",
    "from bondnet.utils import seed_torch\n",
    "from bondnet.model.training_utils import (\n",
    "    get_grapher,\n",
    "    LogParameters,\n",
    "    load_model_lightning,\n",
    ")\n",
    "\n",
    "seed_torch()\n",
    "torch.set_float32_matmul_precision(\"high\")  # might have to disable on older GPUs\n",
    "\n",
    "import torch.multiprocessing\n",
    "\n",
    "torch.multiprocessing.set_sharing_strategy(\"file_system\")"
   ]
  },
  {
   "attachments": {},
   "cell_type": "markdown",
   "id": "fc1f8411-11dc-4118-b73a-1ba5c364a903",
   "metadata": {},
   "source": [
    "# check cuda\n"
   ]
  },
  {
   "cell_type": "code",
   "execution_count": 3,
   "id": "3b938529-b2a2-4a55-b98b-605015208481",
   "metadata": {},
   "outputs": [
    {
     "data": {
      "text/plain": [
       "device(type='cuda')"
      ]
     },
     "execution_count": 3,
     "metadata": {},
     "output_type": "execute_result"
    }
   ],
   "source": [
    "device = torch.device(\"cuda\" if torch.cuda.is_available() else \"cpu\")\n",
    "device"
   ]
  },
  {
   "attachments": {},
   "cell_type": "markdown",
   "id": "96233a8d-1caf-4489-bf33-587f2853bafa",
   "metadata": {},
   "source": [
    "# 1. model config\n"
   ]
  },
  {
   "cell_type": "code",
   "execution_count": 12,
   "id": "b2b04233-f39e-497a-8dc9-4858717b0fa6",
   "metadata": {},
   "outputs": [],
   "source": [
    "config = {\n",
    "    \"augment\": True,\n",
    "    \"batch_size\": 4,\n",
    "    \"debug\": False,\n",
    "    \"classifier\": False,\n",
    "    \"classif_categories\": 3,\n",
    "    \"cat_weights\": [1.0, 1.0, 1.0],\n",
    "    \"embedding_size\": 24,\n",
    "    \"epochs\": 100,\n",
    "    \"extra_features\": [\"bond_length\"],\n",
    "    \"extra_info\": [],\n",
    "    \"filter_species\": [3, 5],\n",
    "    \"fc_activation\": \"ReLU\",\n",
    "    \"fc_batch_norm\": True,\n",
    "    \"fc_dropout\": 0.2,\n",
    "    \"fc_hidden_size_1\": 256,\n",
    "    \"fc_hidden_size_shape\": \"flat\",\n",
    "    \"fc_num_layers\": 1,\n",
    "    \"gated_activation\": \"ReLU\",\n",
    "    \"gated_batch_norm\": False,\n",
    "    \"gated_dropout\": 0.1,\n",
    "    \"gated_graph_norm\": False,\n",
    "    \"gated_hidden_size_1\": 512,\n",
    "    \"gated_hidden_size_shape\": \"flat\",\n",
    "    \"gated_num_fc_layers\": 1,\n",
    "    \"gated_num_layers\": 2,\n",
    "    \"gated_residual\": True,\n",
    "    \"learning_rate\": 0.003,\n",
    "    \"precision\": 32,\n",
    "    \"loss\": \"mse\",\n",
    "    \"num_lstm_iters\": 3,\n",
    "    \"num_lstm_layers\": 1,\n",
    "    \"on_gpu\": True,\n",
    "    \"restore\": False,\n",
    "    \"target_var\": \"ts\",\n",
    "    \"target_var_transfer\": \"diff\",\n",
    "    \"weight_decay\": 0.0,\n",
    "    \"max_epochs\": 100,\n",
    "    \"max_epochs_transfer\": 100,\n",
    "    \"transfer\": False,\n",
    "    \"filter_outliers\": True,\n",
    "}\n",
    "\n",
    "dataset_loc = \"../../../tests/data/testdata/barrier_100.json\"\n",
    "\n",
    "on_gpu = config[\"on_gpu\"]\n",
    "extra_keys = config[\"extra_features\"]\n",
    "debug = config[\"debug\"]\n",
    "precision = config[\"precision\"]\n",
    "\n",
    "if precision == \"16\" or precision == \"32\":\n",
    "    precision = int(precision)\n",
    "\n",
    "if on_gpu:\n",
    "    device = torch.device(\"cuda\" if torch.cuda.is_available() else \"cpu\")\n",
    "else:\n",
    "    device = torch.device(\"cpu\")\n",
    "\n",
    "extra_keys = config[\"extra_features\"]"
   ]
  },
  {
   "attachments": {},
   "cell_type": "markdown",
   "id": "20c83970-93e6-4817-ab6b-e7cb542d5de7",
   "metadata": {},
   "source": [
    "# 2. load json and processing it into Reaction networks graphs in cpu\n"
   ]
  },
  {
   "cell_type": "code",
   "execution_count": 5,
   "id": "1ed31fd9-bc47-4e79-a834-ad91395316c9",
   "metadata": {},
   "outputs": [
    {
     "name": "stdout",
     "output_type": "stream",
     "text": [
      "reading file from: ../../../tests/data/testdata/barrier_100.json\n",
      "rxn raw len: 100\n",
      "Program finished in 0.6091721630655229 seconds\n",
      ".............failures.............\n",
      "reactions len: 89\n",
      "valid ind len: 89\n",
      "bond break fail count: \t\t0\n",
      "default fail count: \t\t11\n",
      "sdf map fail count: \t\t0\n",
      "product bond fail count: \t0\n",
      "about to group and organize\n",
      "number of grouped reactions: 89\n",
      "features: 214\n",
      "labels: 89\n",
      "molecules: 214\n",
      "constructing graphs & features....\n",
      "number of graphs valid: 214\n",
      "number of graphs: 214\n",
      "prebuilding reaction graphs\n"
     ]
    }
   ],
   "source": [
    "dataset = ReactionNetworkDatasetPrecomputed(\n",
    "    grapher=get_grapher(extra_keys),\n",
    "    file=dataset_loc,\n",
    "    target=config[\"target_var\"],\n",
    "    classifier=config[\"classifier\"],\n",
    "    classif_categories=config[\"classif_categories\"],\n",
    "    filter_species=config[\"filter_species\"],\n",
    "    filter_outliers=config[\"filter_outliers\"],\n",
    "    filter_sparse_rxns=False,\n",
    "    debug=debug,\n",
    "    device=\"cpu\",\n",
    "    extra_keys=extra_keys,\n",
    "    extra_info=config[\"extra_info\"],\n",
    ")"
   ]
  },
  {
   "attachments": {},
   "cell_type": "markdown",
   "id": "5bacc825-ae81-4021-82df-c36cdca85e49",
   "metadata": {},
   "source": [
    "# 3. Write Reaction networks graphs to lmdb files in parallel\n"
   ]
  },
  {
   "cell_type": "code",
   "execution_count": 6,
   "id": "d9ad40d7-6e34-4f6c-b1c4-1bf1820d790e",
   "metadata": {},
   "outputs": [],
   "source": [
    "import sys\n",
    "\n",
    "sys.path.insert(0, sys.path[0] + \"/../\")\n",
    "from bondnet.data.lmdb_dataset import LmdbDataset, CRNs2lmdb"
   ]
  },
  {
   "cell_type": "code",
   "execution_count": 7,
   "id": "8c48f2e4-f9a7-4833-b0cc-b4653c19439e",
   "metadata": {},
   "outputs": [
    {
     "name": "stderr",
     "output_type": "stream",
     "text": [
      "Worker 0: Writing CRNs Objects into LMDBs: 100%|██████████| 30/30 [00:00<00:00, 628.71it/s]\n",
      "Worker 1: Writing CRNs Objects into LMDBs: 100%|██████████| 30/30 [00:00<00:00, 648.18it/s]\n",
      "\n",
      "Worker 2: Writing CRNs Objects into LMDBs: 100%|██████████| 29/29 [00:00<00:00, 624.47it/s]\n"
     ]
    },
    {
     "name": "stdout",
     "output_type": "stream",
     "text": [
      "Deleted file: ./lmdb_data/_tmp_data.0001.lmdb\n",
      "Deleted file: ./lmdb_data/_tmp_data.0000.lmdb-lock\n",
      "Deleted file: ./lmdb_data/_tmp_data.0002.lmdb-lock\n",
      "Deleted file: ./lmdb_data/_tmp_data.0001.lmdb-lock\n",
      "Deleted file: ./lmdb_data/_tmp_data.0000.lmdb\n",
      "Deleted file: ./lmdb_data/_tmp_data.0002.lmdb\n"
     ]
    }
   ],
   "source": [
    "config = {\n",
    "    \"out_path\": \"./lmdb_data/\",  # Update the directory path\n",
    "    \"num_workers\": 3,\n",
    "    \"output_file\": \"merged_data.lmdb\",\n",
    "}\n",
    "CRNs2lmdb(dataset, config)"
   ]
  },
  {
   "attachments": {},
   "cell_type": "markdown",
   "id": "5b767271-6c05-4d07-a209-9c2b1412adb4",
   "metadata": {},
   "source": [
    "# 4. Load lmdb files\n"
   ]
  },
  {
   "cell_type": "code",
   "execution_count": 8,
   "id": "83ed0823-84e9-4519-aa97-487f3e12bf1d",
   "metadata": {},
   "outputs": [],
   "source": [
    "_lmdb = LmdbDataset({\"src\": \"./lmdb_data/merged_data.lmdb\"})"
   ]
  },
  {
   "cell_type": "code",
   "execution_count": 9,
   "id": "9658f898-a86e-4c1b-95a4-499b3a0554d3",
   "metadata": {},
   "outputs": [
    {
     "name": "stdout",
     "output_type": "stream",
     "text": [
      "89 float32 {'atom': 20, 'bond': 8, 'global': 7} {'atom': ['total degree', 'is in ring', 'total H', 'chemical symbol', 'chemical symbol', 'chemical symbol', 'chemical symbol', 'chemical symbol', 'chemical symbol', 'chemical symbol', 'chemical symbol', 'chemical symbol', 'chemical symbol', 'chemical symbol', 'chemical symbol', 'ring size', 'ring size', 'ring size', 'ring size', 'ring size'], 'bond': ['metal bond', 'ring inclusion', 'ring size', 'ring size', 'ring size', 'ring size', 'ring size', 'bond_length'], 'global': ['num atoms', 'num bonds', 'molecule weight', 'charge one hot', 'charge one hot', 'charge one hot', 'charge one hot']}\n"
     ]
    }
   ],
   "source": [
    "print(_lmdb.num_samples, _lmdb.dtype, _lmdb.feature_size, _lmdb.feature_name)"
   ]
  },
  {
   "attachments": {},
   "cell_type": "markdown",
   "id": "15a8828e-5395-4e47-a6a3-a80c937f20ec",
   "metadata": {},
   "source": [
    "# 5. Train BondNet\n"
   ]
  },
  {
   "cell_type": "code",
   "execution_count": 16,
   "id": "00b13fd3-4578-45f3-81cc-258ca60b8910",
   "metadata": {},
   "outputs": [
    {
     "name": "stdout",
     "output_type": "stream",
     "text": [
      ">>>>>>>>>>>>>>>>>>>>>>>>>>>>>>>>>>>>>>>>config_settings<<<<<<<<<<<<<<<<<<<<<<<<<<<<<<<<<<<<<<<<\n",
      "augment             \t\t\tTrue                \n",
      "batch_size          \t\t\t24                  \n",
      "debug               \t\t\tFalse               \n",
      "classifier          \t\t\tFalse               \n",
      "classif_categories  \t\t\t3                   \n",
      "cat_weights         \t\t\t[1.0, 1.0, 1.0]     \n",
      "embedding_size      \t\t\t24                  \n",
      "epochs              \t\t\t100                 \n",
      "extra_features      \t\t\t['bond_length']     \n",
      "extra_info          \t\t\t[]                  \n",
      "filter_species      \t\t\t[3, 5]              \n",
      "fc_activation       \t\t\tReLU                \n",
      "fc_batch_norm       \t\t\tTrue                \n",
      "fc_dropout          \t\t\t0.2                 \n",
      "fc_hidden_size_1    \t\t\t256                 \n",
      "fc_hidden_size_shape\t\t\tflat                \n",
      "fc_num_layers       \t\t\t1                   \n",
      "gated_activation    \t\t\tReLU                \n",
      "gated_batch_norm    \t\t\tFalse               \n",
      "gated_dropout       \t\t\t0.1                 \n",
      "gated_graph_norm    \t\t\tFalse               \n",
      "gated_hidden_size_1 \t\t\t512                 \n",
      "gated_hidden_size_shape\t\t\tflat                \n",
      "gated_num_fc_layers \t\t\t1                   \n",
      "gated_num_layers    \t\t\t2                   \n",
      "gated_residual      \t\t\tTrue                \n",
      "learning_rate       \t\t\t0.003               \n",
      "precision           \t\t\t32                  \n",
      "loss                \t\t\tmse                 \n",
      "num_lstm_iters      \t\t\t3                   \n",
      "num_lstm_layers     \t\t\t1                   \n",
      "on_gpu              \t\t\tTrue                \n",
      "restore             \t\t\tFalse               \n",
      "target_var          \t\t\tts                  \n",
      "target_var_transfer \t\t\tdiff                \n",
      "weight_decay        \t\t\t0.0                 \n",
      "max_epochs          \t\t\t100                 \n",
      "max_epochs_transfer \t\t\t100                 \n",
      "transfer            \t\t\tFalse               \n",
      "filter_outliers     \t\t\tTrue                \n",
      "filter_sparse_rxns  \t\t\tFalse               \n",
      "in_feats            \t\t\t{'atom': 20, 'bond': 8, 'global': 7}\n",
      "gpu                 \t\t\tgpu                 \n",
      ">>>>>>>>>>>>>>>>>>>>>>>>>>>>>>>>>>>>>>>>config_settings<<<<<<<<<<<<<<<<<<<<<<<<<<<<<<<<<<<<<<<<\n"
     ]
    }
   ],
   "source": [
    "log_save_dir = \"./logs_lightning/\"\n",
    "dict_for_model = {\n",
    "    \"extra_features\": extra_keys,\n",
    "    \"classifier\": False,\n",
    "    \"classif_categories\": config[\"classif_categories\"],\n",
    "    \"filter_species\": config[\"filter_species\"],\n",
    "    \"filter_outliers\": config[\"filter_outliers\"],\n",
    "    \"filter_sparse_rxns\": False,\n",
    "    \"debug\": debug,\n",
    "    \"in_feats\": dataset.feature_size,\n",
    "}\n",
    "config[\"batch_size\"] = 24\n",
    "\n",
    "config.update(dict_for_model)\n",
    "#! 2. split dataset.  train_validation_test_split is in bondnet dataset.\n",
    "trainset, valset, testset = train_validation_test_split(\n",
    "    _lmdb, validation=0.15, test=0.15\n",
    ")\n",
    "\n",
    "print(\">\" * 40 + \"config_settings\" + \"<\" * 40)\n",
    "for k, v in config.items():\n",
    "    print(\"{}\\t\\t\\t{}\".format(str(k).ljust(20), str(v).ljust(20)))\n",
    "\n",
    "print(\">\" * 40 + \"config_settings\" + \"<\" * 40)\n",
    "\n",
    "#! 3. dataloader\n",
    "val_loader = DataLoaderPrecomputedReactionGraphs(\n",
    "    valset, batch_size=len(valset), shuffle=False\n",
    ")\n",
    "test_loader = DataLoaderPrecomputedReactionGraphs(\n",
    "    testset, batch_size=len(testset), shuffle=False\n",
    ")\n",
    "train_loader = DataLoaderPrecomputedReactionGraphs(\n",
    "    trainset, batch_size=config[\"batch_size\"], shuffle=True\n",
    ")\n",
    "\n",
    "model = load_model_lightning(config, device=device, load_dir=log_save_dir)"
   ]
  },
  {
   "cell_type": "code",
   "execution_count": 15,
   "id": "6359e11d-e075-458d-a1c8-2aa4a3e99fb8",
   "metadata": {},
   "outputs": [
    {
     "name": "stderr",
     "output_type": "stream",
     "text": [
      "\u001b[34m\u001b[1mwandb\u001b[0m: Currently logged in as: \u001b[33msanti\u001b[0m (\u001b[33mhydro_homies\u001b[0m). Use \u001b[1m`wandb login --relogin`\u001b[0m to force relogin\n"
     ]
    },
    {
     "data": {
      "text/html": [
       "wandb version 0.15.4 is available!  To upgrade, please run:\n",
       " $ pip install wandb --upgrade"
      ],
      "text/plain": [
       "<IPython.core.display.HTML object>"
      ]
     },
     "metadata": {},
     "output_type": "display_data"
    },
    {
     "data": {
      "text/html": [
       "Tracking run with wandb version 0.15.3"
      ],
      "text/plain": [
       "<IPython.core.display.HTML object>"
      ]
     },
     "metadata": {},
     "output_type": "display_data"
    },
    {
     "data": {
      "text/html": [
       "Run data is saved locally in <code>/home/santiagovargas/dev/bondnet/bondnet/scripts/notebooks/wandb/run-20230702_152921-p43vpkqs</code>"
      ],
      "text/plain": [
       "<IPython.core.display.HTML object>"
      ]
     },
     "metadata": {},
     "output_type": "display_data"
    },
    {
     "data": {
      "text/html": [
       "Syncing run <strong><a href='https://wandb.ai/hydro_homies/test/runs/p43vpkqs' target=\"_blank\">likely-jazz-3</a></strong> to <a href='https://wandb.ai/hydro_homies/test' target=\"_blank\">Weights & Biases</a> (<a href='https://wandb.me/run' target=\"_blank\">docs</a>)<br/>"
      ],
      "text/plain": [
       "<IPython.core.display.HTML object>"
      ]
     },
     "metadata": {},
     "output_type": "display_data"
    },
    {
     "data": {
      "text/html": [
       " View project at <a href='https://wandb.ai/hydro_homies/test' target=\"_blank\">https://wandb.ai/hydro_homies/test</a>"
      ],
      "text/plain": [
       "<IPython.core.display.HTML object>"
      ]
     },
     "metadata": {},
     "output_type": "display_data"
    },
    {
     "data": {
      "text/html": [
       " View run at <a href='https://wandb.ai/hydro_homies/test/runs/p43vpkqs' target=\"_blank\">https://wandb.ai/hydro_homies/test/runs/p43vpkqs</a>"
      ],
      "text/plain": [
       "<IPython.core.display.HTML object>"
      ]
     },
     "metadata": {},
     "output_type": "display_data"
    },
    {
     "name": "stderr",
     "output_type": "stream",
     "text": [
      "/home/santiagovargas/anaconda3/envs/bondnet_test/lib/python3.7/site-packages/pytorch_lightning/loggers/wandb.py:396: UserWarning: There is a wandb run already in progress and newly created instances of `WandbLogger` will reuse this run. If this is not desired, call `wandb.finish()` before instantiating `WandbLogger`.\n",
      "  \"There is a wandb run already in progress and newly created instances of `WandbLogger` will reuse\"\n",
      "GPU available: True (cuda), used: True\n",
      "TPU available: False, using: 0 TPU cores\n",
      "IPU available: False, using: 0 IPUs\n",
      "HPU available: False, using: 0 HPUs\n",
      "/home/santiagovargas/anaconda3/envs/bondnet_test/lib/python3.7/site-packages/pytorch_lightning/callbacks/model_checkpoint.py:613: UserWarning: Checkpoint directory /home/santiagovargas/dev/bondnet/bondnet/scripts/notebooks/logs_lightning exists and is not empty.\n",
      "  rank_zero_warn(f\"Checkpoint directory {dirpath} exists and is not empty.\")\n",
      "LOCAL_RANK: 0 - CUDA_VISIBLE_DEVICES: [0,1]\n",
      "\n",
      "   | Name          | Type                | Params\n",
      "-------------------------------------------------------\n",
      "0  | embedding     | UnifySize           | 840   \n",
      "1  | gated_layers  | ModuleList          | 3.0 M \n",
      "2  | readout_layer | Set2SetThenCat      | 6.3 M \n",
      "3  | fc_layers     | ModuleList          | 656 K \n",
      "4  | loss          | WeightedMSELoss     | 0     \n",
      "5  | train_l1      | Metrics_WeightedMAE | 0     \n",
      "6  | train_r2      | R2Score             | 0     \n",
      "7  | val_l1        | Metrics_WeightedMAE | 0     \n",
      "8  | val_r2        | R2Score             | 0     \n",
      "9  | test_l1       | Metrics_WeightedMAE | 0     \n",
      "10 | test_r2       | R2Score             | 0     \n",
      "-------------------------------------------------------\n",
      "9.9 M     Trainable params\n",
      "0         Non-trainable params\n",
      "9.9 M     Total params\n",
      "39.743    Total estimated model params size (MB)\n"
     ]
    },
    {
     "name": "stdout",
     "output_type": "stream",
     "text": [
      "Sanity Checking: 0it [00:00, ?it/s]"
     ]
    },
    {
     "name": "stderr",
     "output_type": "stream",
     "text": [
      "/home/santiagovargas/anaconda3/envs/bondnet_test/lib/python3.7/site-packages/pytorch_lightning/trainer/connectors/data_connector.py:229: PossibleUserWarning: The dataloader, val_dataloader 0, does not have many workers which may be a bottleneck. Consider increasing the value of the `num_workers` argument` (try 32 which is the number of cpus on this machine) in the `DataLoader` init to improve performance.\n",
      "  category=PossibleUserWarning,\n"
     ]
    },
    {
     "name": "stdout",
     "output_type": "stream",
     "text": [
      "                                                                           "
     ]
    },
    {
     "name": "stderr",
     "output_type": "stream",
     "text": [
      "/home/santiagovargas/anaconda3/envs/bondnet_test/lib/python3.7/site-packages/pytorch_lightning/trainer/connectors/data_connector.py:229: PossibleUserWarning: The dataloader, train_dataloader, does not have many workers which may be a bottleneck. Consider increasing the value of the `num_workers` argument` (try 32 which is the number of cpus on this machine) in the `DataLoader` init to improve performance.\n",
      "  category=PossibleUserWarning,\n",
      "/home/santiagovargas/anaconda3/envs/bondnet_test/lib/python3.7/site-packages/pytorch_lightning/trainer/trainer.py:1613: PossibleUserWarning: The number of training batches (3) is smaller than the logging interval Trainer(log_every_n_steps=50). Set a lower value for log_every_n_steps if you want to see logs for the training epoch.\n",
      "  category=PossibleUserWarning,\n"
     ]
    },
    {
     "name": "stdout",
     "output_type": "stream",
     "text": [
      "Epoch 7:   0%|          | 0/4 [00:00<?, ?it/s, loss=6.46, v_num=pkqs, val_loss=4.030, val_l1=1.420, val_r2=-2.40, train_loss=3.030, train_l1=0.676, train_r2=0.246]          "
     ]
    },
    {
     "name": "stderr",
     "output_type": "stream",
     "text": [
      "/home/santiagovargas/anaconda3/envs/bondnet_test/lib/python3.7/site-packages/pytorch_lightning/trainer/call.py:48: UserWarning: Detected KeyboardInterrupt, attempting graceful shutdown...\n",
      "  rank_zero_warn(\"Detected KeyboardInterrupt, attempting graceful shutdown...\")\n",
      "LOCAL_RANK: 0 - CUDA_VISIBLE_DEVICES: [0,1]\n",
      "/home/santiagovargas/anaconda3/envs/bondnet_test/lib/python3.7/site-packages/pytorch_lightning/trainer/connectors/data_connector.py:229: PossibleUserWarning: The dataloader, test_dataloader 0, does not have many workers which may be a bottleneck. Consider increasing the value of the `num_workers` argument` (try 32 which is the number of cpus on this machine) in the `DataLoader` init to improve performance.\n",
      "  category=PossibleUserWarning,\n"
     ]
    },
    {
     "name": "stdout",
     "output_type": "stream",
     "text": [
      "Testing DataLoader 0: 100%|██████████| 1/1 [00:00<00:00, 10.14it/s]\n",
      "────────────────────────────────────────────────────────────────────────────────────────────────────────────────────────\n",
      "       Test metric             DataLoader 0\n",
      "────────────────────────────────────────────────────────────────────────────────────────────────────────────────────────\n",
      "         test_l1             1.279329776763916\n",
      "        test_loss            2.166151523590088\n",
      "         test_r2            -2.4590489864349365\n",
      "────────────────────────────────────────────────────────────────────────────────────────────────────────────────────────\n"
     ]
    },
    {
     "data": {
      "text/html": [
       "Waiting for W&B process to finish... <strong style=\"color:green\">(success).</strong>"
      ],
      "text/plain": [
       "<IPython.core.display.HTML object>"
      ]
     },
     "metadata": {},
     "output_type": "display_data"
    },
    {
     "data": {
      "text/html": [
       "<style>\n",
       "    table.wandb td:nth-child(1) { padding: 0 10px; text-align: left ; width: auto;} td:nth-child(2) {text-align: left ; width: 100%}\n",
       "    .wandb-row { display: flex; flex-direction: row; flex-wrap: wrap; justify-content: flex-start; width: 100% }\n",
       "    .wandb-col { display: flex; flex-direction: column; flex-basis: 100%; flex: 1; padding: 10px; }\n",
       "    </style>\n",
       "<div class=\"wandb-row\"><div class=\"wandb-col\"><h3>Run history:</h3><br/><table class=\"wandb\"><tr><td>epoch</td><td>▁▁▂▂▃▃▄▄▅▅▆▆▇▇█</td></tr><tr><td>test_l1</td><td>▁</td></tr><tr><td>test_loss</td><td>▁</td></tr><tr><td>test_r2</td><td>▁</td></tr><tr><td>train_l1</td><td>▁█▆▃▂▁▁</td></tr><tr><td>train_loss</td><td>▂█▄▂▂▁▁</td></tr><tr><td>train_r2</td><td>▁██████</td></tr><tr><td>trainer/global_step</td><td>▁▁▂▂▃▃▄▄▅▅▆▆▇▇█</td></tr><tr><td>val_l1</td><td>▇█▃▁▁▁▁</td></tr><tr><td>val_loss</td><td>▇█▂▁▁▁▁</td></tr><tr><td>val_r2</td><td>▆▆▇█▁▁▅</td></tr></table><br/></div><div class=\"wandb-col\"><h3>Run summary:</h3><br/><table class=\"wandb\"><tr><td>epoch</td><td>7</td></tr><tr><td>test_l1</td><td>1.27933</td></tr><tr><td>test_loss</td><td>2.16615</td></tr><tr><td>test_r2</td><td>-2.45905</td></tr><tr><td>train_l1</td><td>0.67576</td></tr><tr><td>train_loss</td><td>3.03002</td></tr><tr><td>train_r2</td><td>0.24625</td></tr><tr><td>trainer/global_step</td><td>7</td></tr><tr><td>val_l1</td><td>1.41806</td></tr><tr><td>val_loss</td><td>4.03243</td></tr><tr><td>val_r2</td><td>-2.40477</td></tr></table><br/></div></div>"
      ],
      "text/plain": [
       "<IPython.core.display.HTML object>"
      ]
     },
     "metadata": {},
     "output_type": "display_data"
    },
    {
     "data": {
      "text/html": [
       " View run <strong style=\"color:#cdcd00\">likely-jazz-3</strong> at: <a href='https://wandb.ai/hydro_homies/test/runs/p43vpkqs' target=\"_blank\">https://wandb.ai/hydro_homies/test/runs/p43vpkqs</a><br/>Synced 6 W&B file(s), 0 media file(s), 0 artifact file(s) and 0 other file(s)"
      ],
      "text/plain": [
       "<IPython.core.display.HTML object>"
      ]
     },
     "metadata": {},
     "output_type": "display_data"
    },
    {
     "data": {
      "text/html": [
       "Find logs at: <code>./wandb/run-20230702_152921-p43vpkqs/logs</code>"
      ],
      "text/plain": [
       "<IPython.core.display.HTML object>"
      ]
     },
     "metadata": {},
     "output_type": "display_data"
    },
    {
     "data": {
      "image/png": "[encoded data removed]",
      "text/plain": [
       "<Figure size 432x288 with 1 Axes>"
      ]
     },
     "metadata": {
      "needs_background": "light"
     },
     "output_type": "display_data"
    }
   ],
   "source": [
    "project_name = \"test\"\n",
    "with wandb.init(project=project_name) as run:\n",
    "    log_parameters = LogParameters()\n",
    "    logger_tb = TensorBoardLogger(log_save_dir, name=\"test_logs\")\n",
    "    logger_wb = WandbLogger(project=project_name, name=\"test_logs\")\n",
    "    lr_monitor = LearningRateMonitor(logging_interval=\"step\")\n",
    "\n",
    "    checkpoint_callback = ModelCheckpoint(\n",
    "        dirpath=log_save_dir,\n",
    "        filename=\"model_lightning_{epoch:02d}-{val_loss:.2f}\",\n",
    "        monitor=\"val_loss\",  # TODO\n",
    "        mode=\"min\",\n",
    "        auto_insert_metric_name=True,\n",
    "        save_last=True,\n",
    "    )\n",
    "    early_stopping_callback = EarlyStopping(\n",
    "        monitor=\"val_loss\", min_delta=0.00, patience=500, verbose=False, mode=\"min\"\n",
    "    )\n",
    "\n",
    "    trainer = pl.Trainer(\n",
    "        max_epochs=config[\"max_epochs\"],\n",
    "        accelerator=\"gpu\",\n",
    "        devices=[0],\n",
    "        accumulate_grad_batches=5,\n",
    "        enable_progress_bar=True,\n",
    "        gradient_clip_val=1.0,\n",
    "        callbacks=[\n",
    "            early_stopping_callback,\n",
    "            lr_monitor,\n",
    "            log_parameters,\n",
    "            checkpoint_callback,\n",
    "        ],\n",
    "        enable_checkpointing=True,\n",
    "        default_root_dir=log_save_dir,\n",
    "        logger=[logger_tb, logger_wb],\n",
    "        precision=precision,\n",
    "    )\n",
    "\n",
    "    trainer.fit(model, train_loader, val_loader)\n",
    "    trainer.test(model, test_loader)\n",
    "\n",
    "run.finish()"
   ]
  },
  {
   "cell_type": "code",
   "execution_count": null,
   "id": "dacb631c-6da4-4dde-b764-d95b18caff81",
   "metadata": {},
   "outputs": [],
   "source": []
  }
 ],
 "metadata": {
  "kernelspec": {
   "display_name": "bondnet_test",
   "language": "python",
   "name": "python3"
  },
  "language_info": {
   "codemirror_mode": {
    "name": "ipython",
    "version": 3
   },
   "file_extension": ".py",
   "mimetype": "text/x-python",
   "name": "python",
   "nbconvert_exporter": "python",
   "pygments_lexer": "ipython3",
   "version": "3.7.12"
  }
 },
 "nbformat": 4,
 "nbformat_minor": 5
}
