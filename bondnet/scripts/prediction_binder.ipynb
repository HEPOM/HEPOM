{
 "cells": [
  {
   "cell_type": "markdown",
   "metadata": {},
   "source": [
    "# BonDNet bond dissociation energy prediction"
   ]
  },
  {
   "cell_type": "markdown",
   "metadata": {},
   "source": [
    "This is a demo to show the use of BonDNet to predict the bond dissociation energies (BDEs) in a single moleucle. For more info on the BonDNet model and making predictions for multiple molecules in batch mode, see: https://github.com/mjwen/bondnet"
   ]
  },
  {
   "cell_type": "code",
   "execution_count": 2,
   "metadata": {},
   "outputs": [],
   "source": [
    "from IPython.display import Image, display\n",
    "from bondnet.prediction.predictor import predict_single_molecule"
   ]
  },
  {
   "cell_type": "markdown",
   "metadata": {},
   "source": [
    "## Make predictions \n",
    "Here, we predcit the BDEs in an ethylene carbonate molecule. The prediction can be made by providing a `SMILES`, `InChI`, `sdf`, or `pdb` string representing the molecule."
   ]
  },
  {
   "cell_type": "code",
   "execution_count": 3,
   "metadata": {},
   "outputs": [],
   "source": [
    "model = \"pubchem\"\n",
    "\n",
    "molecule = \"C1COC(=O)O1\"   # SMILES of ethylene carbonate\n",
    "# molecule = \"InChI=1S/C3H4O3/c4-3-5-1-2-6-3/h1-2H2\"  # InChI of ethylene carbonate\n",
    "\n",
    "figure_name = \"prediction.png\"\n",
    "\n",
    "sdf = predict_single_molecule(model, molecule, ring_bond=False, figure_name=figure_name)"
   ]
  },
  {
   "cell_type": "markdown",
   "metadata": {},
   "source": [
    "The `predict_single_molecule` function takes four argumeents:\n",
    "\n",
    "- `model` (`\"pubchem\"` or `\"mesd\"`). This selects the dataset on which BonDNet is trained. Different dataset consists of different bond types (C-H, C-O, etc.) and bond dissociation types (homolytic or heterolytic), and thus may give different result for the same bond in the same molecule.   \n",
    "- `molecule` is a string representation of the molecule whose BDEs are to be predicted.  \n",
    "- `ring_bond` (`True` or `False`). Whether to make predictions for bonds in a ring. The `pubchem` dataset does not contain any BDEs for ring bond. So its error for ring bonds could be high. \n",
    "- `figure_name` is the name of the image file that stores the results. "
   ]
  },
  {
   "cell_type": "markdown",
   "metadata": {},
   "source": [
    "## Show predicitons in an image\n",
    "\n",
    "The BDEs (in `eV`) are shown alongside the bonds highlighted in grey. Prediction is only made once for the same bonds (i.e. graphically isomorphic bonds). For example, the energies of the `1-8`, `2-9` and `2-10` C-H bonds are not shown since they are the same as the `1-7` bond. "
   ]
  },
  {
   "cell_type": "code",
   "execution_count": 4,
   "metadata": {},
   "outputs": [
    {
     "data": {
      "image/png": "[encoded data removed]",
      "text/plain": [
       "<IPython.core.display.Image object>"
      ]
     },
     "metadata": {},
     "output_type": "display_data"
    }
   ],
   "source": [
    "display(Image(figure_name))"
   ]
  },
  {
   "cell_type": "markdown",
   "metadata": {},
   "source": [
    "## Show predicitons in SD format\n",
    "You can also output the predicted BDEs in the SD format. The values are the 7th value in lines between `BEGIN BOND` and `End BOND`."
   ]
  },
  {
   "cell_type": "code",
   "execution_count": 5,
   "metadata": {},
   "outputs": [
    {
     "name": "stdout",
     "output_type": "stream",
     "text": [
      "C1COC(=O)O1\n",
      "     RDKit          3D\n",
      "\n",
      "  0  0  0  0  0  0  0  0  0  0999 V3000\n",
      "M  V30 BEGIN CTAB\n",
      "M  V30 COUNTS 10 10 0 0 0\n",
      "M  V30 BEGIN ATOM\n",
      "M  V30 1 C -0.731084 -0.639275 -0.0783902 0\n",
      "M  V30 2 C -0.501248 0.83538 -0.0138667 0\n",
      "M  V30 3 O 0.823837 0.926135 0.474327 0\n",
      "M  V30 4 C 1.45242 -0.231129 0.108733 0\n",
      "M  V30 5 O 2.65276 -0.422145 0.198598 0\n",
      "M  V30 6 O 0.55738 -1.14593 -0.370928 0\n",
      "M  V30 7 H -1.06046 -1.05424 0.880213 0\n",
      "M  V30 8 H -1.44816 -0.918444 -0.855026 0\n",
      "M  V30 9 H -1.20191 1.34016 0.656634 0\n",
      "M  V30 10 H -0.543532 1.30949 -1.00029 0\n",
      "M  V30 END ATOM\n",
      "M  V30 BEGIN BOND\n",
      "M  V30 1 1 1 2  \n",
      "M  V30 2 1 2 3  \n",
      "M  V30 3 1 3 4  \n",
      "M  V30 4 2 4 5  4.165359020233154\n",
      "M  V30 5 1 4 6  \n",
      "M  V30 6 1 6 1  \n",
      "M  V30 7 1 1 7  4.142698287963867\n",
      "M  V30 8 1 1 8  \n",
      "M  V30 9 1 2 9  \n",
      "M  V30 10 1 2 10  \n",
      "M  V30 END BOND\n",
      "M  V30 END CTAB\n",
      "M  END\n",
      "$$$$\n",
      "\n"
     ]
    }
   ],
   "source": [
    "print(sdf)"
   ]
  },
  {
   "cell_type": "code",
   "execution_count": null,
   "metadata": {},
   "outputs": [],
   "source": []
  }
 ],
 "metadata": {
  "kernelspec": {
   "display_name": "Python 3",
   "language": "python",
   "name": "python3"
  },
  "language_info": {
   "codemirror_mode": {
    "name": "ipython",
    "version": 3
   },
   "file_extension": ".py",
   "mimetype": "text/x-python",
   "name": "python",
   "nbconvert_exporter": "python",
   "pygments_lexer": "ipython3",
   "version": "3.7.4"
  }
 },
 "nbformat": 4,
 "nbformat_minor": 4
}
