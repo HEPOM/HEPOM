{
 "cells": [
  {
   "cell_type": "code",
   "execution_count": 2,
   "metadata": {},
   "outputs": [],
   "source": [
    "import copy\n",
    "import networkx as nx\n",
    "import pandas as pd \n",
    "from collections import defaultdict, OrderedDict\n",
    "\n",
    "from bondnet.utils import to_path, int_atom, xyz2mol\n",
    "from bondnet.core.molwrapper import rdkit_mol_to_wrapper_mol, create_wrapper_mol_from_atoms_and_bonds\n",
    "from pymatgen.analysis.graphs import _isomorphic\n",
    "from bondnet.core.reaction_collection import get_atom_bond_mapping\n",
    "from bondnet.dataset.mg_barrier import process_species_rdkit\n",
    "\n",
    "path_mg_data = \"/home/santiagovargas/Documents/Dataset/mg_dataset/\"\n",
    "path_json = path_mg_data + \"20220613_reaction_data.json\"\n",
    "mg_df = pd.read_json(path_json)"
   ]
  },
  {
   "cell_type": "code",
   "execution_count": 39,
   "metadata": {},
   "outputs": [],
   "source": [
    "\n"
   ]
  },
  {
   "cell_type": "code",
   "execution_count": 12,
   "metadata": {},
   "outputs": [
    {
     "name": "stdout",
     "output_type": "stream",
     "text": [
      "77760_C3F2H8N3O2_-1_-17219.301864222605_index-1\n",
      "     RDKit          3D\n",
      "\n",
      "  0  0  0  0  0  0  0  0  0  0999 V3000\n",
      "M  V30 BEGIN CTAB\n",
      "M  V30 COUNTS 18 16 0 0 0\n",
      "M  V30 BEGIN ATOM\n",
      "M  V30 1 C 0.142598 -0.120857 -0.054459 1\n",
      "M  V30 2 H 1.67389 1.33708 0.025509 2\n",
      "M  V30 3 C 0.568922 1.36509 -0.066604 3\n",
      "M  V30 4 C 0.546988 -0.784415 -1.36453 4\n",
      "M  V30 5 H 0.08815 -0.297059 -2.23251 5\n",
      "M  V30 6 H 1.64288 -0.724906 -1.42771 6\n",
      "M  V30 7 H 0.240421 -1.84057 -1.32507 7\n",
      "M  V30 8 N 0.678427 -0.735276 1.10673 8\n",
      "M  V30 9 H 1.71157 -0.510586 1.06824 9\n",
      "M  V30 10 H 0.583416 -1.74365 1.03031 10\n",
      "M  V30 11 N 0.062325 2.03969 1.22182 11 CHG=1\n",
      "M  V30 12 O -1.02233 2.59542 1.17346 12 CHG=-1\n",
      "M  V30 13 O 0.769823 2.01831 2.19787 13\n",
      "M  V30 14 N 0.102535 2.05562 -1.21458 14\n",
      "M  V30 15 H 0.508805 2.97952 -1.29345 15\n",
      "M  V30 16 H -0.910029 2.13385 -1.20627 16\n",
      "M  V30 17 F -1.27496 -0.163275 0.001631 17\n",
      "M  V30 18 F 3.08818 0.06287 0.366937 18 CHG=-1\n",
      "M  V30 END ATOM\n",
      "M  V30 BEGIN BOND\n",
      "M  V30 1 1 1 3\n",
      "M  V30 2 1 1 4\n",
      "M  V30 3 1 1 8\n",
      "M  V30 4 1 1 17\n",
      "M  V30 5 1 2 3\n",
      "M  V30 6 1 3 11\n",
      "M  V30 7 1 3 14\n",
      "M  V30 8 1 4 5\n",
      "M  V30 9 1 4 6\n",
      "M  V30 10 1 4 7\n",
      "M  V30 11 1 8 9\n",
      "M  V30 12 1 8 10\n",
      "M  V30 13 1 11 12\n",
      "M  V30 14 2 11 13\n",
      "M  V30 15 1 14 15\n",
      "M  V30 16 1 14 16\n",
      "M  V30 END BOND\n",
      "M  V30 END CTAB\n",
      "M  END\n",
      "$$$$\n",
      "\n"
     ]
    }
   ],
   "source": [
    "row = mg_df.iloc[100]\n",
    "\n",
    "species_reactant = [int_atom(i['name']) for i in row['reactant_molecule_graph'][\"molecule\"][\"sites\"]]\n",
    "species_products = [int_atom(i['name']) for i in row['product_molecule_graph'][\"molecule\"][\"sites\"]]\n",
    "coords_reactant = [i[\"xyz\"] for i in row['reactant_molecule_graph'][\"molecule\"][\"sites\"]]\n",
    "coords_products = [i[\"xyz\"] for i in row['product_molecule_graph'][\"molecule\"][\"sites\"]]\n",
    "charge = row['charge']\n",
    "id = str(row[\"reactant_id\"])\n",
    "free_energy = row['product_free_energy']\n",
    "\n",
    "reactant_mol = xyz2mol(atoms = species_reactant, \n",
    "    coordinates = coords_reactant, \n",
    "    charge = charge,\n",
    "    )\n",
    "reactant_wrapper = rdkit_mol_to_wrapper_mol(reactant_mol[0],\n",
    "    charge = charge,\n",
    "    free_energy=free_energy, \n",
    "    identifier = id\n",
    "    )\n",
    "#print(reactant_wrapper.bonds) \n",
    "#print(species_reactant)\n",
    "#print(species_products)\n",
    "\n",
    "xyz_list = []\n",
    "for i in reactant_mol[0].GetAtoms():\n",
    "    xyz_list.append(i.GetAtomicNum())\n",
    "#print(xyz_list)    \n",
    "\n",
    "rxn_alt_double_product = process_species(row)\n",
    "\n",
    "\n",
    "\n"
   ]
  },
  {
   "cell_type": "code",
   "execution_count": 41,
   "metadata": {},
   "outputs": [
    {
     "name": "stderr",
     "output_type": "stream",
     "text": [
      "100%|██████████| 200/200 [00:00<00:00, 260.51it/s]\n"
     ]
    }
   ],
   "source": [
    "works_count = 0\n",
    "works_single_product = 0\n",
    "single_product_count = 0\n",
    "double_product_count = 0 \n",
    "works_double_product = 0 \n",
    "from tqdm import tqdm \n",
    "\n",
    "for i in tqdm(range(200)):\n",
    "    row = mg_df.iloc[i]\n",
    "    \"\"\"g_prod = nx.Graph(row[\"product_bonds\"])\n",
    "    g_react = nx.Graph(row[\"reactant_bonds\"])\n",
    "    g_prod_2 = nx.Graph(row[\"product_bonds_nometal\"])\n",
    "    g_react_2 = nx.Graph(row[\"reactant_bonds_nometal\"])\n",
    "    if(nx_graph_atom_mapping(g_prod, g_react) == None):\n",
    "        if(nx_graph_atom_mapping(g_prod_2, g_react_2) == None):\n",
    "            pass\n",
    "        else: works_count += 1 \n",
    "    else: works_count += 1\"\"\"\n",
    "    species_reactant = [int_atom(i['name']) for i in row['reactant_molecule_graph'][\"molecule\"][\"sites\"]]\n",
    "    species_products = [int_atom(i['name']) for i in row['product_molecule_graph'][\"molecule\"][\"sites\"]]\n",
    "    coords_reactant = [i[\"xyz\"] for i in row['reactant_molecule_graph'][\"molecule\"][\"sites\"]]\n",
    "    coords_products = [i[\"xyz\"] for i in row['product_molecule_graph'][\"molecule\"][\"sites\"]]\n",
    "\n",
    "    r = create_wrapper_mol_from_atoms_and_bonds(\n",
    "        species_reactant, coords_reactant, row[\"reactant_bonds\"], charge=0\n",
    "    )\n",
    "    p = create_wrapper_mol_from_atoms_and_bonds(\n",
    "        species_products, coords_products, row[\"product_bonds\"], charge=0\n",
    "    )\n",
    "    r2 = create_wrapper_mol_from_atoms_and_bonds(\n",
    "        species_reactant, coords_reactant, row[\"reactant_bonds_nometal\"], charge=0\n",
    "    )\n",
    "    p2 = create_wrapper_mol_from_atoms_and_bonds(\n",
    "        species_products, coords_products, row[\"product_bonds_nometal\"], charge=0\n",
    "    )\n",
    "  \n",
    "    rxn_alt_double_product = []\n",
    "\n",
    "    if(type(rxn_alt_double_product) == list):\n",
    "        products = p\n",
    "        product_s = copy.deepcopy(products)\n",
    "        #original.break_edge(bond[0], bond[1], allow_reverse=True)\n",
    "        components = nx.weakly_connected_components(product_s.graph)\n",
    "        subgraphs = [product_s.graph.subgraph(c) for c in components]\n",
    "        subgraphs_count = int(len(subgraphs))\n",
    "\n",
    "    else: \n",
    "        products = rxn_alt_double_product.products\n",
    "        subgraphs_count = int(len(products))\n",
    "\n",
    "    if(subgraphs_count==2):double_product_count+=1\n",
    "    else: \n",
    "        single_product_count+=1\n",
    "        mapping = \n",
    "\n",
    "    \"\"\"\n",
    "    if(subgraphs_count == 2):\n",
    "        if(nx_graph_atom_mapping(r.mol_graph.graph, p.mol_graph.graph) == None):\n",
    "            if(nx_graph_atom_mapping(r2.mol_graph.graph, p2.mol_graph.graph) == None):\n",
    "                if(nx_graph_atom_mapping(r.mol_graph.graph, p2.mol_graph.graph) == None):\n",
    "                    if(nx_graph_atom_mapping(r2.mol_graph.graph, p.mol_graph.graph) == None):\n",
    "                        pass\n",
    "                    else: \n",
    "                        works_count += 1\n",
    "                        works_double_product+=1\n",
    "                else: \n",
    "                    works_count += 1\n",
    "                    works_double_product+=1\n",
    "            else: \n",
    "                works_count += 1 \n",
    "                works_double_product+=1\n",
    "        else: \n",
    "            works_count += 1\n",
    "            works_double_product+=1\n",
    "        if(nx_graph_atom_mapping(r.mol_graph.graph, p.mol_graph.graph) == None):\n",
    "            if(nx_graph_atom_mapping(r2.mol_graph.graph, p2.mol_graph.graph) == None):\n",
    "                if(nx_graph_atom_mapping(r.mol_graph.graph, p2.mol_graph.graph) == None):\n",
    "                    if(nx_graph_atom_mapping(r2.mol_graph.graph, p.mol_graph.graph) == None):\n",
    "                        pass\n",
    "                    else: \n",
    "                        works_count += 1\n",
    "                        works_double_product+=1\n",
    "                else: \n",
    "                    works_count += 1\n",
    "                    works_double_product+=1\n",
    "            else: \n",
    "                works_count += 1 \n",
    "                works_double_product+=1\n",
    "        else: \n",
    "            works_count += 1\n",
    "            works_double_product+=1\n",
    "   \n",
    "    else:\"\"\"\n"
   ]
  },
  {
   "cell_type": "code",
   "execution_count": null,
   "metadata": {},
   "outputs": [],
   "source": [
    "\n"
   ]
  },
  {
   "cell_type": "code",
   "execution_count": 42,
   "metadata": {},
   "outputs": [
    {
     "name": "stderr",
     "output_type": "stream",
     "text": [
      "100%|██████████| 10/10 [00:00<00:00, 61.88it/s]"
     ]
    },
    {
     "name": "stdout",
     "output_type": "stream",
     "text": [
      "20\n"
     ]
    },
    {
     "name": "stderr",
     "output_type": "stream",
     "text": [
      "\n"
     ]
    }
   ],
   "source": [
    "element_dict = {\"H\": 1, \"Li\": 3, \"Be\": 4, \"B\": 5, \"C\": 6, \"N\": 7, \"O\": 8, \n",
    "\"F\": 9, 'Ca': 20, 'Na': 11, 'Cl': 17, 'P':15, 'Mg': 12 }\n",
    "preserve = 0\n",
    "for i in tqdm(range(10)):\n",
    "    row = mg_df.iloc[i]\n",
    "    \"\"\"g_prod = nx.Graph(row[\"product_bonds\"])\n",
    "    g_react = nx.Graph(row[\"reactant_bonds\"])\n",
    "    g_prod_2 = nx.Graph(row[\"product_bonds_nometal\"])\n",
    "    g_react_2 = nx.Graph(row[\"reactant_bonds_nometal\"])\n",
    "    if(nx_graph_atom_mapping(g_prod, g_react) == None):\n",
    "        if(nx_graph_atom_mapping(g_prod_2, g_react_2) == None):\n",
    "            pass\n",
    "        else: works_count += 1 \n",
    "    else: works_count += 1\"\"\"\n",
    "    species_reactant = [int_atom(i['name']) for i in row['reactant_molecule_graph'][\"molecule\"][\"sites\"]]\n",
    "    species_products = [int_atom(i['name']) for i in row['product_molecule_graph'][\"molecule\"][\"sites\"]]\n",
    "    coords_reactant = [i[\"xyz\"] for i in row['reactant_molecule_graph'][\"molecule\"][\"sites\"]]\n",
    "    coords_products = [i[\"xyz\"] for i in row['product_molecule_graph'][\"molecule\"][\"sites\"]]\n",
    "    #r = create_wrapper_mol_from_atoms_and_bonds(\n",
    "    #    species_reactant, coords_reactant, row[\"reactant_bonds\"], charge=0\n",
    "    #)\n",
    "\n",
    "    #p = create_wrapper_mol_from_atoms_and_bonds(\n",
    "    #    species_products, coords_products, row[\"product_bonds\"], charge=0\n",
    "    #)\n",
    "    reactant_mol = xyz2mol(atoms = species_reactant, \n",
    "    coordinates = coords_reactant\n",
    "    )\n",
    "    reactant_wrapper = rdkit_mol_to_wrapper_mol(reactant_mol[0],\n",
    "        identifier = '1'\n",
    "        )\n",
    "\n",
    "    list_temp = [i['name'] for i in list(reactant_wrapper.mol_graph.as_dict()['molecule']['sites'])]\n",
    "    list_xyz = [i['xyz'] for i in list(reactant_wrapper.mol_graph.as_dict()['molecule']['sites'])]\n",
    "    list_atomic = [element_dict[i] for i in list_temp]\n",
    "    \n",
    "    if(list_atomic == species_reactant): preserve += 1\n",
    "    if(list_xyz == coords_reactant): preserve += 1\n",
    "\n",
    "print(preserve)\n"
   ]
  },
  {
   "cell_type": "code",
   "execution_count": 91,
   "metadata": {},
   "outputs": [
    {
     "name": "stdout",
     "output_type": "stream",
     "text": [
      "13\n"
     ]
    }
   ],
   "source": []
  },
  {
   "cell_type": "code",
   "execution_count": null,
   "metadata": {},
   "outputs": [],
   "source": []
  }
 ],
 "metadata": {
  "interpreter": {
   "hash": "c205a9eb4435b0aa27aaf0e9c4340d2b9512e0cc8b49dbd290219ad3711c312f"
  },
  "kernelspec": {
   "display_name": "Python 3.7.0 ('bondnet')",
   "language": "python",
   "name": "python3"
  },
  "language_info": {
   "codemirror_mode": {
    "name": "ipython",
    "version": 3
   },
   "file_extension": ".py",
   "mimetype": "text/x-python",
   "name": "python",
   "nbconvert_exporter": "python",
   "pygments_lexer": "ipython3",
   "version": "3.7.0"
  },
  "orig_nbformat": 4
 },
 "nbformat": 4,
 "nbformat_minor": 2
}
