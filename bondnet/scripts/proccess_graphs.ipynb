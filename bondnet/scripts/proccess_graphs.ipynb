{
 "cells": [
  {
   "cell_type": "code",
   "execution_count": 3,
   "metadata": {},
   "outputs": [
    {
     "name": "stderr",
     "output_type": "stream",
     "text": [
      "/home/santiagovargas/anaconda3/envs/bondnet/lib/python3.7/site-packages/tqdm/auto.py:22: TqdmWarning: IProgress not found. Please update jupyter and ipywidgets. See https://ipywidgets.readthedocs.io/en/stable/user_install.html\n",
      "  from .autonotebook import tqdm as notebook_tqdm\n",
      "Using backend: pytorch\n"
     ]
    }
   ],
   "source": [
    "import copy\n",
    "import networkx as nx\n",
    "import pandas as pd \n",
    "from collections import defaultdict, OrderedDict\n",
    "\n",
    "from bondnet.utils import to_path, int_atom, xyz2mol\n",
    "from bondnet.core.molwrapper import rdkit_mol_to_wrapper_mol, create_wrapper_mol_from_atoms_and_bonds\n",
    "from pymatgen.analysis.graphs import _isomorphic\n",
    "from bondnet.core.reaction_collection import get_atom_bond_mapping\n",
    "from bondnet.dataset.mg_barrier import process_species\n",
    "\n",
    "path_mg_data = \"/home/santiagovargas/Documents/Dataset/mg_dataset/\"\n",
    "path_json = path_mg_data + \"20220613_reaction_data.json\"\n",
    "mg_df = pd.read_json(path_json)"
   ]
  },
  {
   "cell_type": "code",
   "execution_count": 39,
   "metadata": {},
   "outputs": [],
   "source": [
    "\n"
   ]
  },
  {
   "cell_type": "code",
   "execution_count": 27,
   "metadata": {},
   "outputs": [
    {
     "name": "stdout",
     "output_type": "stream",
     "text": [
      "{(0, 2): {}, (0, 3): {}, (0, 7): {}, (0, 16): {}, (1, 2): {}, (2, 10): {}, (2, 13): {}, (3, 4): {}, (3, 5): {}, (3, 6): {}, (7, 8): {}, (7, 9): {}, (10, 11): {}, (10, 12): {}, (13, 14): {}, (13, 15): {}}\n",
      "\n",
      "[6, 1, 6, 6, 1, 1, 1, 7, 1, 1, 7, 8, 8, 7, 1, 1, 9, 9]\n",
      "[[0, 3], [0, 2], [0, 16], [0, 7], [1, 2], [2, 13], [2, 10], [3, 4], [3, 5], [3, 6], [7, 9], [7, 8], [10, 11], [10, 12], [13, 14], [13, 15]]\n"
     ]
    }
   ],
   "source": [
    "row = mg_df.iloc[100]\n",
    "\n",
    "species_reactant = [int_atom(i['name']) for i in row['reactant_molecule_graph'][\"molecule\"][\"sites\"]]\n",
    "species_products = [int_atom(i['name']) for i in row['product_molecule_graph'][\"molecule\"][\"sites\"]]\n",
    "coords_reactant = [i[\"xyz\"] for i in row['reactant_molecule_graph'][\"molecule\"][\"sites\"]]\n",
    "coords_products = [i[\"xyz\"] for i in row['product_molecule_graph'][\"molecule\"][\"sites\"]]\n",
    "charge = row['charge']\n",
    "id = str(row[\"reactant_id\"])\n",
    "free_energy = row['product_free_energy']\n",
    "\n",
    "reactant_mol = xyz2mol(atoms = species_reactant, \n",
    "    coordinates = coords_reactant, \n",
    "    charge = charge,\n",
    "    )\n",
    "reactant_wrapper = rdkit_mol_to_wrapper_mol(reactant_mol[0],\n",
    "    charge = charge,\n",
    "    free_energy=free_energy, \n",
    "    identifier = id\n",
    "    )\n",
    "print(reactant_wrapper.bonds) \n",
    "print()\n",
    "\n",
    "#print(species_reactant)\n",
    "#print(species_products)\n",
    "\n",
    "xyz_list = []\n",
    "for i in reactant_mol[0].GetAtoms():\n",
    "    xyz_list.append(i.GetAtomicNum())\n",
    "print(xyz_list)    \n",
    "\n",
    "rxn_alt_double_product = process_species(row)\n",
    "\n",
    "#print(list(reactant_wrapper.bonds.keys()))\n",
    "print(row['reactant_bonds_nometal'])"
   ]
  },
  {
   "cell_type": "code",
   "execution_count": 5,
   "metadata": {},
   "outputs": [],
   "source": [
    "\n",
    "# 101 is single product molecule...100 is two products\n",
    "# todo: fill in bonds not found by rdkit w/evan's table \n",
    "# todo: \n",
    "#row = mg_df.iloc[101]\n",
    "#rxn_alt_double_product = process_species(row)\n",
    "\n",
    "#species_reactant = [int_atom(i['name']) for i in row['reactant_molecule_graph'][\"molecule\"][\"sites\"]]\n",
    "#species_products = [int_atom(i['name']) for i in row['product_molecule_graph'][\"molecule\"][\"sites\"]]\n",
    "#coords_reactant = [i[\"xyz\"] for i in row['reactant_molecule_graph'][\"molecule\"][\"sites\"]]\n",
    "#coords_products = [i[\"xyz\"] for i in row['product_molecule_graph'][\"molecule\"][\"sites\"]]\n",
    "\n",
    "#print(rxn_alt_double_product.reactants)\n",
    "#print(rxn_alt_double_product.products)\n",
    "\n",
    "\n",
    "#print(atom_mapping_test(rxn_alt_double_product, row))\n",
    "#print(nx_graph_atom_mapping(rxn_alt_double_product.reactants[0].graph, rxn_alt_double_product.products.graph))\n"
   ]
  },
  {
   "cell_type": "code",
   "execution_count": 41,
   "metadata": {},
   "outputs": [
    {
     "name": "stderr",
     "output_type": "stream",
     "text": [
      "100%|██████████| 200/200 [00:00<00:00, 260.51it/s]\n"
     ]
    }
   ],
   "source": [
    "works_count = 0\n",
    "works_single_product = 0\n",
    "single_product_count = 0\n",
    "double_product_count = 0 \n",
    "works_double_product = 0 \n",
    "from tqdm import tqdm \n",
    "\n",
    "for i in tqdm(range(200)):\n",
    "    row = mg_df.iloc[i]\n",
    "    \"\"\"g_prod = nx.Graph(row[\"product_bonds\"])\n",
    "    g_react = nx.Graph(row[\"reactant_bonds\"])\n",
    "    g_prod_2 = nx.Graph(row[\"product_bonds_nometal\"])\n",
    "    g_react_2 = nx.Graph(row[\"reactant_bonds_nometal\"])\n",
    "    if(nx_graph_atom_mapping(g_prod, g_react) == None):\n",
    "        if(nx_graph_atom_mapping(g_prod_2, g_react_2) == None):\n",
    "            pass\n",
    "        else: works_count += 1 \n",
    "    else: works_count += 1\"\"\"\n",
    "    species_reactant = [int_atom(i['name']) for i in row['reactant_molecule_graph'][\"molecule\"][\"sites\"]]\n",
    "    species_products = [int_atom(i['name']) for i in row['product_molecule_graph'][\"molecule\"][\"sites\"]]\n",
    "    coords_reactant = [i[\"xyz\"] for i in row['reactant_molecule_graph'][\"molecule\"][\"sites\"]]\n",
    "    coords_products = [i[\"xyz\"] for i in row['product_molecule_graph'][\"molecule\"][\"sites\"]]\n",
    "\n",
    "    r = create_wrapper_mol_from_atoms_and_bonds(\n",
    "        species_reactant, coords_reactant, row[\"reactant_bonds\"], charge=0\n",
    "    )\n",
    "    p = create_wrapper_mol_from_atoms_and_bonds(\n",
    "        species_products, coords_products, row[\"product_bonds\"], charge=0\n",
    "    )\n",
    "    r2 = create_wrapper_mol_from_atoms_and_bonds(\n",
    "        species_reactant, coords_reactant, row[\"reactant_bonds_nometal\"], charge=0\n",
    "    )\n",
    "    p2 = create_wrapper_mol_from_atoms_and_bonds(\n",
    "        species_products, coords_products, row[\"product_bonds_nometal\"], charge=0\n",
    "    )\n",
    "  \n",
    "    rxn_alt_double_product = []\n",
    "\n",
    "    if(type(rxn_alt_double_product) == list):\n",
    "        products = p\n",
    "        product_s = copy.deepcopy(products)\n",
    "        #original.break_edge(bond[0], bond[1], allow_reverse=True)\n",
    "        components = nx.weakly_connected_components(product_s.graph)\n",
    "        subgraphs = [product_s.graph.subgraph(c) for c in components]\n",
    "        subgraphs_count = int(len(subgraphs))\n",
    "\n",
    "    else: \n",
    "        products = rxn_alt_double_product.products\n",
    "        subgraphs_count = int(len(products))\n",
    "\n",
    "    if(subgraphs_count==2):double_product_count+=1\n",
    "    else: \n",
    "        single_product_count+=1\n",
    "        mapping = \n",
    "\n",
    "    \"\"\"\n",
    "    if(subgraphs_count == 2):\n",
    "        if(nx_graph_atom_mapping(r.mol_graph.graph, p.mol_graph.graph) == None):\n",
    "            if(nx_graph_atom_mapping(r2.mol_graph.graph, p2.mol_graph.graph) == None):\n",
    "                if(nx_graph_atom_mapping(r.mol_graph.graph, p2.mol_graph.graph) == None):\n",
    "                    if(nx_graph_atom_mapping(r2.mol_graph.graph, p.mol_graph.graph) == None):\n",
    "                        pass\n",
    "                    else: \n",
    "                        works_count += 1\n",
    "                        works_double_product+=1\n",
    "                else: \n",
    "                    works_count += 1\n",
    "                    works_double_product+=1\n",
    "            else: \n",
    "                works_count += 1 \n",
    "                works_double_product+=1\n",
    "        else: \n",
    "            works_count += 1\n",
    "            works_double_product+=1\n",
    "        if(nx_graph_atom_mapping(r.mol_graph.graph, p.mol_graph.graph) == None):\n",
    "            if(nx_graph_atom_mapping(r2.mol_graph.graph, p2.mol_graph.graph) == None):\n",
    "                if(nx_graph_atom_mapping(r.mol_graph.graph, p2.mol_graph.graph) == None):\n",
    "                    if(nx_graph_atom_mapping(r2.mol_graph.graph, p.mol_graph.graph) == None):\n",
    "                        pass\n",
    "                    else: \n",
    "                        works_count += 1\n",
    "                        works_double_product+=1\n",
    "                else: \n",
    "                    works_count += 1\n",
    "                    works_double_product+=1\n",
    "            else: \n",
    "                works_count += 1 \n",
    "                works_double_product+=1\n",
    "        else: \n",
    "            works_count += 1\n",
    "            works_double_product+=1\n",
    "   \n",
    "    else:\"\"\"\n",
    "    if(nx_graph_atom_mapping(r.mol_graph.graph, p.mol_graph.graph) == None):\n",
    "        if(nx_graph_atom_mapping(r2.mol_graph.graph, p2.mol_graph.graph) == None):\n",
    "            if(nx_graph_atom_mapping(r.mol_graph.graph, p2.mol_graph.graph) == None):\n",
    "                if(nx_graph_atom_mapping(r2.mol_graph.graph, p.mol_graph.graph) == None):\n",
    "                    pass\n",
    "                else: \n",
    "                    works_count += 1\n",
    "                    if(subgraphs_count == 1): works_single_product+=1\n",
    "                    else: works_double_product+=1\n",
    "            else: \n",
    "                works_count += 1\n",
    "                if(subgraphs_count == 1): works_single_product+=1\n",
    "                else: works_double_product+=1\n",
    "        else: \n",
    "            works_count += 1 \n",
    "            if(subgraphs_count == 1): works_single_product+=1\n",
    "            else: works_double_product+=1\n",
    "    else: \n",
    "        works_count += 1\n",
    "        if(subgraphs_count == 1): works_single_product+=1\n",
    "        else: works_double_product+=1\n"
   ]
  },
  {
   "cell_type": "code",
   "execution_count": null,
   "metadata": {},
   "outputs": [],
   "source": [
    "\n"
   ]
  },
  {
   "cell_type": "code",
   "execution_count": 42,
   "metadata": {},
   "outputs": [
    {
     "name": "stdout",
     "output_type": "stream",
     "text": [
      "works for 21 double product reactions\n",
      "works for 39 single product reactions\n",
      "works overall: 0.30%\n",
      "count 2: 0.28%\n",
      "count 1: 0.31%\n"
     ]
    }
   ],
   "source": [
    "print(\"works for {} double product reactions\".format(works_double_product))\n",
    "print(\"works for {} single product reactions\".format(works_single_product))\n",
    "print(\"works overall: {:.2f}%\".format(works_count/(double_product_count + single_product_count)))\n",
    "print(\"count 2: {:.2f}%\".format(works_double_product/double_product_count))\n",
    "print(\"count 1: {:.2f}%\".format(works_single_product/ single_product_count))"
   ]
  },
  {
   "cell_type": "code",
   "execution_count": 10,
   "metadata": {},
   "outputs": [
    {
     "name": "stdout",
     "output_type": "stream",
     "text": [
      "works for 21 double product reactions\n",
      "works for 39 single product reactions\n",
      "works overall: 0.30%\n",
      "count 2: 0.28%\n",
      "count 1: 0.31%\n"
     ]
    }
   ],
   "source": [
    "print(\"works for {} double product reactions\".format(works_double_product))\n",
    "print(\"works for {} single product reactions\".format(works_single_product))\n",
    "print(\"works overall: {:.2f}%\".format(works_count/(double_product_count + single_product_count)))\n",
    "print(\"count 2: {:.2f}%\".format(works_double_product/double_product_count))\n",
    "print(\"count 1: {:.2f}%\".format(works_single_product/ single_product_count))"
   ]
  },
  {
   "cell_type": "code",
   "execution_count": 42,
   "metadata": {},
   "outputs": [
    {
     "name": "stderr",
     "output_type": "stream",
     "text": [
      "100%|██████████| 10/10 [00:00<00:00, 61.88it/s]"
     ]
    },
    {
     "name": "stdout",
     "output_type": "stream",
     "text": [
      "20\n"
     ]
    },
    {
     "name": "stderr",
     "output_type": "stream",
     "text": [
      "\n"
     ]
    }
   ],
   "source": [
    "element_dict = {\"H\": 1, \"Li\": 3, \"Be\": 4, \"B\": 5, \"C\": 6, \"N\": 7, \"O\": 8, \n",
    "\"F\": 9, 'Ca': 20, 'Na': 11, 'Cl': 17, 'P':15, 'Mg': 12 }\n",
    "preserve = 0\n",
    "for i in tqdm(range(10)):\n",
    "    row = mg_df.iloc[i]\n",
    "    \"\"\"g_prod = nx.Graph(row[\"product_bonds\"])\n",
    "    g_react = nx.Graph(row[\"reactant_bonds\"])\n",
    "    g_prod_2 = nx.Graph(row[\"product_bonds_nometal\"])\n",
    "    g_react_2 = nx.Graph(row[\"reactant_bonds_nometal\"])\n",
    "    if(nx_graph_atom_mapping(g_prod, g_react) == None):\n",
    "        if(nx_graph_atom_mapping(g_prod_2, g_react_2) == None):\n",
    "            pass\n",
    "        else: works_count += 1 \n",
    "    else: works_count += 1\"\"\"\n",
    "    species_reactant = [int_atom(i['name']) for i in row['reactant_molecule_graph'][\"molecule\"][\"sites\"]]\n",
    "    species_products = [int_atom(i['name']) for i in row['product_molecule_graph'][\"molecule\"][\"sites\"]]\n",
    "    coords_reactant = [i[\"xyz\"] for i in row['reactant_molecule_graph'][\"molecule\"][\"sites\"]]\n",
    "    coords_products = [i[\"xyz\"] for i in row['product_molecule_graph'][\"molecule\"][\"sites\"]]\n",
    "    #r = create_wrapper_mol_from_atoms_and_bonds(\n",
    "    #    species_reactant, coords_reactant, row[\"reactant_bonds\"], charge=0\n",
    "    #)\n",
    "\n",
    "    #p = create_wrapper_mol_from_atoms_and_bonds(\n",
    "    #    species_products, coords_products, row[\"product_bonds\"], charge=0\n",
    "    #)\n",
    "    reactant_mol = xyz2mol(atoms = species_reactant, \n",
    "    coordinates = coords_reactant\n",
    "    )\n",
    "    reactant_wrapper = rdkit_mol_to_wrapper_mol(reactant_mol[0],\n",
    "        identifier = '1'\n",
    "        )\n",
    "\n",
    "    list_temp = [i['name'] for i in list(reactant_wrapper.mol_graph.as_dict()['molecule']['sites'])]\n",
    "    list_xyz = [i['xyz'] for i in list(reactant_wrapper.mol_graph.as_dict()['molecule']['sites'])]\n",
    "    list_atomic = [element_dict[i] for i in list_temp]\n",
    "    \n",
    "    if(list_atomic == species_reactant): preserve += 1\n",
    "    if(list_xyz == coords_reactant): preserve += 1\n",
    "\n",
    "print(preserve)\n"
   ]
  },
  {
   "cell_type": "code",
   "execution_count": 52,
   "metadata": {},
   "outputs": [],
   "source": [
    "#len(rxn_alt_double_product.products[0].species)\n",
    "#[{i:i} for i in range(len(rxn_alt_double_product.products[0].species))]\n",
    "\n",
    "type(reactant_mol[0])\n",
    "from rdkit.Chem.rdchem import Mol\n"
   ]
  },
  {
   "cell_type": "code",
   "execution_count": null,
   "metadata": {},
   "outputs": [],
   "source": []
  }
 ],
 "metadata": {
  "interpreter": {
   "hash": "c205a9eb4435b0aa27aaf0e9c4340d2b9512e0cc8b49dbd290219ad3711c312f"
  },
  "kernelspec": {
   "display_name": "Python 3.7.0 ('bondnet')",
   "language": "python",
   "name": "python3"
  },
  "language_info": {
   "codemirror_mode": {
    "name": "ipython",
    "version": 3
   },
   "file_extension": ".py",
   "mimetype": "text/x-python",
   "name": "python",
   "nbconvert_exporter": "python",
   "pygments_lexer": "ipython3",
   "version": "3.7.0"
  },
  "orig_nbformat": 4
 },
 "nbformat": 4,
 "nbformat_minor": 2
}
