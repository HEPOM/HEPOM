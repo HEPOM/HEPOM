{
 "cells": [
  {
   "cell_type": "code",
   "execution_count": 1,
   "id": "b5d4d655-064f-4bd6-b9eb-4148d805051a",
   "metadata": {},
   "outputs": [],
   "source": [
    "import wandb, argparse, torch, json\n",
    "import numpy as np\n",
    "\n",
    "import pytorch_lightning as pl\n",
    "from pytorch_lightning.loggers import TensorBoardLogger, WandbLogger\n",
    "from pytorch_lightning.callbacks import (\n",
    "    LearningRateMonitor,\n",
    "    EarlyStopping,\n",
    "    ModelCheckpoint,\n",
    ")\n",
    "\n",
    "from bondnet.data.dataset import ReactionNetworkDatasetPrecomputed\n",
    "from bondnet.data.dataloader import DataLoaderPrecomputedReactionGraphs\n",
    "from bondnet.data.dataset import train_validation_test_split\n",
    "from bondnet.utils import seed_torch\n",
    "from bondnet.model.training_utils import (\n",
    "    get_grapher,\n",
    "    LogParameters,\n",
    "    load_model_lightning,\n",
    ")\n",
    "\n",
    "seed_torch()\n",
    "torch.set_float32_matmul_precision(\"high\")  # might have to disable on older GPUs\n",
    "\n",
    "import torch.multiprocessing\n",
    "torch.multiprocessing.set_sharing_strategy('file_system')"
   ]
  },
  {
   "cell_type": "markdown",
   "id": "fc1f8411-11dc-4118-b73a-1ba5c364a903",
   "metadata": {},
   "source": [
    "# check cuda"
   ]
  },
  {
   "cell_type": "code",
   "execution_count": 2,
   "id": "3b938529-b2a2-4a55-b98b-605015208481",
   "metadata": {},
   "outputs": [
    {
     "data": {
      "text/plain": [
       "device(type='cuda')"
      ]
     },
     "execution_count": 2,
     "metadata": {},
     "output_type": "execute_result"
    }
   ],
   "source": [
    "device = torch.device(\"cuda\" if torch.cuda.is_available() else \"cpu\")\n",
    "device"
   ]
  },
  {
   "cell_type": "markdown",
   "id": "96233a8d-1caf-4489-bf33-587f2853bafa",
   "metadata": {},
   "source": [
    "# 1. model config"
   ]
  },
  {
   "cell_type": "code",
   "execution_count": 3,
   "id": "b2b04233-f39e-497a-8dc9-4858717b0fa6",
   "metadata": {},
   "outputs": [],
   "source": [
    "config = {'augment': True,\n",
    " 'batch_size': 4,\n",
    " 'debug': False,\n",
    " 'classifier': False,\n",
    " 'classif_categories': 3,\n",
    " 'cat_weights': [1.0, 1.0, 1.0],\n",
    " 'embedding_size': 24,\n",
    " 'epochs': 100,\n",
    " 'extra_features': ['bond_length'],\n",
    " 'extra_info': [],\n",
    " 'filter_species': [3, 5],\n",
    " 'fc_activation': 'ReLU',\n",
    " 'fc_batch_norm': True,\n",
    " 'fc_dropout': 0.2,\n",
    " 'fc_hidden_size_1': 256,\n",
    " 'fc_hidden_size_shape': 'flat',\n",
    " 'fc_num_layers': 1,\n",
    " 'gated_activation': 'ReLU',\n",
    " 'gated_batch_norm': False,\n",
    " 'gated_dropout': 0.1,\n",
    " 'gated_graph_norm': False,\n",
    " 'gated_hidden_size_1': 512,\n",
    " 'gated_hidden_size_shape': 'flat',\n",
    " 'gated_num_fc_layers': 1,\n",
    " 'gated_num_layers': 2,\n",
    " 'gated_residual': True,\n",
    " 'learning_rate': 0.003,\n",
    " 'precision': 32,\n",
    " 'loss': 'mse',\n",
    " 'num_lstm_iters': 3,\n",
    " 'num_lstm_layers': 1,\n",
    " 'on_gpu': True,\n",
    " 'restore': False,\n",
    " 'target_var': 'dG_sp',\n",
    " 'target_var_transfer': 'diff',\n",
    " 'weight_decay': 0.0,\n",
    " 'max_epochs': 100,\n",
    " 'max_epochs_transfer': 100,\n",
    " 'transfer': False,\n",
    " 'filter_outliers': True}\n",
    "\n",
    "dataset_loc = \"/pscratch/sd/w/wenxu/jobs/CRNs/data/reduceQ9.json\"\n",
    "\n",
    "on_gpu = config[\"on_gpu\"]\n",
    "extra_keys = config[\"extra_features\"]\n",
    "debug = config[\"debug\"]\n",
    "precision = config[\"precision\"]\n",
    "\n",
    "if precision == \"16\" or precision == \"32\":\n",
    "    precision = int(precision)\n",
    "\n",
    "if on_gpu:\n",
    "    device = torch.device(\"cuda\" if torch.cuda.is_available() else \"cpu\")\n",
    "else:\n",
    "    device = torch.device(\"cpu\")\n",
    "\n",
    "extra_keys = config[\"extra_features\"]"
   ]
  },
  {
   "cell_type": "markdown",
   "id": "20c83970-93e6-4817-ab6b-e7cb542d5de7",
   "metadata": {},
   "source": [
    "# 2. load json and processing it into Reaction networks graphs in cpu"
   ]
  },
  {
   "cell_type": "code",
   "execution_count": 4,
   "id": "1ed31fd9-bc47-4e79-a834-ad91395316c9",
   "metadata": {},
   "outputs": [
    {
     "name": "stdout",
     "output_type": "stream",
     "text": [
      "reading file from: /pscratch/sd/w/wenxu/jobs/CRNs/data/reduceQ9.json\n",
      "rxn raw len: 100\n",
      "Program finished in 0.6527696939883754 seconds\n",
      ".............failures.............\n",
      "reactions len: 96\n",
      "valid ind len: 96\n",
      "bond break fail count: \t\t0\n",
      "default fail count: \t\t4\n",
      "sdf map fail count: \t\t0\n",
      "product bond fail count: \t0\n",
      "about to group and organize\n",
      "number of grouped reactions: 96\n",
      "features: 288\n",
      "labels: 96\n",
      "molecules: 288\n",
      "constructing graphs & features....\n",
      "number of graphs valid: 288\n",
      "number of graphs: 288\n",
      "prebuilding reaction graphs\n"
     ]
    }
   ],
   "source": [
    "dataset = ReactionNetworkDatasetPrecomputed(\n",
    "    grapher=get_grapher(extra_keys),\n",
    "    file=dataset_loc,\n",
    "    target=config[\"target_var\"],\n",
    "    classifier=config[\"classifier\"],\n",
    "    classif_categories=config[\"classif_categories\"],\n",
    "    filter_species=config[\"filter_species\"],\n",
    "    filter_outliers=config[\"filter_outliers\"],\n",
    "    filter_sparse_rxns=False,\n",
    "    debug=debug,\n",
    "    device=\"cpu\",\n",
    "    extra_keys=extra_keys,\n",
    "    extra_info=config[\"extra_info\"],\n",
    ")"
   ]
  },
  {
   "cell_type": "markdown",
   "id": "5bacc825-ae81-4021-82df-c36cdca85e49",
   "metadata": {},
   "source": [
    "# 3. Write Reaction networks graphs to lmdb files in parallel"
   ]
  },
  {
   "cell_type": "code",
   "execution_count": 5,
   "id": "d9ad40d7-6e34-4f6c-b1c4-1bf1820d790e",
   "metadata": {},
   "outputs": [],
   "source": [
    "import sys \n",
    "sys.path.insert(0, sys.path[0]+\"/../\")\n",
    "from tmp.lmdb_dataset import LmdbDataset, CRNs2lmdb"
   ]
  },
  {
   "cell_type": "code",
   "execution_count": 6,
   "id": "8c48f2e4-f9a7-4833-b0cc-b4653c19439e",
   "metadata": {},
   "outputs": [
    {
     "name": "stderr",
     "output_type": "stream",
     "text": [
      "Worker 0: Writing CRNs Objects into LMDBs: 100%|██████████| 32/32 [00:00<00:00, 222.95it/s]\n",
      "\n",
      "Worker 1: Writing CRNs Objects into LMDBs:   0%|          | 0/32 [00:00<?, ?it/s]\u001b[A\n",
      "Worker 1: Writing CRNs Objects into LMDBs: 100%|██████████| 32/32 [00:00<00:00, 240.85it/s]\u001b[A\n",
      "\n",
      "\n",
      "Worker 2: Writing CRNs Objects into LMDBs: 100%|██████████| 32/32 [00:00<00:00, 361.80it/s]\n"
     ]
    },
    {
     "name": "stdout",
     "output_type": "stream",
     "text": [
      "Deleted file: /pscratch/sd/w/wenxu/jobs/CRNs/lmdb_data/_tmp_data.0000.lmdb-lock\n",
      "Deleted file: /pscratch/sd/w/wenxu/jobs/CRNs/lmdb_data/_tmp_data.0001.lmdb\n",
      "Deleted file: /pscratch/sd/w/wenxu/jobs/CRNs/lmdb_data/_tmp_data.0002.lmdb\n",
      "Deleted file: /pscratch/sd/w/wenxu/jobs/CRNs/lmdb_data/_tmp_data.0000.lmdb\n",
      "Deleted file: /pscratch/sd/w/wenxu/jobs/CRNs/lmdb_data/_tmp_data.0001.lmdb-lock\n",
      "Deleted file: /pscratch/sd/w/wenxu/jobs/CRNs/lmdb_data/_tmp_data.0002.lmdb-lock\n"
     ]
    }
   ],
   "source": [
    "config = {\n",
    "    \"out_path\": \"/pscratch/sd/w/wenxu/jobs/CRNs/lmdb_data\",  # Update the directory path\n",
    "    \"num_workers\": 3,\n",
    "    \"output_file\": \"merged_data.lmdb\"\n",
    "}\n",
    "CRNs2lmdb(dataset, config)"
   ]
  },
  {
   "cell_type": "markdown",
   "id": "5b767271-6c05-4d07-a209-9c2b1412adb4",
   "metadata": {},
   "source": [
    "# 4. Load lmdb files "
   ]
  },
  {
   "cell_type": "code",
   "execution_count": 7,
   "id": "83ed0823-84e9-4519-aa97-487f3e12bf1d",
   "metadata": {},
   "outputs": [],
   "source": [
    "_lmdb = LmdbDataset({\"src\" : \"/pscratch/sd/w/wenxu/jobs/CRNs/lmdb_data/merged_data.lmdb\"})"
   ]
  },
  {
   "cell_type": "code",
   "execution_count": 8,
   "id": "9658f898-a86e-4c1b-95a4-499b3a0554d3",
   "metadata": {},
   "outputs": [
    {
     "name": "stdout",
     "output_type": "stream",
     "text": [
      "96 float32 {'atom': 20, 'bond': 8, 'global': 7} {'atom': ['total degree', 'is in ring', 'total H', 'chemical symbol', 'chemical symbol', 'chemical symbol', 'chemical symbol', 'chemical symbol', 'chemical symbol', 'chemical symbol', 'chemical symbol', 'chemical symbol', 'chemical symbol', 'chemical symbol', 'chemical symbol', 'ring size', 'ring size', 'ring size', 'ring size', 'ring size'], 'bond': ['metal bond', 'ring inclusion', 'ring size', 'ring size', 'ring size', 'ring size', 'ring size', 'bond_length'], 'global': ['num atoms', 'num bonds', 'molecule weight', 'charge one hot', 'charge one hot', 'charge one hot', 'charge one hot']}\n"
     ]
    }
   ],
   "source": [
    "print(_lmdb.num_samples, _lmdb.dtype, _lmdb.feature_size, _lmdb.feature_name)"
   ]
  },
  {
   "cell_type": "markdown",
   "id": "15a8828e-5395-4e47-a6a3-a80c937f20ec",
   "metadata": {},
   "source": [
    "# 5. Train BondNet"
   ]
  },
  {
   "cell_type": "code",
   "execution_count": 9,
   "id": "00b13fd3-4578-45f3-81cc-258ca60b8910",
   "metadata": {},
   "outputs": [
    {
     "name": "stdout",
     "output_type": "stream",
     "text": [
      ">>>>>>>>>>>>>>>>>>>>>>>>>>>>>>>>>>>>>>>>config_settings<<<<<<<<<<<<<<<<<<<<<<<<<<<<<<<<<<<<<<<<\n",
      "augment             \t\t\tTrue                \n",
      "batch_size          \t\t\t24                  \n",
      "debug               \t\t\tFalse               \n",
      "classifier          \t\t\tFalse               \n",
      "classif_categories  \t\t\t3                   \n",
      "cat_weights         \t\t\t[1.0, 1.0, 1.0]     \n",
      "embedding_size      \t\t\t24                  \n",
      "epochs              \t\t\t100                 \n",
      "extra_features      \t\t\t['bond_length']     \n",
      "extra_info          \t\t\t[]                  \n",
      "filter_species      \t\t\t[3, 5]              \n",
      "fc_activation       \t\t\tReLU                \n",
      "fc_batch_norm       \t\t\tTrue                \n",
      "fc_dropout          \t\t\t0.2                 \n",
      "fc_hidden_size_1    \t\t\t256                 \n",
      "fc_hidden_size_shape\t\t\tflat                \n",
      "fc_num_layers       \t\t\t1                   \n",
      "gated_activation    \t\t\tReLU                \n",
      "gated_batch_norm    \t\t\tFalse               \n",
      "gated_dropout       \t\t\t0.1                 \n",
      "gated_graph_norm    \t\t\tFalse               \n",
      "gated_hidden_size_1 \t\t\t512                 \n",
      "gated_hidden_size_shape\t\t\tflat                \n",
      "gated_num_fc_layers \t\t\t1                   \n",
      "gated_num_layers    \t\t\t2                   \n",
      "gated_residual      \t\t\tTrue                \n",
      "learning_rate       \t\t\t0.003               \n",
      "precision           \t\t\t32                  \n",
      "loss                \t\t\tmse                 \n",
      "num_lstm_iters      \t\t\t3                   \n",
      "num_lstm_layers     \t\t\t1                   \n",
      "on_gpu              \t\t\tTrue                \n",
      "restore             \t\t\tFalse               \n",
      "target_var          \t\t\tdG_sp               \n",
      "target_var_transfer \t\t\tdiff                \n",
      "weight_decay        \t\t\t0.0                 \n",
      "max_epochs          \t\t\t100                 \n",
      "max_epochs_transfer \t\t\t100                 \n",
      "transfer            \t\t\tFalse               \n",
      "filter_outliers     \t\t\tTrue                \n",
      "filter_sparse_rxns  \t\t\tFalse               \n",
      "in_feats            \t\t\t{'atom': 20, 'bond': 8, 'global': 7}\n",
      ">>>>>>>>>>>>>>>>>>>>>>>>>>>>>>>>>>>>>>>>config_settings<<<<<<<<<<<<<<<<<<<<<<<<<<<<<<<<<<<<<<<<\n"
     ]
    }
   ],
   "source": [
    "config = json.load(open(\"/pscratch/sd/w/wenxu/jobs/CRNs/bondnet-santi_dev/bondnet/scripts/training/settings.json\", \"r\"))\n",
    "log_save_dir = \"./logs_lightning/\"\n",
    "dict_for_model = {\n",
    "    \"extra_features\": extra_keys,\n",
    "    \"classifier\": config[\"classifier\"],\n",
    "    \"classif_categories\": config[\"classif_categories\"],\n",
    "    \"filter_species\": config[\"filter_species\"],\n",
    "    \"filter_outliers\": config[\"filter_outliers\"],\n",
    "    \"filter_sparse_rxns\": False,\n",
    "    \"debug\": debug,\n",
    "    \"in_feats\": dataset.feature_size,\n",
    "}\n",
    "config[\"batch_size\"] = 24\n",
    "\n",
    "config.update(dict_for_model)\n",
    "#! 2. split dataset.  train_validation_test_split is in bondnet dataset.\n",
    "trainset, valset, testset = train_validation_test_split(\n",
    "    dataset, validation=0.15, test=0.15\n",
    ")\n",
    "\n",
    "print(\">\" * 40 + \"config_settings\" + \"<\" * 40)\n",
    "for k, v in config.items():\n",
    "    print(\"{}\\t\\t\\t{}\".format(str(k).ljust(20), str(v).ljust(20)))\n",
    "\n",
    "print(\">\" * 40 + \"config_settings\" + \"<\" * 40)\n",
    "\n",
    "#! 3. dataloader\n",
    "val_loader = DataLoaderPrecomputedReactionGraphs(\n",
    "    valset, batch_size=len(valset), shuffle=False\n",
    ")\n",
    "test_loader = DataLoaderPrecomputedReactionGraphs(\n",
    "    testset, batch_size=len(testset), shuffle=False\n",
    ")\n",
    "train_loader = DataLoaderPrecomputedReactionGraphs(\n",
    "    trainset, batch_size=config[\"batch_size\"], shuffle=True\n",
    ")\n",
    "\n",
    "model = load_model_lightning(config, device=device, load_dir=log_save_dir)"
   ]
  },
  {
   "cell_type": "code",
   "execution_count": 10,
   "id": "6359e11d-e075-458d-a1c8-2aa4a3e99fb8",
   "metadata": {},
   "outputs": [
    {
     "data": {
      "text/html": [
       "Tracking run with wandb version 0.15.4"
      ],
      "text/plain": [
       "<IPython.core.display.HTML object>"
      ]
     },
     "metadata": {},
     "output_type": "display_data"
    },
    {
     "data": {
      "text/html": [
       "W&B syncing is set to <code>`offline`<code> in this directory.  <br/>Run <code>`wandb online`<code> or set <code>WANDB_MODE=online<code> to enable cloud syncing."
      ],
      "text/plain": [
       "<IPython.core.display.HTML object>"
      ]
     },
     "metadata": {},
     "output_type": "display_data"
    },
    {
     "name": "stderr",
     "output_type": "stream",
     "text": [
      "/global/homes/w/wenxu/.conda/envs/CRNs/lib/python3.8/site-packages/pytorch_lightning/loggers/wandb.py:395: UserWarning: There is a wandb run already in progress and newly created instances of `WandbLogger` will reuse this run. If this is not desired, call `wandb.finish()` before instantiating `WandbLogger`.\n",
      "  rank_zero_warn(\n",
      "GPU available: True (cuda), used: True\n",
      "TPU available: False, using: 0 TPU cores\n",
      "IPU available: False, using: 0 IPUs\n",
      "HPU available: False, using: 0 HPUs\n",
      "/global/homes/w/wenxu/.conda/envs/CRNs/lib/python3.8/site-packages/pytorch_lightning/callbacks/model_checkpoint.py:613: UserWarning: Checkpoint directory /pscratch/sd/w/wenxu/jobs/CRNs/notebook/logs_lightning exists and is not empty.\n",
      "  rank_zero_warn(f\"Checkpoint directory {dirpath} exists and is not empty.\")\n",
      "LOCAL_RANK: 0 - CUDA_VISIBLE_DEVICES: [0,1,2,3]\n",
      "\n",
      "   | Name          | Type                | Params\n",
      "-------------------------------------------------------\n",
      "0  | embedding     | UnifySize           | 840   \n",
      "1  | gated_layers  | ModuleList          | 3.0 M \n",
      "2  | readout_layer | Set2SetThenCat      | 6.3 M \n",
      "3  | fc_layers     | ModuleList          | 656 K \n",
      "4  | loss          | WeightedMSELoss     | 0     \n",
      "5  | train_l1      | Metrics_WeightedMAE | 0     \n",
      "6  | train_r2      | R2Score             | 0     \n",
      "7  | val_l1        | Metrics_WeightedMAE | 0     \n",
      "8  | val_r2        | R2Score             | 0     \n",
      "9  | test_l1       | Metrics_WeightedMAE | 0     \n",
      "10 | test_r2       | R2Score             | 0     \n",
      "-------------------------------------------------------\n",
      "9.9 M     Trainable params\n",
      "0         Non-trainable params\n",
      "9.9 M     Total params\n",
      "39.743    Total estimated model params size (MB)\n",
      "SLURM auto-requeueing enabled. Setting signal handlers.\n"
     ]
    },
    {
     "data": {
      "application/vnd.jupyter.widget-view+json": {
       "model_id": "",
       "version_major": 2,
       "version_minor": 0
      },
      "text/plain": [
       "Sanity Checking: 0it [00:00, ?it/s]"
      ]
     },
     "metadata": {},
     "output_type": "display_data"
    },
    {
     "name": "stderr",
     "output_type": "stream",
     "text": [
      "/global/homes/w/wenxu/.conda/envs/CRNs/lib/python3.8/site-packages/pytorch_lightning/trainer/connectors/data_connector.py:224: PossibleUserWarning: The dataloader, val_dataloader 0, does not have many workers which may be a bottleneck. Consider increasing the value of the `num_workers` argument` (try 128 which is the number of cpus on this machine) in the `DataLoader` init to improve performance.\n",
      "  rank_zero_warn(\n",
      "/global/homes/w/wenxu/.conda/envs/CRNs/lib/python3.8/site-packages/pytorch_lightning/trainer/connectors/data_connector.py:224: PossibleUserWarning: The dataloader, train_dataloader, does not have many workers which may be a bottleneck. Consider increasing the value of the `num_workers` argument` (try 128 which is the number of cpus on this machine) in the `DataLoader` init to improve performance.\n",
      "  rank_zero_warn(\n",
      "/global/homes/w/wenxu/.conda/envs/CRNs/lib/python3.8/site-packages/pytorch_lightning/trainer/trainer.py:1609: PossibleUserWarning: The number of training batches (3) is smaller than the logging interval Trainer(log_every_n_steps=50). Set a lower value for log_every_n_steps if you want to see logs for the training epoch.\n",
      "  rank_zero_warn(\n"
     ]
    },
    {
     "data": {
      "application/vnd.jupyter.widget-view+json": {
       "model_id": "fb9e3f40466544a59f47006795a77900",
       "version_major": 2,
       "version_minor": 0
      },
      "text/plain": [
       "Training: 0it [00:00, ?it/s]"
      ]
     },
     "metadata": {},
     "output_type": "display_data"
    },
    {
     "data": {
      "application/vnd.jupyter.widget-view+json": {
       "model_id": "",
       "version_major": 2,
       "version_minor": 0
      },
      "text/plain": [
       "Validation: 0it [00:00, ?it/s]"
      ]
     },
     "metadata": {},
     "output_type": "display_data"
    },
    {
     "data": {
      "application/vnd.jupyter.widget-view+json": {
       "model_id": "",
       "version_major": 2,
       "version_minor": 0
      },
      "text/plain": [
       "Validation: 0it [00:00, ?it/s]"
      ]
     },
     "metadata": {},
     "output_type": "display_data"
    },
    {
     "data": {
      "application/vnd.jupyter.widget-view+json": {
       "model_id": "",
       "version_major": 2,
       "version_minor": 0
      },
      "text/plain": [
       "Validation: 0it [00:00, ?it/s]"
      ]
     },
     "metadata": {},
     "output_type": "display_data"
    },
    {
     "data": {
      "application/vnd.jupyter.widget-view+json": {
       "model_id": "",
       "version_major": 2,
       "version_minor": 0
      },
      "text/plain": [
       "Validation: 0it [00:00, ?it/s]"
      ]
     },
     "metadata": {},
     "output_type": "display_data"
    },
    {
     "data": {
      "application/vnd.jupyter.widget-view+json": {
       "model_id": "",
       "version_major": 2,
       "version_minor": 0
      },
      "text/plain": [
       "Validation: 0it [00:00, ?it/s]"
      ]
     },
     "metadata": {},
     "output_type": "display_data"
    },
    {
     "data": {
      "application/vnd.jupyter.widget-view+json": {
       "model_id": "",
       "version_major": 2,
       "version_minor": 0
      },
      "text/plain": [
       "Validation: 0it [00:00, ?it/s]"
      ]
     },
     "metadata": {},
     "output_type": "display_data"
    },
    {
     "data": {
      "application/vnd.jupyter.widget-view+json": {
       "model_id": "",
       "version_major": 2,
       "version_minor": 0
      },
      "text/plain": [
       "Validation: 0it [00:00, ?it/s]"
      ]
     },
     "metadata": {},
     "output_type": "display_data"
    },
    {
     "data": {
      "application/vnd.jupyter.widget-view+json": {
       "model_id": "",
       "version_major": 2,
       "version_minor": 0
      },
      "text/plain": [
       "Validation: 0it [00:00, ?it/s]"
      ]
     },
     "metadata": {},
     "output_type": "display_data"
    },
    {
     "data": {
      "application/vnd.jupyter.widget-view+json": {
       "model_id": "",
       "version_major": 2,
       "version_minor": 0
      },
      "text/plain": [
       "Validation: 0it [00:00, ?it/s]"
      ]
     },
     "metadata": {},
     "output_type": "display_data"
    },
    {
     "data": {
      "application/vnd.jupyter.widget-view+json": {
       "model_id": "",
       "version_major": 2,
       "version_minor": 0
      },
      "text/plain": [
       "Validation: 0it [00:00, ?it/s]"
      ]
     },
     "metadata": {},
     "output_type": "display_data"
    },
    {
     "data": {
      "application/vnd.jupyter.widget-view+json": {
       "model_id": "",
       "version_major": 2,
       "version_minor": 0
      },
      "text/plain": [
       "Validation: 0it [00:00, ?it/s]"
      ]
     },
     "metadata": {},
     "output_type": "display_data"
    },
    {
     "data": {
      "application/vnd.jupyter.widget-view+json": {
       "model_id": "",
       "version_major": 2,
       "version_minor": 0
      },
      "text/plain": [
       "Validation: 0it [00:00, ?it/s]"
      ]
     },
     "metadata": {},
     "output_type": "display_data"
    },
    {
     "data": {
      "application/vnd.jupyter.widget-view+json": {
       "model_id": "",
       "version_major": 2,
       "version_minor": 0
      },
      "text/plain": [
       "Validation: 0it [00:00, ?it/s]"
      ]
     },
     "metadata": {},
     "output_type": "display_data"
    },
    {
     "data": {
      "application/vnd.jupyter.widget-view+json": {
       "model_id": "",
       "version_major": 2,
       "version_minor": 0
      },
      "text/plain": [
       "Validation: 0it [00:00, ?it/s]"
      ]
     },
     "metadata": {},
     "output_type": "display_data"
    },
    {
     "data": {
      "application/vnd.jupyter.widget-view+json": {
       "model_id": "",
       "version_major": 2,
       "version_minor": 0
      },
      "text/plain": [
       "Validation: 0it [00:00, ?it/s]"
      ]
     },
     "metadata": {},
     "output_type": "display_data"
    },
    {
     "data": {
      "application/vnd.jupyter.widget-view+json": {
       "model_id": "",
       "version_major": 2,
       "version_minor": 0
      },
      "text/plain": [
       "Validation: 0it [00:00, ?it/s]"
      ]
     },
     "metadata": {},
     "output_type": "display_data"
    },
    {
     "data": {
      "application/vnd.jupyter.widget-view+json": {
       "model_id": "",
       "version_major": 2,
       "version_minor": 0
      },
      "text/plain": [
       "Validation: 0it [00:00, ?it/s]"
      ]
     },
     "metadata": {},
     "output_type": "display_data"
    },
    {
     "data": {
      "application/vnd.jupyter.widget-view+json": {
       "model_id": "",
       "version_major": 2,
       "version_minor": 0
      },
      "text/plain": [
       "Validation: 0it [00:00, ?it/s]"
      ]
     },
     "metadata": {},
     "output_type": "display_data"
    },
    {
     "data": {
      "application/vnd.jupyter.widget-view+json": {
       "model_id": "",
       "version_major": 2,
       "version_minor": 0
      },
      "text/plain": [
       "Validation: 0it [00:00, ?it/s]"
      ]
     },
     "metadata": {},
     "output_type": "display_data"
    },
    {
     "data": {
      "application/vnd.jupyter.widget-view+json": {
       "model_id": "",
       "version_major": 2,
       "version_minor": 0
      },
      "text/plain": [
       "Validation: 0it [00:00, ?it/s]"
      ]
     },
     "metadata": {},
     "output_type": "display_data"
    },
    {
     "data": {
      "application/vnd.jupyter.widget-view+json": {
       "model_id": "",
       "version_major": 2,
       "version_minor": 0
      },
      "text/plain": [
       "Validation: 0it [00:00, ?it/s]"
      ]
     },
     "metadata": {},
     "output_type": "display_data"
    },
    {
     "data": {
      "application/vnd.jupyter.widget-view+json": {
       "model_id": "",
       "version_major": 2,
       "version_minor": 0
      },
      "text/plain": [
       "Validation: 0it [00:00, ?it/s]"
      ]
     },
     "metadata": {},
     "output_type": "display_data"
    },
    {
     "data": {
      "application/vnd.jupyter.widget-view+json": {
       "model_id": "",
       "version_major": 2,
       "version_minor": 0
      },
      "text/plain": [
       "Validation: 0it [00:00, ?it/s]"
      ]
     },
     "metadata": {},
     "output_type": "display_data"
    },
    {
     "data": {
      "application/vnd.jupyter.widget-view+json": {
       "model_id": "",
       "version_major": 2,
       "version_minor": 0
      },
      "text/plain": [
       "Validation: 0it [00:00, ?it/s]"
      ]
     },
     "metadata": {},
     "output_type": "display_data"
    },
    {
     "data": {
      "application/vnd.jupyter.widget-view+json": {
       "model_id": "",
       "version_major": 2,
       "version_minor": 0
      },
      "text/plain": [
       "Validation: 0it [00:00, ?it/s]"
      ]
     },
     "metadata": {},
     "output_type": "display_data"
    },
    {
     "data": {
      "application/vnd.jupyter.widget-view+json": {
       "model_id": "",
       "version_major": 2,
       "version_minor": 0
      },
      "text/plain": [
       "Validation: 0it [00:00, ?it/s]"
      ]
     },
     "metadata": {},
     "output_type": "display_data"
    },
    {
     "data": {
      "application/vnd.jupyter.widget-view+json": {
       "model_id": "",
       "version_major": 2,
       "version_minor": 0
      },
      "text/plain": [
       "Validation: 0it [00:00, ?it/s]"
      ]
     },
     "metadata": {},
     "output_type": "display_data"
    },
    {
     "data": {
      "application/vnd.jupyter.widget-view+json": {
       "model_id": "",
       "version_major": 2,
       "version_minor": 0
      },
      "text/plain": [
       "Validation: 0it [00:00, ?it/s]"
      ]
     },
     "metadata": {},
     "output_type": "display_data"
    },
    {
     "data": {
      "application/vnd.jupyter.widget-view+json": {
       "model_id": "",
       "version_major": 2,
       "version_minor": 0
      },
      "text/plain": [
       "Validation: 0it [00:00, ?it/s]"
      ]
     },
     "metadata": {},
     "output_type": "display_data"
    },
    {
     "data": {
      "application/vnd.jupyter.widget-view+json": {
       "model_id": "",
       "version_major": 2,
       "version_minor": 0
      },
      "text/plain": [
       "Validation: 0it [00:00, ?it/s]"
      ]
     },
     "metadata": {},
     "output_type": "display_data"
    },
    {
     "data": {
      "application/vnd.jupyter.widget-view+json": {
       "model_id": "",
       "version_major": 2,
       "version_minor": 0
      },
      "text/plain": [
       "Validation: 0it [00:00, ?it/s]"
      ]
     },
     "metadata": {},
     "output_type": "display_data"
    },
    {
     "data": {
      "application/vnd.jupyter.widget-view+json": {
       "model_id": "",
       "version_major": 2,
       "version_minor": 0
      },
      "text/plain": [
       "Validation: 0it [00:00, ?it/s]"
      ]
     },
     "metadata": {},
     "output_type": "display_data"
    },
    {
     "data": {
      "application/vnd.jupyter.widget-view+json": {
       "model_id": "",
       "version_major": 2,
       "version_minor": 0
      },
      "text/plain": [
       "Validation: 0it [00:00, ?it/s]"
      ]
     },
     "metadata": {},
     "output_type": "display_data"
    },
    {
     "data": {
      "application/vnd.jupyter.widget-view+json": {
       "model_id": "",
       "version_major": 2,
       "version_minor": 0
      },
      "text/plain": [
       "Validation: 0it [00:00, ?it/s]"
      ]
     },
     "metadata": {},
     "output_type": "display_data"
    },
    {
     "data": {
      "application/vnd.jupyter.widget-view+json": {
       "model_id": "",
       "version_major": 2,
       "version_minor": 0
      },
      "text/plain": [
       "Validation: 0it [00:00, ?it/s]"
      ]
     },
     "metadata": {},
     "output_type": "display_data"
    },
    {
     "data": {
      "application/vnd.jupyter.widget-view+json": {
       "model_id": "",
       "version_major": 2,
       "version_minor": 0
      },
      "text/plain": [
       "Validation: 0it [00:00, ?it/s]"
      ]
     },
     "metadata": {},
     "output_type": "display_data"
    },
    {
     "data": {
      "application/vnd.jupyter.widget-view+json": {
       "model_id": "",
       "version_major": 2,
       "version_minor": 0
      },
      "text/plain": [
       "Validation: 0it [00:00, ?it/s]"
      ]
     },
     "metadata": {},
     "output_type": "display_data"
    },
    {
     "data": {
      "application/vnd.jupyter.widget-view+json": {
       "model_id": "",
       "version_major": 2,
       "version_minor": 0
      },
      "text/plain": [
       "Validation: 0it [00:00, ?it/s]"
      ]
     },
     "metadata": {},
     "output_type": "display_data"
    },
    {
     "data": {
      "application/vnd.jupyter.widget-view+json": {
       "model_id": "",
       "version_major": 2,
       "version_minor": 0
      },
      "text/plain": [
       "Validation: 0it [00:00, ?it/s]"
      ]
     },
     "metadata": {},
     "output_type": "display_data"
    },
    {
     "data": {
      "application/vnd.jupyter.widget-view+json": {
       "model_id": "",
       "version_major": 2,
       "version_minor": 0
      },
      "text/plain": [
       "Validation: 0it [00:00, ?it/s]"
      ]
     },
     "metadata": {},
     "output_type": "display_data"
    },
    {
     "data": {
      "application/vnd.jupyter.widget-view+json": {
       "model_id": "",
       "version_major": 2,
       "version_minor": 0
      },
      "text/plain": [
       "Validation: 0it [00:00, ?it/s]"
      ]
     },
     "metadata": {},
     "output_type": "display_data"
    },
    {
     "data": {
      "application/vnd.jupyter.widget-view+json": {
       "model_id": "",
       "version_major": 2,
       "version_minor": 0
      },
      "text/plain": [
       "Validation: 0it [00:00, ?it/s]"
      ]
     },
     "metadata": {},
     "output_type": "display_data"
    },
    {
     "data": {
      "application/vnd.jupyter.widget-view+json": {
       "model_id": "",
       "version_major": 2,
       "version_minor": 0
      },
      "text/plain": [
       "Validation: 0it [00:00, ?it/s]"
      ]
     },
     "metadata": {},
     "output_type": "display_data"
    },
    {
     "data": {
      "application/vnd.jupyter.widget-view+json": {
       "model_id": "",
       "version_major": 2,
       "version_minor": 0
      },
      "text/plain": [
       "Validation: 0it [00:00, ?it/s]"
      ]
     },
     "metadata": {},
     "output_type": "display_data"
    },
    {
     "data": {
      "application/vnd.jupyter.widget-view+json": {
       "model_id": "4b7226689aaf463681385b33c4c47ab2",
       "version_major": 2,
       "version_minor": 0
      },
      "text/plain": [
       "Validation: 0it [00:00, ?it/s]"
      ]
     },
     "metadata": {},
     "output_type": "display_data"
    },
    {
     "data": {
      "application/vnd.jupyter.widget-view+json": {
       "model_id": "7c3b707bff2e4abaa523887cc48d11af",
       "version_major": 2,
       "version_minor": 0
      },
      "text/plain": [
       "Validation: 0it [00:00, ?it/s]"
      ]
     },
     "metadata": {},
     "output_type": "display_data"
    },
    {
     "data": {
      "application/vnd.jupyter.widget-view+json": {
       "model_id": "e1377dceedaa45419ccc47b3c5ea6073",
       "version_major": 2,
       "version_minor": 0
      },
      "text/plain": [
       "Validation: 0it [00:00, ?it/s]"
      ]
     },
     "metadata": {},
     "output_type": "display_data"
    },
    {
     "data": {
      "application/vnd.jupyter.widget-view+json": {
       "model_id": "8b6ac565e6484cc982c09aab931928b5",
       "version_major": 2,
       "version_minor": 0
      },
      "text/plain": [
       "Validation: 0it [00:00, ?it/s]"
      ]
     },
     "metadata": {},
     "output_type": "display_data"
    },
    {
     "data": {
      "application/vnd.jupyter.widget-view+json": {
       "model_id": "5f8b2df9392040d98fd276aec046b5fe",
       "version_major": 2,
       "version_minor": 0
      },
      "text/plain": [
       "Validation: 0it [00:00, ?it/s]"
      ]
     },
     "metadata": {},
     "output_type": "display_data"
    },
    {
     "data": {
      "application/vnd.jupyter.widget-view+json": {
       "model_id": "d8e13b531e494baba2ce3fd51e7605ec",
       "version_major": 2,
       "version_minor": 0
      },
      "text/plain": [
       "Validation: 0it [00:00, ?it/s]"
      ]
     },
     "metadata": {},
     "output_type": "display_data"
    },
    {
     "data": {
      "application/vnd.jupyter.widget-view+json": {
       "model_id": "f4f18cd5b2344564b663ef897c493d4d",
       "version_major": 2,
       "version_minor": 0
      },
      "text/plain": [
       "Validation: 0it [00:00, ?it/s]"
      ]
     },
     "metadata": {},
     "output_type": "display_data"
    },
    {
     "data": {
      "application/vnd.jupyter.widget-view+json": {
       "model_id": "8f1de6b1c9d64267ae9cf19b7b04af3e",
       "version_major": 2,
       "version_minor": 0
      },
      "text/plain": [
       "Validation: 0it [00:00, ?it/s]"
      ]
     },
     "metadata": {},
     "output_type": "display_data"
    },
    {
     "name": "stdout",
     "output_type": "stream",
     "text": [
      "Epoch 00052: reducing learning rate of group 0 to 1.2000e-03.\n"
     ]
    },
    {
     "data": {
      "application/vnd.jupyter.widget-view+json": {
       "model_id": "5b3b5295f1d0445eaac0701a8eea70d9",
       "version_major": 2,
       "version_minor": 0
      },
      "text/plain": [
       "Validation: 0it [00:00, ?it/s]"
      ]
     },
     "metadata": {},
     "output_type": "display_data"
    },
    {
     "data": {
      "application/vnd.jupyter.widget-view+json": {
       "model_id": "093a6b24855147418459a205ac295d3e",
       "version_major": 2,
       "version_minor": 0
      },
      "text/plain": [
       "Validation: 0it [00:00, ?it/s]"
      ]
     },
     "metadata": {},
     "output_type": "display_data"
    },
    {
     "data": {
      "application/vnd.jupyter.widget-view+json": {
       "model_id": "34e6289ac696435a8f2867b74d316111",
       "version_major": 2,
       "version_minor": 0
      },
      "text/plain": [
       "Validation: 0it [00:00, ?it/s]"
      ]
     },
     "metadata": {},
     "output_type": "display_data"
    },
    {
     "data": {
      "application/vnd.jupyter.widget-view+json": {
       "model_id": "d0095f63ba1e432f8fa8bf9603b148b2",
       "version_major": 2,
       "version_minor": 0
      },
      "text/plain": [
       "Validation: 0it [00:00, ?it/s]"
      ]
     },
     "metadata": {},
     "output_type": "display_data"
    },
    {
     "data": {
      "application/vnd.jupyter.widget-view+json": {
       "model_id": "19c49f2d5cc3425bbd240d39c76ab248",
       "version_major": 2,
       "version_minor": 0
      },
      "text/plain": [
       "Validation: 0it [00:00, ?it/s]"
      ]
     },
     "metadata": {},
     "output_type": "display_data"
    },
    {
     "data": {
      "application/vnd.jupyter.widget-view+json": {
       "model_id": "bf5e71d8e28848ac91b2edb7ac7193ba",
       "version_major": 2,
       "version_minor": 0
      },
      "text/plain": [
       "Validation: 0it [00:00, ?it/s]"
      ]
     },
     "metadata": {},
     "output_type": "display_data"
    },
    {
     "data": {
      "application/vnd.jupyter.widget-view+json": {
       "model_id": "84deb37cd3f645a986282fc0141f27bb",
       "version_major": 2,
       "version_minor": 0
      },
      "text/plain": [
       "Validation: 0it [00:00, ?it/s]"
      ]
     },
     "metadata": {},
     "output_type": "display_data"
    },
    {
     "data": {
      "application/vnd.jupyter.widget-view+json": {
       "model_id": "b9b326615b5943b79a285e1134b24e5b",
       "version_major": 2,
       "version_minor": 0
      },
      "text/plain": [
       "Validation: 0it [00:00, ?it/s]"
      ]
     },
     "metadata": {},
     "output_type": "display_data"
    },
    {
     "data": {
      "application/vnd.jupyter.widget-view+json": {
       "model_id": "208dfc0f0e5e4b96a808d3a071c6538b",
       "version_major": 2,
       "version_minor": 0
      },
      "text/plain": [
       "Validation: 0it [00:00, ?it/s]"
      ]
     },
     "metadata": {},
     "output_type": "display_data"
    },
    {
     "data": {
      "application/vnd.jupyter.widget-view+json": {
       "model_id": "6f7087569bb2438c9ab1fe36d9ce845e",
       "version_major": 2,
       "version_minor": 0
      },
      "text/plain": [
       "Validation: 0it [00:00, ?it/s]"
      ]
     },
     "metadata": {},
     "output_type": "display_data"
    },
    {
     "data": {
      "application/vnd.jupyter.widget-view+json": {
       "model_id": "e1779c57f97f44b19dce14f59da3b842",
       "version_major": 2,
       "version_minor": 0
      },
      "text/plain": [
       "Validation: 0it [00:00, ?it/s]"
      ]
     },
     "metadata": {},
     "output_type": "display_data"
    },
    {
     "data": {
      "application/vnd.jupyter.widget-view+json": {
       "model_id": "4d7a7726fe3e4815998974af08683310",
       "version_major": 2,
       "version_minor": 0
      },
      "text/plain": [
       "Validation: 0it [00:00, ?it/s]"
      ]
     },
     "metadata": {},
     "output_type": "display_data"
    },
    {
     "data": {
      "application/vnd.jupyter.widget-view+json": {
       "model_id": "20b20d2a9ea848498fc57bed286895bf",
       "version_major": 2,
       "version_minor": 0
      },
      "text/plain": [
       "Validation: 0it [00:00, ?it/s]"
      ]
     },
     "metadata": {},
     "output_type": "display_data"
    },
    {
     "data": {
      "application/vnd.jupyter.widget-view+json": {
       "model_id": "5e4883019ab346b39369008db66c4153",
       "version_major": 2,
       "version_minor": 0
      },
      "text/plain": [
       "Validation: 0it [00:00, ?it/s]"
      ]
     },
     "metadata": {},
     "output_type": "display_data"
    },
    {
     "data": {
      "application/vnd.jupyter.widget-view+json": {
       "model_id": "5dfa5d2b2a304b9789aeacd42fbece4f",
       "version_major": 2,
       "version_minor": 0
      },
      "text/plain": [
       "Validation: 0it [00:00, ?it/s]"
      ]
     },
     "metadata": {},
     "output_type": "display_data"
    },
    {
     "data": {
      "application/vnd.jupyter.widget-view+json": {
       "model_id": "25a24a9b66794e4fb287c66d1e39f756",
       "version_major": 2,
       "version_minor": 0
      },
      "text/plain": [
       "Validation: 0it [00:00, ?it/s]"
      ]
     },
     "metadata": {},
     "output_type": "display_data"
    },
    {
     "data": {
      "application/vnd.jupyter.widget-view+json": {
       "model_id": "f073709b31f94d0285db490c4759a2a1",
       "version_major": 2,
       "version_minor": 0
      },
      "text/plain": [
       "Validation: 0it [00:00, ?it/s]"
      ]
     },
     "metadata": {},
     "output_type": "display_data"
    },
    {
     "data": {
      "application/vnd.jupyter.widget-view+json": {
       "model_id": "e1059b913a174e0dbda60123ec5d2166",
       "version_major": 2,
       "version_minor": 0
      },
      "text/plain": [
       "Validation: 0it [00:00, ?it/s]"
      ]
     },
     "metadata": {},
     "output_type": "display_data"
    },
    {
     "data": {
      "application/vnd.jupyter.widget-view+json": {
       "model_id": "567be47e7b2c4fd0921b3c0b4f43d0b3",
       "version_major": 2,
       "version_minor": 0
      },
      "text/plain": [
       "Validation: 0it [00:00, ?it/s]"
      ]
     },
     "metadata": {},
     "output_type": "display_data"
    },
    {
     "data": {
      "application/vnd.jupyter.widget-view+json": {
       "model_id": "361207d7c71b47758197e840d77c7d5c",
       "version_major": 2,
       "version_minor": 0
      },
      "text/plain": [
       "Validation: 0it [00:00, ?it/s]"
      ]
     },
     "metadata": {},
     "output_type": "display_data"
    },
    {
     "data": {
      "application/vnd.jupyter.widget-view+json": {
       "model_id": "e5152208980c400fb9166373b51b9bb5",
       "version_major": 2,
       "version_minor": 0
      },
      "text/plain": [
       "Validation: 0it [00:00, ?it/s]"
      ]
     },
     "metadata": {},
     "output_type": "display_data"
    },
    {
     "data": {
      "application/vnd.jupyter.widget-view+json": {
       "model_id": "ef704682df68410394da4f3ecac9f8c9",
       "version_major": 2,
       "version_minor": 0
      },
      "text/plain": [
       "Validation: 0it [00:00, ?it/s]"
      ]
     },
     "metadata": {},
     "output_type": "display_data"
    },
    {
     "data": {
      "application/vnd.jupyter.widget-view+json": {
       "model_id": "0c0cecfd7d4142178d8c889fc0b25a6d",
       "version_major": 2,
       "version_minor": 0
      },
      "text/plain": [
       "Validation: 0it [00:00, ?it/s]"
      ]
     },
     "metadata": {},
     "output_type": "display_data"
    },
    {
     "data": {
      "application/vnd.jupyter.widget-view+json": {
       "model_id": "d1dd645f88db425b9fb6ad93b7f89c6a",
       "version_major": 2,
       "version_minor": 0
      },
      "text/plain": [
       "Validation: 0it [00:00, ?it/s]"
      ]
     },
     "metadata": {},
     "output_type": "display_data"
    },
    {
     "data": {
      "application/vnd.jupyter.widget-view+json": {
       "model_id": "49f9660579d64ff9bb14e5d9eb7ce60a",
       "version_major": 2,
       "version_minor": 0
      },
      "text/plain": [
       "Validation: 0it [00:00, ?it/s]"
      ]
     },
     "metadata": {},
     "output_type": "display_data"
    },
    {
     "data": {
      "application/vnd.jupyter.widget-view+json": {
       "model_id": "d5f1fb43f0694362a78e31b8672f0e31",
       "version_major": 2,
       "version_minor": 0
      },
      "text/plain": [
       "Validation: 0it [00:00, ?it/s]"
      ]
     },
     "metadata": {},
     "output_type": "display_data"
    },
    {
     "data": {
      "application/vnd.jupyter.widget-view+json": {
       "model_id": "65f14520710a401d99fcc2595d4ca719",
       "version_major": 2,
       "version_minor": 0
      },
      "text/plain": [
       "Validation: 0it [00:00, ?it/s]"
      ]
     },
     "metadata": {},
     "output_type": "display_data"
    },
    {
     "data": {
      "application/vnd.jupyter.widget-view+json": {
       "model_id": "7309188ffb4f461d9f33fd33bc777d62",
       "version_major": 2,
       "version_minor": 0
      },
      "text/plain": [
       "Validation: 0it [00:00, ?it/s]"
      ]
     },
     "metadata": {},
     "output_type": "display_data"
    },
    {
     "data": {
      "application/vnd.jupyter.widget-view+json": {
       "model_id": "6e9fbdaf911b4716acd544287619b28c",
       "version_major": 2,
       "version_minor": 0
      },
      "text/plain": [
       "Validation: 0it [00:00, ?it/s]"
      ]
     },
     "metadata": {},
     "output_type": "display_data"
    },
    {
     "data": {
      "application/vnd.jupyter.widget-view+json": {
       "model_id": "4dfec1992f7b413eb5de290fa389a460",
       "version_major": 2,
       "version_minor": 0
      },
      "text/plain": [
       "Validation: 0it [00:00, ?it/s]"
      ]
     },
     "metadata": {},
     "output_type": "display_data"
    },
    {
     "data": {
      "application/vnd.jupyter.widget-view+json": {
       "model_id": "e0db3c6e36e24ab58480fdbd5a0129ab",
       "version_major": 2,
       "version_minor": 0
      },
      "text/plain": [
       "Validation: 0it [00:00, ?it/s]"
      ]
     },
     "metadata": {},
     "output_type": "display_data"
    },
    {
     "data": {
      "application/vnd.jupyter.widget-view+json": {
       "model_id": "ded094ac22b44ce79d3c8bad42810654",
       "version_major": 2,
       "version_minor": 0
      },
      "text/plain": [
       "Validation: 0it [00:00, ?it/s]"
      ]
     },
     "metadata": {},
     "output_type": "display_data"
    },
    {
     "data": {
      "application/vnd.jupyter.widget-view+json": {
       "model_id": "74170938e13b44f49543c4db028408ec",
       "version_major": 2,
       "version_minor": 0
      },
      "text/plain": [
       "Validation: 0it [00:00, ?it/s]"
      ]
     },
     "metadata": {},
     "output_type": "display_data"
    },
    {
     "data": {
      "application/vnd.jupyter.widget-view+json": {
       "model_id": "aca5d2fcae864890800803a18f9bd6cf",
       "version_major": 2,
       "version_minor": 0
      },
      "text/plain": [
       "Validation: 0it [00:00, ?it/s]"
      ]
     },
     "metadata": {},
     "output_type": "display_data"
    },
    {
     "data": {
      "application/vnd.jupyter.widget-view+json": {
       "model_id": "88128c611a664c6cb03e3901f2a407d8",
       "version_major": 2,
       "version_minor": 0
      },
      "text/plain": [
       "Validation: 0it [00:00, ?it/s]"
      ]
     },
     "metadata": {},
     "output_type": "display_data"
    },
    {
     "data": {
      "application/vnd.jupyter.widget-view+json": {
       "model_id": "88640ea7182f4cfcbe573db3ae036350",
       "version_major": 2,
       "version_minor": 0
      },
      "text/plain": [
       "Validation: 0it [00:00, ?it/s]"
      ]
     },
     "metadata": {},
     "output_type": "display_data"
    },
    {
     "data": {
      "application/vnd.jupyter.widget-view+json": {
       "model_id": "c34ae1503b7e4f3a897e2ae4f8be08e5",
       "version_major": 2,
       "version_minor": 0
      },
      "text/plain": [
       "Validation: 0it [00:00, ?it/s]"
      ]
     },
     "metadata": {},
     "output_type": "display_data"
    },
    {
     "data": {
      "application/vnd.jupyter.widget-view+json": {
       "model_id": "57912ec4417d47f6996cb61e1414f4db",
       "version_major": 2,
       "version_minor": 0
      },
      "text/plain": [
       "Validation: 0it [00:00, ?it/s]"
      ]
     },
     "metadata": {},
     "output_type": "display_data"
    },
    {
     "data": {
      "application/vnd.jupyter.widget-view+json": {
       "model_id": "73306edf713a48fb9da76e8c3978a6fe",
       "version_major": 2,
       "version_minor": 0
      },
      "text/plain": [
       "Validation: 0it [00:00, ?it/s]"
      ]
     },
     "metadata": {},
     "output_type": "display_data"
    },
    {
     "data": {
      "application/vnd.jupyter.widget-view+json": {
       "model_id": "27470c023516440888a5e4eb2e73718b",
       "version_major": 2,
       "version_minor": 0
      },
      "text/plain": [
       "Validation: 0it [00:00, ?it/s]"
      ]
     },
     "metadata": {},
     "output_type": "display_data"
    },
    {
     "data": {
      "application/vnd.jupyter.widget-view+json": {
       "model_id": "df805b42144e459eb8695fcbbf45fe16",
       "version_major": 2,
       "version_minor": 0
      },
      "text/plain": [
       "Validation: 0it [00:00, ?it/s]"
      ]
     },
     "metadata": {},
     "output_type": "display_data"
    },
    {
     "data": {
      "application/vnd.jupyter.widget-view+json": {
       "model_id": "674536ad5df74b6a8c2e67eaa0381330",
       "version_major": 2,
       "version_minor": 0
      },
      "text/plain": [
       "Validation: 0it [00:00, ?it/s]"
      ]
     },
     "metadata": {},
     "output_type": "display_data"
    },
    {
     "data": {
      "application/vnd.jupyter.widget-view+json": {
       "model_id": "98793dd6083f42f4b5c17026f99ac401",
       "version_major": 2,
       "version_minor": 0
      },
      "text/plain": [
       "Validation: 0it [00:00, ?it/s]"
      ]
     },
     "metadata": {},
     "output_type": "display_data"
    },
    {
     "data": {
      "application/vnd.jupyter.widget-view+json": {
       "model_id": "cd5787bde7224f019696515784cb608a",
       "version_major": 2,
       "version_minor": 0
      },
      "text/plain": [
       "Validation: 0it [00:00, ?it/s]"
      ]
     },
     "metadata": {},
     "output_type": "display_data"
    },
    {
     "data": {
      "application/vnd.jupyter.widget-view+json": {
       "model_id": "1c9890566c474e02bd75725a2b4919eb",
       "version_major": 2,
       "version_minor": 0
      },
      "text/plain": [
       "Validation: 0it [00:00, ?it/s]"
      ]
     },
     "metadata": {},
     "output_type": "display_data"
    },
    {
     "data": {
      "application/vnd.jupyter.widget-view+json": {
       "model_id": "99dfdbab926b49cc91c60adc9adda846",
       "version_major": 2,
       "version_minor": 0
      },
      "text/plain": [
       "Validation: 0it [00:00, ?it/s]"
      ]
     },
     "metadata": {},
     "output_type": "display_data"
    },
    {
     "data": {
      "application/vnd.jupyter.widget-view+json": {
       "model_id": "85653645cde84f1da88cc001c394c540",
       "version_major": 2,
       "version_minor": 0
      },
      "text/plain": [
       "Validation: 0it [00:00, ?it/s]"
      ]
     },
     "metadata": {},
     "output_type": "display_data"
    },
    {
     "data": {
      "application/vnd.jupyter.widget-view+json": {
       "model_id": "b625576046a34f3fa862c55849f15fd8",
       "version_major": 2,
       "version_minor": 0
      },
      "text/plain": [
       "Validation: 0it [00:00, ?it/s]"
      ]
     },
     "metadata": {},
     "output_type": "display_data"
    },
    {
     "name": "stderr",
     "output_type": "stream",
     "text": [
      "`Trainer.fit` stopped: `max_epochs=100` reached.\n",
      "LOCAL_RANK: 0 - CUDA_VISIBLE_DEVICES: [0,1,2,3]\n",
      "/global/homes/w/wenxu/.conda/envs/CRNs/lib/python3.8/site-packages/pytorch_lightning/trainer/connectors/data_connector.py:224: PossibleUserWarning: The dataloader, test_dataloader 0, does not have many workers which may be a bottleneck. Consider increasing the value of the `num_workers` argument` (try 128 which is the number of cpus on this machine) in the `DataLoader` init to improve performance.\n",
      "  rank_zero_warn(\n"
     ]
    },
    {
     "data": {
      "application/vnd.jupyter.widget-view+json": {
       "model_id": "1ea1755ae09342a3854393b1905b8acb",
       "version_major": 2,
       "version_minor": 0
      },
      "text/plain": [
       "Testing: 0it [00:00, ?it/s]"
      ]
     },
     "metadata": {},
     "output_type": "display_data"
    },
    {
     "name": "stdout",
     "output_type": "stream",
     "text": [
      "────────────────────────────────────────────────────────────────────────────────────────────────────────────────────────\n",
      "       Test metric             DataLoader 0\n",
      "────────────────────────────────────────────────────────────────────────────────────────────────────────────────────────\n",
      "         test_l1             0.467753142118454\n",
      "        test_loss           0.4864932596683502\n",
      "         test_r2            0.09335166215896606\n",
      "────────────────────────────────────────────────────────────────────────────────────────────────────────────────────────\n"
     ]
    },
    {
     "data": {
      "text/html": [
       "Waiting for W&B process to finish... <strong style=\"color:green\">(success).</strong>"
      ],
      "text/plain": [
       "<IPython.core.display.HTML object>"
      ]
     },
     "metadata": {},
     "output_type": "display_data"
    },
    {
     "data": {
      "text/html": [
       "<style>\n",
       "    table.wandb td:nth-child(1) { padding: 0 10px; text-align: left ; width: auto;} td:nth-child(2) {text-align: left ; width: 100%}\n",
       "    .wandb-row { display: flex; flex-direction: row; flex-wrap: wrap; justify-content: flex-start; width: 100% }\n",
       "    .wandb-col { display: flex; flex-direction: column; flex-basis: 100%; flex: 1; padding: 10px; }\n",
       "    </style>\n",
       "<div class=\"wandb-row\"><div class=\"wandb-col\"><h3>Run history:</h3><br/><table class=\"wandb\"><tr><td>epoch</td><td>▁▁▁▁▂▂▂▂▂▃▃▃▃▃▃▄▄▄▄▄▅▅▅▅▅▅▆▆▆▆▆▇▇▇▇▇▇███</td></tr><tr><td>lr-Adam</td><td>███▁▁▁</td></tr><tr><td>test_l1</td><td>▁</td></tr><tr><td>test_loss</td><td>▁</td></tr><tr><td>test_r2</td><td>▁</td></tr><tr><td>train_l1</td><td>▅█▃▃▃▃▃▃▃▃▃▂▂▂▂▂▂▁▂▁▂▂▂▂▂▁▂▁▁▁▁▁▁▁▁▁▁▁▁▁</td></tr><tr><td>train_loss</td><td>▄█▃▃▂▂▂▂▂▂▂▂▂▂▂▂▁▁▁▁▁▁▁▁▁▁▁▁▁▁▁▁▁▁▁▁▁▁▁▁</td></tr><tr><td>train_r2</td><td>▁▇▆▇▇▇▇▇▇▇▇█▇███████████████████████████</td></tr><tr><td>trainer/global_step</td><td>▁▁▁▁▂▂▂▂▂▃▃▃▃▃▄▄▄▄▄▄▅▅▅▅▅▆▆▆▆▆▆▇▇▇▇▇████</td></tr><tr><td>val_l1</td><td>█▂▁▁▁▁▁▁▁▁▁▁▂▂▂▂▂▂▂▂▂▂▂▂▂▂▂▂▂▂▂▂▂▂▂▂▂▂▂▂</td></tr><tr><td>val_loss</td><td>█▃▁▁▁▁▁▁▁▁▁▁▁▁▁▁▁▁▁▁▁▁▁▁▁▁▁▁▁▁▁▁▁▁▁▁▁▁▁▁</td></tr><tr><td>val_r2</td><td>▆█▇█▇▇█▁▄▆▅▇▅▆▆▇▆▇████▇▇████████████▇███</td></tr></table><br/></div><div class=\"wandb-col\"><h3>Run summary:</h3><br/><table class=\"wandb\"><tr><td>epoch</td><td>100</td></tr><tr><td>lr-Adam</td><td>0.0012</td></tr><tr><td>test_l1</td><td>0.46775</td></tr><tr><td>test_loss</td><td>0.48649</td></tr><tr><td>test_r2</td><td>0.09335</td></tr><tr><td>train_l1</td><td>0.3728</td></tr><tr><td>train_loss</td><td>0.26074</td></tr><tr><td>train_r2</td><td>0.75607</td></tr><tr><td>trainer/global_step</td><td>100</td></tr><tr><td>val_l1</td><td>0.85522</td></tr><tr><td>val_loss</td><td>0.79585</td></tr><tr><td>val_r2</td><td>-0.8374</td></tr></table><br/></div></div>"
      ],
      "text/plain": [
       "<IPython.core.display.HTML object>"
      ]
     },
     "metadata": {},
     "output_type": "display_data"
    },
    {
     "data": {
      "text/html": [
       "You can sync this run to the cloud by running:<br/><code>wandb sync /pscratch/sd/w/wenxu/jobs/CRNs/notebook/wandb/offline-run-20230626_201907-w9tyhr4v<code>"
      ],
      "text/plain": [
       "<IPython.core.display.HTML object>"
      ]
     },
     "metadata": {},
     "output_type": "display_data"
    },
    {
     "data": {
      "text/html": [
       "Find logs at: <code>./wandb/offline-run-20230626_201907-w9tyhr4v/logs</code>"
      ],
      "text/plain": [
       "<IPython.core.display.HTML object>"
      ]
     },
     "metadata": {},
     "output_type": "display_data"
    },
    {
     "data": {
      "image/png": "[encoded data removed]",
      "text/plain": [
       "<Figure size 640x480 with 1 Axes>"
      ]
     },
     "metadata": {},
     "output_type": "display_data"
    }
   ],
   "source": [
    "project_name = \"test\"\n",
    "with wandb.init(project=project_name\n",
    "               ) as run:\n",
    "    log_parameters = LogParameters()\n",
    "    logger_tb = TensorBoardLogger(log_save_dir, name=\"test_logs\")\n",
    "    logger_wb = WandbLogger(project=project_name, name=\"test_logs\")\n",
    "    lr_monitor = LearningRateMonitor(logging_interval=\"step\")\n",
    "\n",
    "    checkpoint_callback = ModelCheckpoint(\n",
    "        dirpath=log_save_dir,\n",
    "        filename=\"model_lightning_{epoch:02d}-{val_loss:.2f}\",\n",
    "        monitor=\"val_loss\",  # TODO\n",
    "        mode=\"min\",\n",
    "        auto_insert_metric_name=True,\n",
    "        save_last=True,\n",
    "    )\n",
    "    early_stopping_callback = EarlyStopping(\n",
    "        monitor=\"val_loss\", min_delta=0.00, patience=500, verbose=False, mode=\"min\"\n",
    "    )\n",
    "\n",
    "    trainer = pl.Trainer(\n",
    "        max_epochs=config[\"max_epochs\"],\n",
    "        accelerator=\"gpu\",\n",
    "        devices=[0],\n",
    "        accumulate_grad_batches=5,\n",
    "        enable_progress_bar=True,\n",
    "        gradient_clip_val=1.0,\n",
    "        callbacks=[\n",
    "            early_stopping_callback,\n",
    "            lr_monitor,\n",
    "            log_parameters,\n",
    "            checkpoint_callback,\n",
    "        ],\n",
    "        enable_checkpointing=True,\n",
    "        default_root_dir=log_save_dir,\n",
    "        logger=[logger_tb, logger_wb],\n",
    "        precision=precision,\n",
    "    )\n",
    "\n",
    "    trainer.fit(model, train_loader, val_loader)\n",
    "    trainer.test(model, test_loader)\n",
    "\n",
    "run.finish()"
   ]
  },
  {
   "cell_type": "code",
   "execution_count": null,
   "id": "dacb631c-6da4-4dde-b764-d95b18caff81",
   "metadata": {},
   "outputs": [],
   "source": []
  }
 ],
 "metadata": {
  "kernelspec": {
   "display_name": "CRNs",
   "language": "python",
   "name": "crns"
  },
  "language_info": {
   "codemirror_mode": {
    "name": "ipython",
    "version": 3
   },
   "file_extension": ".py",
   "mimetype": "text/x-python",
   "name": "python",
   "nbconvert_exporter": "python",
   "pygments_lexer": "ipython3",
   "version": "3.8.16"
  }
 },
 "nbformat": 4,
 "nbformat_minor": 5
}
