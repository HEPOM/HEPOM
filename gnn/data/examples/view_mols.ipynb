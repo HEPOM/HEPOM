{
 "cells": [
  {
   "cell_type": "code",
   "execution_count": 1,
   "metadata": {},
   "outputs": [],
   "source": [
    "from gnn.utils import pickle_load\n",
    "from crystal_toolkit.helpers.pythreejs_renderer import view"
   ]
  },
  {
   "cell_type": "code",
   "execution_count": 2,
   "metadata": {},
   "outputs": [],
   "source": [
    "def view_all(filename,N=None):\n",
    "    mols = pickle_load(filename)\n",
    "    if N is None:\n",
    "        m_all = mols\n",
    "    elif isinstance(N, tuple):\n",
    "        m_all = mols[N[0]:N[1]]\n",
    "    else:\n",
    "        m_all = mols[N:N+1]\n",
    "    for i,m in enumerate(m_all):\n",
    "        print(i, m.id)\n",
    "        view(m.mol_graph)"
   ]
  },
  {
   "cell_type": "code",
   "execution_count": 7,
   "metadata": {},
   "outputs": [
    {
     "name": "stdout",
     "output_type": "stream",
     "text": [
      "0 5e2a06358eab11f1fa10ae25\n"
     ]
    },
    {
     "data": {
      "application/vnd.jupyter.widget-view+json": {
       "model_id": "a009272b987c49cd8995cf8e9ab3552a",
       "version_major": 2,
       "version_minor": 0
      },
      "text/plain": [
       "Renderer(background='white', camera=OrthographicCamera(bottom=-3.4044663088800005, left=-3.4044663088800005, n…"
      ]
     },
     "metadata": {},
     "output_type": "display_data"
    },
    {
     "name": "stdout",
     "output_type": "stream",
     "text": [
      "1 5e2a05dd8eab11f1fa107eb8\n"
     ]
    },
    {
     "data": {
      "application/vnd.jupyter.widget-view+json": {
       "model_id": "d156afd7dca64394ba7e34c12fb2c945",
       "version_major": 2,
       "version_minor": 0
      },
      "text/plain": [
       "Renderer(background='white', camera=OrthographicCamera(bottom=-4.65485936292, left=-4.65485936292, near=-2000.…"
      ]
     },
     "metadata": {},
     "output_type": "display_data"
    },
    {
     "name": "stdout",
     "output_type": "stream",
     "text": [
      "2 5e2a05dd8eab11f1fa107eb2\n"
     ]
    },
    {
     "data": {
      "application/vnd.jupyter.widget-view+json": {
       "model_id": "bcfef66052f34f0b97a75f34e37ce81d",
       "version_major": 2,
       "version_minor": 0
      },
      "text/plain": [
       "Renderer(background='white', camera=OrthographicCamera(bottom=-4.498583322119999, left=-4.498583322119999, nea…"
      ]
     },
     "metadata": {},
     "output_type": "display_data"
    },
    {
     "name": "stdout",
     "output_type": "stream",
     "text": [
      "3 5e2a061d8eab11f1fa10a128\n"
     ]
    },
    {
     "data": {
      "application/vnd.jupyter.widget-view+json": {
       "model_id": "3d5c6dd849564edea2786ff13a3bbf17",
       "version_major": 2,
       "version_minor": 0
      },
      "text/plain": [
       "Renderer(background='white', camera=OrthographicCamera(bottom=-3.13398350412, left=-3.13398350412, near=-2000.…"
      ]
     },
     "metadata": {},
     "output_type": "display_data"
    },
    {
     "name": "stdout",
     "output_type": "stream",
     "text": [
      "4 5e2a05b18eab11f1fa106733\n"
     ]
    },
    {
     "data": {
      "application/vnd.jupyter.widget-view+json": {
       "model_id": "3e56ee7b589e44bca376fad338830446",
       "version_major": 2,
       "version_minor": 0
      },
      "text/plain": [
       "Renderer(background='white', camera=OrthographicCamera(bottom=-7.19601847596, left=-7.19601847596, near=-2000.…"
      ]
     },
     "metadata": {},
     "output_type": "display_data"
    },
    {
     "name": "stdout",
     "output_type": "stream",
     "text": [
      "5 5e2a06428eab11f1fa10b66b\n"
     ]
    },
    {
     "data": {
      "application/vnd.jupyter.widget-view+json": {
       "model_id": "dc1545e8c82d4d479cd77f5fe0998bd9",
       "version_major": 2,
       "version_minor": 0
      },
      "text/plain": [
       "Renderer(background='white', camera=OrthographicCamera(bottom=-7.07695434792, left=-7.07695434792, near=-2000.…"
      ]
     },
     "metadata": {},
     "output_type": "display_data"
    },
    {
     "name": "stdout",
     "output_type": "stream",
     "text": [
      "6 5e2a062f8eab11f1fa10aa45\n"
     ]
    },
    {
     "data": {
      "application/vnd.jupyter.widget-view+json": {
       "model_id": "8869e51affd24e0aa024fcd7eaffd254",
       "version_major": 2,
       "version_minor": 0
      },
      "text/plain": [
       "Renderer(background='white', camera=OrthographicCamera(bottom=-6.44468551068, left=-6.44468551068, near=-2000.…"
      ]
     },
     "metadata": {},
     "output_type": "display_data"
    },
    {
     "name": "stdout",
     "output_type": "stream",
     "text": [
      "7 5e2a05d38eab11f1fa107a1d\n"
     ]
    },
    {
     "data": {
      "application/vnd.jupyter.widget-view+json": {
       "model_id": "2c1b3f41dd5c4f1b99753567ace74ac6",
       "version_major": 2,
       "version_minor": 0
      },
      "text/plain": [
       "Renderer(background='white', camera=OrthographicCamera(bottom=-4.29398342748, left=-4.29398342748, near=-2000.…"
      ]
     },
     "metadata": {},
     "output_type": "display_data"
    },
    {
     "name": "stdout",
     "output_type": "stream",
     "text": [
      "8 5e2a05fd8eab11f1fa108ee3\n"
     ]
    },
    {
     "data": {
      "application/vnd.jupyter.widget-view+json": {
       "model_id": "c6e352aa80594708b5ae938912dde938",
       "version_major": 2,
       "version_minor": 0
      },
      "text/plain": [
       "Renderer(background='white', camera=OrthographicCamera(bottom=-3.50753364732, left=-3.50753364732, near=-2000.…"
      ]
     },
     "metadata": {},
     "output_type": "display_data"
    },
    {
     "name": "stdout",
     "output_type": "stream",
     "text": [
      "9 5e2a05fd8eab11f1fa108ee4\n"
     ]
    },
    {
     "data": {
      "application/vnd.jupyter.widget-view+json": {
       "model_id": "94ce313a9ddf44a4ba5cb989112e06c0",
       "version_major": 2,
       "version_minor": 0
      },
      "text/plain": [
       "Renderer(background='white', camera=OrthographicCamera(bottom=-3.5321177143199995, left=-3.5321177143199995, n…"
      ]
     },
     "metadata": {},
     "output_type": "display_data"
    },
    {
     "name": "stdout",
     "output_type": "stream",
     "text": [
      "10 5e2a05fd8eab11f1fa108ee8\n"
     ]
    },
    {
     "data": {
      "application/vnd.jupyter.widget-view+json": {
       "model_id": "3a9ff346f3764c7eaae83cc4a681cb87",
       "version_major": 2,
       "version_minor": 0
      },
      "text/plain": [
       "Renderer(background='white', camera=OrthographicCamera(bottom=-4.5283797539999995, left=-4.5283797539999995, n…"
      ]
     },
     "metadata": {},
     "output_type": "display_data"
    },
    {
     "name": "stdout",
     "output_type": "stream",
     "text": [
      "11 5e2a065e8eab11f1fa10c4e0\n"
     ]
    },
    {
     "data": {
      "application/vnd.jupyter.widget-view+json": {
       "model_id": "98676556fd13472481bd4433c2e2359a",
       "version_major": 2,
       "version_minor": 0
      },
      "text/plain": [
       "Renderer(background='white', camera=OrthographicCamera(bottom=-5.9717772066, left=-5.9717772066, near=-2000.0,…"
      ]
     },
     "metadata": {},
     "output_type": "display_data"
    },
    {
     "name": "stdout",
     "output_type": "stream",
     "text": [
      "12 5e2a065e8eab11f1fa10c4e1\n"
     ]
    },
    {
     "data": {
      "application/vnd.jupyter.widget-view+json": {
       "model_id": "074405a6f4204d1ca19001090572d02d",
       "version_major": 2,
       "version_minor": 0
      },
      "text/plain": [
       "Renderer(background='white', camera=OrthographicCamera(bottom=-6.58218367428, left=-6.58218367428, near=-2000.…"
      ]
     },
     "metadata": {},
     "output_type": "display_data"
    },
    {
     "name": "stdout",
     "output_type": "stream",
     "text": [
      "13 5e2a065e8eab11f1fa10c4e6\n"
     ]
    },
    {
     "data": {
      "application/vnd.jupyter.widget-view+json": {
       "model_id": "291e278cad414d72acf04f9aae32eac9",
       "version_major": 2,
       "version_minor": 0
      },
      "text/plain": [
       "Renderer(background='white', camera=OrthographicCamera(bottom=-5.1102831881999995, left=-5.1102831881999995, n…"
      ]
     },
     "metadata": {},
     "output_type": "display_data"
    },
    {
     "name": "stdout",
     "output_type": "stream",
     "text": [
      "14 5e2a065e8eab11f1fa10c4e8\n"
     ]
    },
    {
     "data": {
      "application/vnd.jupyter.widget-view+json": {
       "model_id": "a4daaf0ac414418bbab645ee7cae001f",
       "version_major": 2,
       "version_minor": 0
      },
      "text/plain": [
       "Renderer(background='white', camera=OrthographicCamera(bottom=-5.9918435063999995, left=-5.9918435063999995, n…"
      ]
     },
     "metadata": {},
     "output_type": "display_data"
    },
    {
     "name": "stdout",
     "output_type": "stream",
     "text": [
      "15 5e2a065a8eab11f1fa10c296\n"
     ]
    },
    {
     "data": {
      "application/vnd.jupyter.widget-view+json": {
       "model_id": "8994a465ad704934a7e8d17e79fe3f5c",
       "version_major": 2,
       "version_minor": 0
      },
      "text/plain": [
       "Renderer(background='white', camera=OrthographicCamera(bottom=-6.4102945986, left=-6.4102945986, near=-2000.0,…"
      ]
     },
     "metadata": {},
     "output_type": "display_data"
    },
    {
     "name": "stdout",
     "output_type": "stream",
     "text": [
      "16 5e2a064b8eab11f1fa10bb50\n"
     ]
    },
    {
     "data": {
      "application/vnd.jupyter.widget-view+json": {
       "model_id": "856b40ff35be4e98916b38a20ed9ee93",
       "version_major": 2,
       "version_minor": 0
      },
      "text/plain": [
       "Renderer(background='white', camera=OrthographicCamera(bottom=-4.070569159080001, left=-4.070569159080001, nea…"
      ]
     },
     "metadata": {},
     "output_type": "display_data"
    },
    {
     "name": "stdout",
     "output_type": "stream",
     "text": [
      "17 5e2a05a78eab11f1fa10614c\n"
     ]
    },
    {
     "data": {
      "application/vnd.jupyter.widget-view+json": {
       "model_id": "e104e38934354f2fa89c3f56bcf99fb3",
       "version_major": 2,
       "version_minor": 0
      },
      "text/plain": [
       "Renderer(background='white', camera=OrthographicCamera(bottom=-3.6667772863200003, left=-3.6667772863200003, n…"
      ]
     },
     "metadata": {},
     "output_type": "display_data"
    },
    {
     "name": "stdout",
     "output_type": "stream",
     "text": [
      "18 5e2a05a78eab11f1fa10614e\n"
     ]
    },
    {
     "data": {
      "application/vnd.jupyter.widget-view+json": {
       "model_id": "8793cdbaa13743cd8280957fd5710309",
       "version_major": 2,
       "version_minor": 0
      },
      "text/plain": [
       "Renderer(background='white', camera=OrthographicCamera(bottom=-3.8862724267199997, left=-3.8862724267199997, n…"
      ]
     },
     "metadata": {},
     "output_type": "display_data"
    },
    {
     "name": "stdout",
     "output_type": "stream",
     "text": [
      "19 5e2a05a78eab11f1fa10614f\n"
     ]
    },
    {
     "data": {
      "application/vnd.jupyter.widget-view+json": {
       "model_id": "1f79374ca51f4c86b35b65c0637c5c87",
       "version_major": 2,
       "version_minor": 0
      },
      "text/plain": [
       "Renderer(background='white', camera=OrthographicCamera(bottom=-7.87254575568, left=-7.87254575568, near=-2000.…"
      ]
     },
     "metadata": {},
     "output_type": "display_data"
    },
    {
     "name": "stdout",
     "output_type": "stream",
     "text": [
      "20 5e2a05a78eab11f1fa106150\n"
     ]
    },
    {
     "data": {
      "application/vnd.jupyter.widget-view+json": {
       "model_id": "fda7ea5ac6c74dfcb9bd8a4233221602",
       "version_major": 2,
       "version_minor": 0
      },
      "text/plain": [
       "Renderer(background='white', camera=OrthographicCamera(bottom=-4.3449733182, left=-4.3449733182, near=-2000.0,…"
      ]
     },
     "metadata": {},
     "output_type": "display_data"
    },
    {
     "name": "stdout",
     "output_type": "stream",
     "text": [
      "21 5e2a05a78eab11f1fa106153\n"
     ]
    },
    {
     "data": {
      "application/vnd.jupyter.widget-view+json": {
       "model_id": "d17f5a84abf644dd86011d460d9ea0bc",
       "version_major": 2,
       "version_minor": 0
      },
      "text/plain": [
       "Renderer(background='white', camera=OrthographicCamera(bottom=-6.569127590759999, left=-6.569127590759999, nea…"
      ]
     },
     "metadata": {},
     "output_type": "display_data"
    },
    {
     "name": "stdout",
     "output_type": "stream",
     "text": [
      "22 5e2a064e8eab11f1fa10bc2a\n"
     ]
    },
    {
     "data": {
      "application/vnd.jupyter.widget-view+json": {
       "model_id": "862273a20f6c4e0f80f65e4af03ee088",
       "version_major": 2,
       "version_minor": 0
      },
      "text/plain": [
       "Renderer(background='white', camera=OrthographicCamera(bottom=-3.1600989306, left=-3.1600989306, near=-2000.0,…"
      ]
     },
     "metadata": {},
     "output_type": "display_data"
    },
    {
     "name": "stdout",
     "output_type": "stream",
     "text": [
      "23 5e2a064f8eab11f1fa10bc3e\n"
     ]
    },
    {
     "data": {
      "application/vnd.jupyter.widget-view+json": {
       "model_id": "54e5bb2ef1864793a3d36c11e16acda0",
       "version_major": 2,
       "version_minor": 0
      },
      "text/plain": [
       "Renderer(background='white', camera=OrthographicCamera(bottom=-4.77466840896, left=-4.77466840896, near=-2000.…"
      ]
     },
     "metadata": {},
     "output_type": "display_data"
    },
    {
     "name": "stdout",
     "output_type": "stream",
     "text": [
      "24 5e2a05908eab11f1fa10550a\n"
     ]
    },
    {
     "data": {
      "application/vnd.jupyter.widget-view+json": {
       "model_id": "403a9557f01f4fb0b1f8cd746895dd04",
       "version_major": 2,
       "version_minor": 0
      },
      "text/plain": [
       "Renderer(background='white', camera=OrthographicCamera(bottom=-6.367768260839999, left=-6.367768260839999, nea…"
      ]
     },
     "metadata": {},
     "output_type": "display_data"
    },
    {
     "name": "stdout",
     "output_type": "stream",
     "text": [
      "25 5e2a05e68eab11f1fa108413\n"
     ]
    },
    {
     "data": {
      "application/vnd.jupyter.widget-view+json": {
       "model_id": "b05bfada8cf342678a2a3e9f0e8f3344",
       "version_major": 2,
       "version_minor": 0
      },
      "text/plain": [
       "Renderer(background='white', camera=OrthographicCamera(bottom=-5.05560189492, left=-5.05560189492, near=-2000.…"
      ]
     },
     "metadata": {},
     "output_type": "display_data"
    },
    {
     "name": "stdout",
     "output_type": "stream",
     "text": [
      "26 5e2a063d8eab11f1fa10b30a\n"
     ]
    },
    {
     "data": {
      "application/vnd.jupyter.widget-view+json": {
       "model_id": "344a989f74124e3f8bb6b0671b9d756b",
       "version_major": 2,
       "version_minor": 0
      },
      "text/plain": [
       "Renderer(background='white', camera=OrthographicCamera(bottom=-3.50774265144, left=-3.50774265144, near=-2000.…"
      ]
     },
     "metadata": {},
     "output_type": "display_data"
    },
    {
     "name": "stdout",
     "output_type": "stream",
     "text": [
      "27 5e2a064f8eab11f1fa10bcb2\n"
     ]
    },
    {
     "data": {
      "application/vnd.jupyter.widget-view+json": {
       "model_id": "25b020d38f19401f80c202d6971b4b38",
       "version_major": 2,
       "version_minor": 0
      },
      "text/plain": [
       "Renderer(background='white', camera=OrthographicCamera(bottom=-5.277881176079999, left=-5.277881176079999, nea…"
      ]
     },
     "metadata": {},
     "output_type": "display_data"
    },
    {
     "name": "stdout",
     "output_type": "stream",
     "text": [
      "28 5e2a064f8eab11f1fa10bcb5\n"
     ]
    },
    {
     "data": {
      "application/vnd.jupyter.widget-view+json": {
       "model_id": "1a4e010d89cb4f5b8ab01cdcbc7da3ca",
       "version_major": 2,
       "version_minor": 0
      },
      "text/plain": [
       "Renderer(background='white', camera=OrthographicCamera(bottom=-4.2423107585999995, left=-4.2423107585999995, n…"
      ]
     },
     "metadata": {},
     "output_type": "display_data"
    },
    {
     "name": "stdout",
     "output_type": "stream",
     "text": [
      "29 5e2a06198eab11f1fa109e75\n"
     ]
    },
    {
     "data": {
      "application/vnd.jupyter.widget-view+json": {
       "model_id": "c5a28bb7a0674be685d704e5910e78fe",
       "version_major": 2,
       "version_minor": 0
      },
      "text/plain": [
       "Renderer(background='white', camera=OrthographicCamera(bottom=-4.30855351788, left=-4.30855351788, near=-2000.…"
      ]
     },
     "metadata": {},
     "output_type": "display_data"
    },
    {
     "name": "stdout",
     "output_type": "stream",
     "text": [
      "30 5e2a06678eab11f1fa10ca0d\n"
     ]
    },
    {
     "data": {
      "application/vnd.jupyter.widget-view+json": {
       "model_id": "71f685a222af47b5a1efa47d7175fda8",
       "version_major": 2,
       "version_minor": 0
      },
      "text/plain": [
       "Renderer(background='white', camera=OrthographicCamera(bottom=-6.469668787080001, left=-6.469668787080001, nea…"
      ]
     },
     "metadata": {},
     "output_type": "display_data"
    },
    {
     "name": "stdout",
     "output_type": "stream",
     "text": [
      "31 5e2a06678eab11f1fa10ca01\n"
     ]
    },
    {
     "data": {
      "application/vnd.jupyter.widget-view+json": {
       "model_id": "2761f4e318b446a487901394a932b04a",
       "version_major": 2,
       "version_minor": 0
      },
      "text/plain": [
       "Renderer(background='white', camera=OrthographicCamera(bottom=-4.62863691516, left=-4.62863691516, near=-2000.…"
      ]
     },
     "metadata": {},
     "output_type": "display_data"
    },
    {
     "name": "stdout",
     "output_type": "stream",
     "text": [
      "32 5e2a06678eab11f1fa10ca08\n"
     ]
    },
    {
     "data": {
      "application/vnd.jupyter.widget-view+json": {
       "model_id": "e45fbb18a1c34bfa83c4069ea0b94ff8",
       "version_major": 2,
       "version_minor": 0
      },
      "text/plain": [
       "Renderer(background='white', camera=OrthographicCamera(bottom=-4.5885036924, left=-4.5885036924, near=-2000.0,…"
      ]
     },
     "metadata": {},
     "output_type": "display_data"
    },
    {
     "name": "stdout",
     "output_type": "stream",
     "text": [
      "33 5e2a05fc8eab11f1fa108e60\n"
     ]
    },
    {
     "data": {
      "application/vnd.jupyter.widget-view+json": {
       "model_id": "2a0dea9786cb40a6b3bcdfe38c479205",
       "version_major": 2,
       "version_minor": 0
      },
      "text/plain": [
       "Renderer(background='white', camera=OrthographicCamera(bottom=-3.4114594227599997, left=-3.4114594227599997, n…"
      ]
     },
     "metadata": {},
     "output_type": "display_data"
    },
    {
     "name": "stdout",
     "output_type": "stream",
     "text": [
      "34 5e2a06108eab11f1fa109922\n"
     ]
    },
    {
     "data": {
      "application/vnd.jupyter.widget-view+json": {
       "model_id": "48fb34a06b214a869ceff9ae5f04ae99",
       "version_major": 2,
       "version_minor": 0
      },
      "text/plain": [
       "Renderer(background='white', camera=OrthographicCamera(bottom=-5.4104012634, left=-5.4104012634, near=-2000.0,…"
      ]
     },
     "metadata": {},
     "output_type": "display_data"
    },
    {
     "name": "stdout",
     "output_type": "stream",
     "text": [
      "35 5e2a06108eab11f1fa109923\n"
     ]
    },
    {
     "data": {
      "application/vnd.jupyter.widget-view+json": {
       "model_id": "a328f76a62ee45c2a71229448ee22276",
       "version_major": 2,
       "version_minor": 0
      },
      "text/plain": [
       "Renderer(background='white', camera=OrthographicCamera(bottom=-5.46326833992, left=-5.46326833992, near=-2000.…"
      ]
     },
     "metadata": {},
     "output_type": "display_data"
    },
    {
     "name": "stdout",
     "output_type": "stream",
     "text": [
      "36 5e2a06228eab11f1fa10a3d4\n"
     ]
    },
    {
     "data": {
      "application/vnd.jupyter.widget-view+json": {
       "model_id": "efca7846b1e6409d8e925cfea76044e6",
       "version_major": 2,
       "version_minor": 0
      },
      "text/plain": [
       "Renderer(background='white', camera=OrthographicCamera(bottom=-5.5168394604, left=-5.5168394604, near=-2000.0,…"
      ]
     },
     "metadata": {},
     "output_type": "display_data"
    },
    {
     "name": "stdout",
     "output_type": "stream",
     "text": [
      "37 5e2a06228eab11f1fa10a3d7\n"
     ]
    },
    {
     "data": {
      "application/vnd.jupyter.widget-view+json": {
       "model_id": "375670cf9950485c923389c937762880",
       "version_major": 2,
       "version_minor": 0
      },
      "text/plain": [
       "Renderer(background='white', camera=OrthographicCamera(bottom=-4.638773716679999, left=-4.638773716679999, nea…"
      ]
     },
     "metadata": {},
     "output_type": "display_data"
    },
    {
     "name": "stdout",
     "output_type": "stream",
     "text": [
      "38 5e2a05c78eab11f1fa107303\n"
     ]
    },
    {
     "data": {
      "application/vnd.jupyter.widget-view+json": {
       "model_id": "f20dffd4738e45bab1d1455dbc2e2bd6",
       "version_major": 2,
       "version_minor": 0
      },
      "text/plain": [
       "Renderer(background='white', camera=OrthographicCamera(bottom=-3.59863017972, left=-3.59863017972, near=-2000.…"
      ]
     },
     "metadata": {},
     "output_type": "display_data"
    },
    {
     "name": "stdout",
     "output_type": "stream",
     "text": [
      "39 5e2a05c78eab11f1fa107305\n"
     ]
    },
    {
     "data": {
      "application/vnd.jupyter.widget-view+json": {
       "model_id": "d25e9dbcb1df464e82d789cab76ffd06",
       "version_major": 2,
       "version_minor": 0
      },
      "text/plain": [
       "Renderer(background='white', camera=OrthographicCamera(bottom=-3.61821133704, left=-3.61821133704, near=-2000.…"
      ]
     },
     "metadata": {},
     "output_type": "display_data"
    },
    {
     "name": "stdout",
     "output_type": "stream",
     "text": [
      "40 5e2a058d8eab11f1fa1053bd\n"
     ]
    },
    {
     "data": {
      "application/vnd.jupyter.widget-view+json": {
       "model_id": "816c32f07d75469e8b7d3eea9d9e7782",
       "version_major": 2,
       "version_minor": 0
      },
      "text/plain": [
       "Renderer(background='white', camera=OrthographicCamera(bottom=-4.5512410568399995, left=-4.5512410568399995, n…"
      ]
     },
     "metadata": {},
     "output_type": "display_data"
    },
    {
     "name": "stdout",
     "output_type": "stream",
     "text": [
      "41 5e2a05998eab11f1fa105a61\n"
     ]
    },
    {
     "data": {
      "application/vnd.jupyter.widget-view+json": {
       "model_id": "1f5ab3be7b04413cb08c8866c292354d",
       "version_major": 2,
       "version_minor": 0
      },
      "text/plain": [
       "Renderer(background='white', camera=OrthographicCamera(bottom=-3.6014641334399995, left=-3.6014641334399995, n…"
      ]
     },
     "metadata": {},
     "output_type": "display_data"
    },
    {
     "name": "stdout",
     "output_type": "stream",
     "text": [
      "42 5e2a05998eab11f1fa105a63\n"
     ]
    },
    {
     "data": {
      "application/vnd.jupyter.widget-view+json": {
       "model_id": "a3cd6e1d2b42410b8c27125ae8803660",
       "version_major": 2,
       "version_minor": 0
      },
      "text/plain": [
       "Renderer(background='white', camera=OrthographicCamera(bottom=-3.38286123228, left=-3.38286123228, near=-2000.…"
      ]
     },
     "metadata": {},
     "output_type": "display_data"
    },
    {
     "name": "stdout",
     "output_type": "stream",
     "text": [
      "43 5e2a05ea8eab11f1fa10862f\n"
     ]
    },
    {
     "data": {
      "application/vnd.jupyter.widget-view+json": {
       "model_id": "4699a74ff2714850938e9fa20f9a40c5",
       "version_major": 2,
       "version_minor": 0
      },
      "text/plain": [
       "Renderer(background='white', camera=OrthographicCamera(bottom=-3.89849883636, left=-3.89849883636, near=-2000.…"
      ]
     },
     "metadata": {},
     "output_type": "display_data"
    },
    {
     "name": "stdout",
     "output_type": "stream",
     "text": [
      "44 5e2a05ea8eab11f1fa108632\n"
     ]
    },
    {
     "data": {
      "application/vnd.jupyter.widget-view+json": {
       "model_id": "ba3c8148d6ea427bb180790c9785e119",
       "version_major": 2,
       "version_minor": 0
      },
      "text/plain": [
       "Renderer(background='white', camera=OrthographicCamera(bottom=-5.423936619119999, left=-5.423936619119999, nea…"
      ]
     },
     "metadata": {},
     "output_type": "display_data"
    },
    {
     "name": "stdout",
     "output_type": "stream",
     "text": [
      "45 5e2a063d8eab11f1fa10b2e4\n"
     ]
    },
    {
     "data": {
      "application/vnd.jupyter.widget-view+json": {
       "model_id": "6aae4439047f4fbf99623246bc68687f",
       "version_major": 2,
       "version_minor": 0
      },
      "text/plain": [
       "Renderer(background='white', camera=OrthographicCamera(bottom=-4.5113248424400005, left=-4.5113248424400005, n…"
      ]
     },
     "metadata": {},
     "output_type": "display_data"
    },
    {
     "name": "stdout",
     "output_type": "stream",
     "text": [
      "46 5e2a060b8eab11f1fa109652\n"
     ]
    },
    {
     "data": {
      "application/vnd.jupyter.widget-view+json": {
       "model_id": "172b706e47ee4c89b0c4251e934f9ee2",
       "version_major": 2,
       "version_minor": 0
      },
      "text/plain": [
       "Renderer(background='white', camera=OrthographicCamera(bottom=-3.7470676955999997, left=-3.7470676955999997, n…"
      ]
     },
     "metadata": {},
     "output_type": "display_data"
    },
    {
     "name": "stdout",
     "output_type": "stream",
     "text": [
      "47 5e2a05c78eab11f1fa10734f\n"
     ]
    },
    {
     "data": {
      "application/vnd.jupyter.widget-view+json": {
       "model_id": "2beb29434bdb454892982f25572c7b22",
       "version_major": 2,
       "version_minor": 0
      },
      "text/plain": [
       "Renderer(background='white', camera=OrthographicCamera(bottom=-4.17303761748, left=-4.17303761748, near=-2000.…"
      ]
     },
     "metadata": {},
     "output_type": "display_data"
    },
    {
     "name": "stdout",
     "output_type": "stream",
     "text": [
      "48 5e2a05c78eab11f1fa107352\n"
     ]
    },
    {
     "data": {
      "application/vnd.jupyter.widget-view+json": {
       "model_id": "881bc4cf3ee14b0581754b37dad552db",
       "version_major": 2,
       "version_minor": 0
      },
      "text/plain": [
       "Renderer(background='white', camera=OrthographicCamera(bottom=-4.44528826428, left=-4.44528826428, near=-2000.…"
      ]
     },
     "metadata": {},
     "output_type": "display_data"
    },
    {
     "name": "stdout",
     "output_type": "stream",
     "text": [
      "49 5e2a06198eab11f1fa109d71\n"
     ]
    },
    {
     "data": {
      "application/vnd.jupyter.widget-view+json": {
       "model_id": "800deaff6c01447c81a4d6517d21d693",
       "version_major": 2,
       "version_minor": 0
      },
      "text/plain": [
       "Renderer(background='white', camera=OrthographicCamera(bottom=-3.88146374424, left=-3.88146374424, near=-2000.…"
      ]
     },
     "metadata": {},
     "output_type": "display_data"
    }
   ],
   "source": [
    "fname = \"~/Applications/db_access/mol_builder/molecules_critic_builder.pkl\"\n",
    "view_all(fname)"
   ]
  },
  {
   "cell_type": "code",
   "execution_count": 6,
   "metadata": {},
   "outputs": [
    {
     "name": "stdout",
     "output_type": "stream",
     "text": [
      "0 5e2a063d8eab11f1fa10b26f\n"
     ]
    },
    {
     "data": {
      "application/vnd.jupyter.widget-view+json": {
       "model_id": "674d6b8d8384494094657a143f62df7b",
       "version_major": 2,
       "version_minor": 0
      },
      "text/plain": [
       "Renderer(background='white', camera=OrthographicCamera(bottom=-6.88985692392, left=-6.88985692392, near=-2000.…"
      ]
     },
     "metadata": {},
     "output_type": "display_data"
    }
   ],
   "source": [
    "fname = \"~/Applications/db_access/mol_builder/failed_check_mol_valence.pkl\"\n",
    "#fname = \"~/Applications/db_access/mol_builder/failed_check_bond_species.pkl\"\n",
    "view_all(fname, N=681)"
   ]
  },
  {
   "cell_type": "code",
   "execution_count": null,
   "metadata": {},
   "outputs": [],
   "source": []
  }
 ],
 "metadata": {
  "kernelspec": {
   "display_name": "Python 3",
   "language": "python",
   "name": "python3"
  },
  "language_info": {
   "codemirror_mode": {
    "name": "ipython",
    "version": 3
   },
   "file_extension": ".py",
   "mimetype": "text/x-python",
   "name": "python",
   "nbconvert_exporter": "python",
   "pygments_lexer": "ipython3",
   "version": "3.7.4"
  }
 },
 "nbformat": 4,
 "nbformat_minor": 2
}
