{
 "cells": [
  {
   "cell_type": "code",
   "execution_count": null,
   "metadata": {},
   "outputs": [],
   "source": [
    "import os\n",
    "import gnn\n",
    "from gnn.prediction.prediction import PredictionOneReactant\n",
    "from gnn.scripts.predictor import get_prediction"
   ]
  },
  {
   "cell_type": "code",
   "execution_count": null,
   "metadata": {},
   "outputs": [],
   "source": [
    "\n",
    "LATEST_NREL_MODEL = \"20200422\"\n",
    "LATEST_ELECTROLYTE_MODEL = \"20200528\"\n",
    "\n",
    "def single(molecule, model='electrolyte', charge=0):\n",
    "    \"\"\"\n",
    "    Make predictions for a molecule.\n",
    "\n",
    "    MOLECULE is a SMILES string or InChI string.\n",
    "    \"\"\"\n",
    "\n",
    "    model = model.lower()\n",
    "    if model == \"nrel\":\n",
    "        model = os.path.join(model, LATEST_NREL_MODEL)\n",
    "        allowed_charge = [0]\n",
    "    else:   \n",
    "        model = os.path.join(model, LATEST_ELECTROLYTE_MODEL)\n",
    "        allowed_charge = [-1, 0, 1]\n",
    "    \n",
    "    if molecule.lower().startswith(\"inchi=\"):\n",
    "        format = \"inchi\"\n",
    "    else:\n",
    "        format = \"smiles\"\n",
    "    predictor = PredictionOneReactant(\n",
    "        molecule, charge, format, allowed_charge, ring_bond=False\n",
    "    )\n",
    "    molecules, labels, extra_features = predictor.prepare_data()\n",
    "    predictions = get_prediction(model, molecules, labels, extra_features)\n",
    "    predictor.write_results(predictions)"
   ]
  },
  {
   "cell_type": "code",
   "execution_count": null,
   "metadata": {},
   "outputs": [],
   "source": [
    "molecule = \"c1ccc(cc1)CO\"\n",
    "single(molecule)"
   ]
  }
 ],
 "metadata": {
  "kernelspec": {
   "display_name": "Python 3",
   "language": "python",
   "name": "python3"
  },
  "language_info": {
   "codemirror_mode": {
    "name": "ipython",
    "version": 3
   },
   "file_extension": ".py",
   "mimetype": "text/x-python",
   "name": "python",
   "nbconvert_exporter": "python",
   "pygments_lexer": "ipython3",
   "version": "3.7.4"
  }
 },
 "nbformat": 4,
 "nbformat_minor": 4
}
